{
 "cells": [
  {
   "cell_type": "code",
   "execution_count": 21,
   "metadata": {},
   "outputs": [],
   "source": [
    "# Open every file found in /phonemes and move all text to a pandas dataframe\n",
    "\n",
    "import os\n",
    "import pandas as pd\n",
    "import re\n",
    "\n",
    "# Create a list of all files in the phonemes directory, recursively\n",
    "files = []\n",
    "for root, dirs, file in os.walk('phonemes'):\n",
    "    # Only include files that end in .txt\n",
    "    file = [f for f in file if re.match(r'.*\\.txt', f)]\n",
    "    for f in file:\n",
    "        files.append(os.path.join(root, f))\n",
    "\n",
    "# Create a pandas dataframe to store all the data\n",
    "df = pd.DataFrame(columns=['phonemized_utterance'])\n",
    "\n",
    "lines = []\n",
    "\n",
    "# Open each file and append the lines to the dataframe\n",
    "for file in files:\n",
    "    with open(file, 'r') as f:\n",
    "            text = f.readlines()\n",
    "            for line in text:\n",
    "                line = line.strip()\n",
    "                line = line.replace('dʒ', 'd̠ʒ')\n",
    "                line = line.replace('tʃ', 't̠ʃ')\n",
    "                lines.append(line)\n",
    "df['phonemized_utterance'] = lines\n",
    "df['target_child_age'] = [0.2] * len(lines)\n",
    "\n",
    "df.to_csv('providence-dataset/train.csv', index=True)\n",
    "# "
   ]
  },
  {
   "cell_type": "code",
   "execution_count": 22,
   "metadata": {},
   "outputs": [],
   "source": [
    "# Open providence-dataset/valid.csv and remove all columns except for 'phonemized_utterance' and 'target_child_age'\n",
    "df = pd.read_csv('providence-dataset/valid.csv')\n",
    "df = df[['phonemized_utterance', 'target_child_age']]\n",
    "df.to_csv('providence-dataset/valid.csv', index=True)"
   ]
  },
  {
   "cell_type": "code",
   "execution_count": 23,
   "metadata": {},
   "outputs": [],
   "source": [
    "phonemes = set([c for line in lines for c in line.split()])"
   ]
  },
  {
   "cell_type": "code",
   "execution_count": 24,
   "metadata": {},
   "outputs": [
    {
     "data": {
      "text/plain": [
       "{'aɪ',\n",
       " 'aʊ',\n",
       " 'b',\n",
       " 'd',\n",
       " 'd̠ʒ',\n",
       " 'eɪ',\n",
       " 'f',\n",
       " 'h',\n",
       " 'iː',\n",
       " 'j',\n",
       " 'k',\n",
       " 'l',\n",
       " 'm',\n",
       " 'n',\n",
       " 'oʊ',\n",
       " 'p',\n",
       " 'r',\n",
       " 's',\n",
       " 't',\n",
       " 't̠ʃ',\n",
       " 'uː',\n",
       " 'v',\n",
       " 'w',\n",
       " 'z',\n",
       " 'æ',\n",
       " 'ð',\n",
       " 'ŋ',\n",
       " 'ɑ',\n",
       " 'ɔ',\n",
       " 'ɔɪ',\n",
       " 'ə',\n",
       " 'ɛ',\n",
       " 'ɜː',\n",
       " 'ɡ',\n",
       " 'ɪ',\n",
       " 'ɹ',\n",
       " 'ʃ',\n",
       " 'ʊ',\n",
       " 'ʌ',\n",
       " 'ʒ',\n",
       " 'θ'}"
      ]
     },
     "execution_count": 24,
     "metadata": {},
     "output_type": "execute_result"
    }
   ],
   "source": [
    "phonemes"
   ]
  },
  {
   "cell_type": "code",
   "execution_count": 25,
   "metadata": {},
   "outputs": [
    {
     "name": "stderr",
     "output_type": "stream",
     "text": [
      "/var/folders/nz/6tzh0bsj2txd1cz18gpcms_c0000gn/T/ipykernel_63421/143003206.py:2: DtypeWarning: Columns (4,7,8,11) have mixed types. Specify dtype option on import or set low_memory=False.\n",
      "  phoible = pd.read_csv('../data/phoible.csv')\n"
     ]
    },
    {
     "data": {
      "text/plain": [
       "[]"
      ]
     },
     "execution_count": 25,
     "metadata": {},
     "output_type": "execute_result"
    }
   ],
   "source": [
    "# Check which phonemes are not in phoible\n",
    "phoible = pd.read_csv('../data/phoible.csv')\n",
    "phoible = phoible['Phoneme'].unique()\n",
    "missing = [p for p in phonemes if p not in phoible]\n",
    "missing\n"
   ]
  },
  {
   "cell_type": "code",
   "execution_count": null,
   "metadata": {},
   "outputs": [],
   "source": []
  }
 ],
 "metadata": {
  "kernelspec": {
   "display_name": "env",
   "language": "python",
   "name": "python3"
  },
  "language_info": {
   "codemirror_mode": {
    "name": "ipython",
    "version": 3
   },
   "file_extension": ".py",
   "mimetype": "text/x-python",
   "name": "python",
   "nbconvert_exporter": "python",
   "pygments_lexer": "ipython3",
   "version": "3.9.13"
  }
 },
 "nbformat": 4,
 "nbformat_minor": 2
}
