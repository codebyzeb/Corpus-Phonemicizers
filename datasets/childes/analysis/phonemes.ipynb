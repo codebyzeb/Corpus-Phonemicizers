{
 "cells": [
  {
   "cell_type": "markdown",
   "metadata": {},
   "source": [
    "# Phoneme Analysis\n",
    "\n",
    "Comparing phonemes outputted by phonemization to phonemes stored in [phoible](https://phoible.org/). This is used to improve the phonemization by adding folding dictionaries to increase the coherence of the resulting phoneme set for each language."
   ]
  },
  {
   "cell_type": "code",
   "execution_count": 1,
   "metadata": {},
   "outputs": [
    {
     "name": "stderr",
     "output_type": "stream",
     "text": [
      "/var/folders/nz/6tzh0bsj2txd1cz18gpcms_c0000gn/T/ipykernel_69141/3962830865.py:5: DtypeWarning: Columns (4,7,8,11) have mixed types. Specify dtype option on import or set low_memory=False.\n",
      "  phoible = pd.read_csv('../../../data/phoible.csv')\n"
     ]
    }
   ],
   "source": [
    "import pandas as pd\n",
    "\n",
    "from tqdm import tqdm\n",
    "\n",
    "phoible = pd.read_csv('../../../data/phoible.csv')\n",
    "phonemes = phoible.Phoneme.unique()"
   ]
  },
  {
   "cell_type": "code",
   "execution_count": 2,
   "metadata": {},
   "outputs": [],
   "source": [
    "def find_unseen_phonemes(counts, phonemes):\n",
    "    \"\"\" Finds phonemes in counts unknown in the phonemes list, and phonemes in the phonemes list not seen in counts \"\"\"\n",
    "    unseen = set() \n",
    "    unknown = {} \n",
    "    for phoneme in phonemes:\n",
    "        if phoneme not in counts:\n",
    "            unseen.add(phoneme)\n",
    "    for phoneme, count in counts.items():\n",
    "        if phoneme not in phonemes and phoneme != 'WORD_BOUNDARY':\n",
    "            unknown[phoneme] = count\n",
    "    unknown = {k: v for k, v in sorted(unknown.items(), key=lambda item: item[1], reverse=True)}\n",
    "    return unseen, unknown\n",
    "\n",
    "def find_phoneme(csv_file, phoneme, count=1):\n",
    "    \"\"\" Find lines where phoneme appears and also print gloss \"\"\"\n",
    "    dataset = pd.read_csv(csv_file)\n",
    "    phonemized = list(dataset['phonemized_utterance'])\n",
    "    for i, line in enumerate(phonemized):\n",
    "        if phoneme in line:\n",
    "            print(f'Line {i}: {dataset[\"gloss\"][i]} - {line}')\n",
    "            count -= 1\n",
    "        if count == 0:\n",
    "            break\n",
    "\n",
    "def find_words_with_phoneme(csv_file, phoneme, single_phoneme=False):\n",
    "    words_counts = {}\n",
    "    dataset = pd.read_csv(csv_file)\n",
    "    phonemized = list(dataset['phonemized_utterance'])\n",
    "    glosses = list(dataset['gloss'])\n",
    "    for i, line in tqdm(enumerate(phonemized)):\n",
    "        if phoneme in line:\n",
    "            words = glosses[i].split()\n",
    "            phonemic_words = line.split(' WORD_BOUNDARY ')\n",
    "            for j, word in enumerate(phonemic_words):\n",
    "                if (single_phoneme and phoneme in word.split()) or (not single_phoneme and phoneme in word):\n",
    "                    if j >= len(words):\n",
    "                        continue\n",
    "                    entry = words[j] + '/' + word.replace(' WORD_BOUNDARY', '')\n",
    "                    if entry not in words_counts:\n",
    "                        words_counts[entry] = 0\n",
    "                    words_counts[entry] += 1\n",
    "    # Sort by counts\n",
    "    words_counts = {k: v for k, v in sorted(words_counts.items(), key=lambda item: item[1], reverse=True)}\n",
    "    return words_counts\n",
    "\n",
    "def print_unseen_phonemes(unseen, unknown):\n",
    "    print(f'Unknown phonemes: {unknown if unknown else \"None\"}')\n",
    "    print(f'Unseen phonemes: {unseen if unseen else \"None\"}')\n",
    "\n",
    "def compare_phoneme_sets(csv_file, iso_code, language_names, inventory_id=None):\n",
    "    \"\"\" Compares phonemes in the csv file with the phonemes in phoible.\n",
    "    \n",
    "    Four levels of comparison are made:\n",
    "    1. Phonemes in the dataset not seen in any parts of phoible\n",
    "    2. Phonemes in the dataset not seen in any phoible language with a specific language code (e.g. 'eng' for English)\n",
    "    3. Phonemes in the dataset not seen in the specific inventories of phoible that match the language names (e.g. ['American English', 'English (American)'] for English)\n",
    "    4. (Optional) Phonemes in the dataset not seen in a specific inventory of phoible (e.g. '2175' for English (American))\n",
    "    \"\"\"\n",
    "    if not csv_file.endswith('.csv'):\n",
    "        dataset = pd.read_csv('../CHILDES-dataset/'+csv_file+'/train.csv')\n",
    "    else:\n",
    "        dataset = pd.read_csv(csv_file)\n",
    "\n",
    "    token_counts = {}\n",
    "    for line in dataset['phonemized_utterance']:\n",
    "        # Our tool combines tone markers with the preceeding vowel, we remove tone markers in our comparison so that we don't get many \"unknown phonemes\" consisting of a known vowel + tone marker.\n",
    "        line = line.replace('˧˥', '').replace('˧˩̰', '').replace('˩˧', '').replace('˨', '').replace('˥', '').replace('˧', '').replace('˧˥', '').replace('˧˩̰', '').replace('˩˧','').replace('˩','')\n",
    "        tokens = line.strip().split()\n",
    "        for token in tokens:\n",
    "            if token not in token_counts:\n",
    "                token_counts[token] = 0\n",
    "            token_counts[token] += 1\n",
    "\n",
    "    print(f'Total phonemes in the dataset: {sum(token_counts.values())}')\n",
    "    print(f'Unique phonemes: {list(token_counts.keys())}\\n')\n",
    "\n",
    "    _, unknown = find_unseen_phonemes(token_counts, phonemes)\n",
    "    print('-'*100)\n",
    "    print('ALL PHOIBLE:')\n",
    "    print('Comparing the phonemes seen in the data with all phoible phonemes:')\n",
    "    print(f'Unknown phonemes: {unknown if unknown else \"None\"}')\n",
    "\n",
    "\n",
    "    language_phonemes = phoible[phoible.ISO6393 == iso_code].Phoneme.unique()\n",
    "    language_unseen, language_unknown = find_unseen_phonemes(token_counts, language_phonemes)\n",
    "    print('-'*100)\n",
    "    print('LANGUAGE CODE:')\n",
    "    print(f'\\nComparing the phonemes seen in the data with just the phonemes in phoible with the {iso_code} language code:')\n",
    "    print_unseen_phonemes(language_unseen, language_unknown)\n",
    "    \n",
    "    possible_language_names = phoible[phoible.ISO6393 == iso_code].LanguageName.unique()\n",
    "    print(f'\\nPhoible inventories names with the {iso_code} language code: {str(list(possible_language_names))}')\n",
    "\n",
    "    possible_dialects = phoible[phoible.ISO6393 == iso_code].SpecificDialect.unique()\n",
    "    print(f'Phoible dialects names with the {iso_code} language code: {str(list(possible_dialects))}')\n",
    "\n",
    "    print('-'*100)\n",
    "    print('INVENTORIES:')\n",
    "\n",
    "    all_inventory_phonemes = set()\n",
    "    inventory_ids = set()\n",
    "    for inventory in language_names:\n",
    "        dialect_phonemes = phoible[phoible.LanguageName == inventory].Phoneme.unique()\n",
    "        ids = phoible[phoible.LanguageName == inventory].InventoryID.unique()\n",
    "        all_inventory_phonemes.update(dialect_phonemes)\n",
    "        inventory_ids.update(ids)\n",
    "\n",
    "    dialect_unseen, dialect_unknown = find_unseen_phonemes(token_counts, all_inventory_phonemes)\n",
    "    print(f'\\nNow comparing the phonemes seen in the data with the phonemes in phoible with the specific language names {language_names}:')\n",
    "    print(f'Inventory IDs matching the inventory names: {str(inventory_ids)}')\n",
    "    print_unseen_phonemes(dialect_unseen, dialect_unknown)\n",
    "\n",
    "    if inventory_id is not None:\n",
    "        inventory_phonemes = phoible[phoible.InventoryID == inventory_id].Phoneme.unique()\n",
    "        inventory_unseen, inventory_unknown = find_unseen_phonemes(token_counts, inventory_phonemes)\n",
    "        print('-'*100)\n",
    "        print(f'INVENTORY ID:')\n",
    "        print(f'\\nNow comparing the phonemes seen in the data with the phonemes in phoible with the specific inventory {inventory_id}:')\n",
    "        print_unseen_phonemes(inventory_unseen, inventory_unknown)\n"
   ]
  },
  {
   "cell_type": "markdown",
   "metadata": {},
   "source": [
    "# English (US) Analysis\n",
    "\n",
    "The English section of our corpus is taken from Eng-NA in CHILDES, so we compare to all English languages and more specifically the two American English sections of phoible. For English, we use phonemizer.\n",
    "\n",
    "The output of espeak, adjusted by our folding dictionary, brings the phoneme inventory to be pretty close to the American English phoneme inventories (specifically invenetory 2175) in phoible. The unseen phonemes mostly overlap with the unknown phonemes, with slight altered diacritics.\n",
    "\n",
    "For English, we do not try to match some of the remaining unseen phonemes with the unknown phonemes, as our folding dictionary is based on the phonemizing processed used by [BabySLM](https://github.com/MarvinLvn/BabySLM) and we need to stick to the same transcription process if we want our datasets to match theirs for training and evaluation. "
   ]
  },
  {
   "cell_type": "code",
   "execution_count": 3,
   "metadata": {},
   "outputs": [
    {
     "name": "stdout",
     "output_type": "stream",
     "text": [
      "Total phonemes in the dataset: 29029125\n",
      "Unique phonemes: ['s', 'iː', 'WORD_BOUNDARY', 'ð', 'ɛ', 'ɹ', 'z', 'ʌ', 'f', 'eɪ', 'w', 'ɪ', 'ɡ', 'l', 'æ', 'ɑ', 'h', 'ə', 'ʊ', 'k', 'p', 'uː', 'b', 'i', 't', 'aɪ', 'θ', 'ŋ', 'j', 'ɔ', 'm', 'ɔɪ', 'n', 'd', 'oʊ', 'aʊ', 'v', 'ɜː', 't̠ʃ', 'd̠ʒ', 'ʃ', 'iə', 'ʒ', 'ɑ̃', 'r', 'x', 'nʲ']\n",
      "\n",
      "----------------------------------------------------------------------------------------------------\n",
      "ALL PHOIBLE:\n",
      "Comparing the phonemes seen in the data with all phoible phonemes:\n",
      "Unknown phonemes: None\n",
      "----------------------------------------------------------------------------------------------------\n",
      "LANGUAGE CODE:\n",
      "\n",
      "Comparing the phonemes seen in the data with just the phonemes in phoible with the eng language code:\n",
      "Unknown phonemes: {'ɑ̃': 13, 'nʲ': 8}\n",
      "Unseen phonemes: {'pʰ', 'ɑe', 'øː', 'ɵː', 'əʉ', 'kʰ', 'ei', 'æɔ', 'o̞ː', 'ɐː', 'kx', 'æo', 'ɚː', 'ɐʉ', 'ɘ', 'ɒː', 'oe', 'iɛ', 'eə', 'aː', 'ʔ', 'ɐ', 'ɪə', 'tʰ', 'ʍ', 'æɪ', 'ɛʉ', 'əː', 'ʊə', 'e', 'ɚ', 'ɔː', 'ɛː', 'eɪ̯', 'eː', 'ɑː', 'ɻ', 'oː', 'ɒ', 'ʉə', 'oɪ', 'æe', 'ɒɯ', 'ts', 'u', 'iɪ', 'e̞', 'a', 'ʉː', 'əʊ'}\n",
      "\n",
      "Phoible inventories names with the eng language code: ['English', 'English (American)', 'American English', 'English (Australian)', 'English (British)', 'English (New Zealand)']\n",
      "Phoible dialects names with the eng language code: [nan, 'Western and Mid-Western US; Southern California', 'Southeastern Michigan', 'Liverpool', 'Pākehā', 'Tyneside English (spoken in Newcastle)', 'English (RP)', 'English (Liverpool)']\n",
      "----------------------------------------------------------------------------------------------------\n",
      "INVENTORIES:\n",
      "\n",
      "Now comparing the phonemes seen in the data with the phonemes in phoible with the specific language names ['English (American)', 'American English']:\n",
      "Inventory IDs matching the inventory names: {2176, 2175}\n",
      "Unknown phonemes: {'t': 1745826, 'k': 801748, 'iː': 504559, 'eɪ': 444812, 'p': 369875, 'ɜː': 95486, 'iə': 18857, 'r': 28, 'x': 24, 'ɑ̃': 13, 'nʲ': 8}\n",
      "Unseen phonemes: {'pʰ', 'ɚː', 'ɚ', 'u', 'kʰ', 'eɪ̯', 'iɪ', 'tʰ', 'ei'}\n",
      "----------------------------------------------------------------------------------------------------\n",
      "INVENTORY ID:\n",
      "\n",
      "Now comparing the phonemes seen in the data with the phonemes in phoible with the specific inventory 2175:\n",
      "Unknown phonemes: {'t': 1745826, 'k': 801748, 'iː': 504559, 'eɪ': 444812, 'p': 369875, 'ɔ': 361818, 'i': 261964, 'ɜː': 95486, 'iə': 18857, 'r': 28, 'x': 24, 'ɑ̃': 13, 'nʲ': 8}\n",
      "Unseen phonemes: {'pʰ', 'ɚː', 'eɪ̯', 'kʰ', 'iɪ', 'tʰ'}\n"
     ]
    }
   ],
   "source": [
    "compare_phoneme_sets('Eng-NA', 'eng', ['English (American)', 'American English'], 2175)"
   ]
  },
  {
   "cell_type": "markdown",
   "metadata": {},
   "source": [
    "# English (UK) Analysis\n",
    "\n",
    "The English section of our corpus is taken from Eng-UK in CHILDES, so we compare to all English languages and more specifically the British English sections of phoible. We use the `en-gb` espeak accent which uses RP, so we compare to inventory 2252 (English RP). Note that much of the data comes from areas of the UK that do not use RP. \n",
    "\n",
    "With a few adjustments in our folding dictionary, we get a pretty good match to inventory 2252. There are just two extra vowels that the phonemizer outputs (`i`, and `ɐ`) as well as syllabic `n̩`. The rest of the unknown phonemes are sufficiently rare."
   ]
  },
  {
   "cell_type": "code",
   "execution_count": 4,
   "metadata": {},
   "outputs": [
    {
     "name": "stdout",
     "output_type": "stream",
     "text": [
      "Total phonemes in the dataset: 20714353\n",
      "Unique phonemes: ['eɪ', 't̠ʃ', 'WORD_BOUNDARY', 'w', 'ɒ', 'tʰ', 'd', 'ʌ', 'z', 'ð', 'æ', 'm', 'iː', 'n', 'e', 'kʰ', 's', 'ɪ', 'ɡ', 'ʊ', 'ɑː', 'ɔː', 'l', 'ə', 'ɹ', 'i', 'əʊ', 'uː', 'j', 'h', 'ɪə', 'ɔɪ', 'v', 'aɪ', 'f', 'ɜː', 'b', 'pʰ', 'd̠ʒ', 'ɐ', 'eə', 'ʃ', 'θ', 'ŋ', 'aʊ', 'ʊə', 'n̩', 'ʒ', 'r', 'ɑ̃', 'aː', 'ɔ', 'x']\n",
      "\n",
      "----------------------------------------------------------------------------------------------------\n",
      "ALL PHOIBLE:\n",
      "Comparing the phonemes seen in the data with all phoible phonemes:\n",
      "Unknown phonemes: None\n",
      "----------------------------------------------------------------------------------------------------\n",
      "LANGUAGE CODE:\n",
      "\n",
      "Comparing the phonemes seen in the data with just the phonemes in phoible with the eng language code:\n",
      "Unknown phonemes: {'n̩': 3004, 'ɑ̃': 28}\n",
      "Unseen phonemes: {'ɑe', 'øː', 'ɵː', 'əʉ', 'ei', 'æɔ', 'o̞ː', 'p', 'ɐː', 'kx', 'æo', 'ɚː', 'ɐʉ', 'ɘ', 'ɒː', 'oe', 't', 'ɑ', 'iɛ', 'ʔ', 'iə', 'ʍ', 'æɪ', 'k', 'ɛʉ', 'əː', 'ɚ', 'oʊ', 'ɛː', 'eɪ̯', 'eː', 'ɻ', 'oː', 'ʉə', 'oɪ', 'æe', 'ɒɯ', 'ts', 'u', 'ɛ', 'iɪ', 'e̞', 'a', 'ʉː'}\n",
      "\n",
      "Phoible inventories names with the eng language code: ['English', 'English (American)', 'American English', 'English (Australian)', 'English (British)', 'English (New Zealand)']\n",
      "Phoible dialects names with the eng language code: [nan, 'Western and Mid-Western US; Southern California', 'Southeastern Michigan', 'Liverpool', 'Pākehā', 'Tyneside English (spoken in Newcastle)', 'English (RP)', 'English (Liverpool)']\n",
      "----------------------------------------------------------------------------------------------------\n",
      "INVENTORIES:\n",
      "\n",
      "Now comparing the phonemes seen in the data with the phonemes in phoible with the specific language names ['English (British)', 'English']:\n",
      "Inventory IDs matching the inventory names: {160, 2178, 2180, 2252, 2515}\n",
      "Unknown phonemes: {'i': 188395, 'n̩': 3004, 'ɑ̃': 28}\n",
      "Unseen phonemes: {'øː', 'p', 'o̞ː', 'iɛ', 'ɒː', 't', 'ʔ', 'ʍ', 'ɛʉ', 'k', 'əː', 'ɛː', 'eː', 'ɻ', 'oː', 'ɛ', 'e̞', 'a', 'ʉː'}\n",
      "----------------------------------------------------------------------------------------------------\n",
      "INVENTORY ID:\n",
      "\n",
      "Now comparing the phonemes seen in the data with the phonemes in phoible with the specific inventory 2252:\n",
      "Unknown phonemes: {'i': 188395, 'ɐ': 180699, 'n̩': 3004, 'ɑ̃': 28, 'r': 27, 'aː': 25, 'x': 5, 'ɔ': 2}\n",
      "Unseen phonemes: None\n"
     ]
    }
   ],
   "source": [
    "compare_phoneme_sets('Eng-UK', 'eng', ['English (British)', 'English'], 2252)"
   ]
  },
  {
   "cell_type": "markdown",
   "metadata": {},
   "source": [
    "# German Analysis\n",
    "\n",
    "We compare all German inventories in phoible to our German dataset. For German, we use the epitran backend.\n",
    "\n",
    "With our folding dictionary, we are close to inventory 2398. \n",
    "\n",
    "The phoneme `ʒ` is unseen and the unknown phonemes `x` and `ɐ` are missing from inventory 2398 but exist in other german inventories. The rest are sufficiently rare.\n"
   ]
  },
  {
   "cell_type": "code",
   "execution_count": 5,
   "metadata": {},
   "outputs": [
    {
     "name": "stdout",
     "output_type": "stream",
     "text": [
      "Total phonemes in the dataset: 18573393\n",
      "Unique phonemes: ['h', 'a', 'l', 'oː', 'WORD_BOUNDARY', 'j', 'aː', 'm', 'd̺', 's', 't̺ʰ', 'iː', 'n', 'z', 'ɛ', 'ts', 'ɪ', 'ɛː', 'ʀ', 'ʊ', 'ɡ', 'ŋ', 'v', 'uː', 'ç', 'b', 'x', 'ɔ', 'ʃ', 'eː', 'œ', 'kʰ', 'f', 'pʰ', 'øː', 'yː', 'ʏ', 't̠ʃ', 'pf', 'ə', 'q', 'ɐ', ':', 'E', 'd̠ʒ', 'ˆ', 'aː̈', 'uː̈', 'e̯', 'D', '̊', 'ä', '́', 'iː̂', 'ʃˆ', 'mˆ', 'eːˆ', 'rˆ', 'kˆ']\n",
      "\n",
      "----------------------------------------------------------------------------------------------------\n",
      "ALL PHOIBLE:\n",
      "Comparing the phonemes seen in the data with all phoible phonemes:\n",
      "Unknown phonemes: {'E': 74, ':': 68, 'mˆ': 17, 'iː̂': 15, 'aː̈': 10, 'D': 9, 'ʃˆ': 7, 'kˆ': 5, 'ˆ': 2, 'uː̈': 2, '̊': 2, 'eːˆ': 2, '́': 1, 'rˆ': 1}\n",
      "----------------------------------------------------------------------------------------------------\n",
      "LANGUAGE CODE:\n",
      "\n",
      "Comparing the phonemes seen in the data with just the phonemes in phoible with the deu language code:\n",
      "Unknown phonemes: {'E': 74, ':': 68, 'q': 67, 'mˆ': 17, 'iː̂': 15, 'aː̈': 10, 'D': 9, 'e̯': 8, 'ʃˆ': 7, 'kˆ': 5, 'ä': 3, 'ˆ': 2, 'uː̈': 2, '̊': 2, 'eːˆ': 2, '́': 1, 'rˆ': 1}\n",
      "Unseen phonemes: {'d', 'p', 'k', 'ai', 't', 'ɔi', 'aʊ', 'e', 'ɔɪ', 'ʏː', 'aɪ', 'y', 'ʔ', 'tʰ', 'ʒ', 'ʁ', 'au'}\n",
      "\n",
      "Phoible inventories names with the deu language code: ['German', 'GERMAN']\n",
      "Phoible dialects names with the deu language code: [nan, 'German (Standard)']\n",
      "----------------------------------------------------------------------------------------------------\n",
      "INVENTORIES:\n",
      "\n",
      "Now comparing the phonemes seen in the data with the phonemes in phoible with the specific language names ['German', 'GERMAN']:\n",
      "Inventory IDs matching the inventory names: {2184, 161, 304, 2398}\n",
      "Unknown phonemes: {'E': 74, ':': 68, 'q': 67, 'mˆ': 17, 'iː̂': 15, 'aː̈': 10, 'D': 9, 'e̯': 8, 'ʃˆ': 7, 'kˆ': 5, 'ä': 3, 'ˆ': 2, 'uː̈': 2, '̊': 2, 'eːˆ': 2, '́': 1, 'rˆ': 1}\n",
      "Unseen phonemes: {'d', 'p', 'ai', 'k', 'aʊ', 't', 'ɔɪ', 'e', 'ʏː', 'ɔi', 'tʰ', 'aɪ', 'y', 'ʔ', 'au', 'ʒ', 'ʁ'}\n",
      "----------------------------------------------------------------------------------------------------\n",
      "INVENTORY ID:\n",
      "\n",
      "Now comparing the phonemes seen in the data with the phonemes in phoible with the specific inventory 2398:\n",
      "Unknown phonemes: {'x': 241683, 'ɐ': 2721, 'E': 74, ':': 68, 'q': 67, 'mˆ': 17, 'iː̂': 15, 'aː̈': 10, 'D': 9, 'e̯': 8, 'ʃˆ': 7, 'kˆ': 5, 'ä': 3, 'ˆ': 2, 'uː̈': 2, '̊': 2, 'eːˆ': 2, '́': 1, 'rˆ': 1}\n",
      "Unseen phonemes: {'ʒ'}\n"
     ]
    }
   ],
   "source": [
    "compare_phoneme_sets('German', 'deu', ['German','GERMAN'], 2398)"
   ]
  },
  {
   "cell_type": "markdown",
   "metadata": {},
   "source": [
    "# Japanese Analysis\n",
    "\n",
    "We compare all Japanese inventories in phoible to our Japanese dataset. For Japanese, we use phonemizer.\n",
    "\n",
    "The three phoible Japanese inventories do not seem to accurately reflect the Wikipedia page on Japanese phonology, but we get close to inventory 2196. There are few unseen phonemes `ɴ` and `u`. Since phonemizer uses a segments backend, we do not output `ɴ` in the correct contexts, but it is a rather infrequent phoneme. `ɯː` might be being output instead of `u`. \n",
    "\n",
    "There are many unseen phonemes, many of which are valid phonemes according to the Wikipedia entry and appear in some of the other inventories. \n",
    "\n"
   ]
  },
  {
   "cell_type": "code",
   "execution_count": 6,
   "metadata": {},
   "outputs": [
    {
     "name": "stdout",
     "output_type": "stream",
     "text": [
      "Total phonemes in the dataset: 8714043\n",
      "Unique phonemes: ['b', 'aː', 'WORD_BOUNDARY', 's', 'ɯ', 'm', 'i', 'h', 'a', 'ɾ', 'e', 't̠ʃ', 'n', 'ɯː', 'j', 'o', 'ʃ', 'd', 'ɡ', 'k', 'oː', 'd̠ʒ', 't', 'z', 'eː', 'w', 'p', 'pʲ', 'ɲ', 'ts', 'ɸ', 'ɾʲ', 'kʲ', 'ç', 'ɡʲ', 'bʲ', 'mʲ']\n",
      "\n",
      "----------------------------------------------------------------------------------------------------\n",
      "ALL PHOIBLE:\n",
      "Comparing the phonemes seen in the data with all phoible phonemes:\n",
      "Unknown phonemes: None\n",
      "----------------------------------------------------------------------------------------------------\n",
      "LANGUAGE CODE:\n",
      "\n",
      "Comparing the phonemes seen in the data with just the phonemes in phoible with the jpn language code:\n",
      "Unknown phonemes: {'oː': 134200, 'eː': 20028, 'ɸ': 19093, 'kʲ': 8621, 'ɲ': 4225, 'ɾʲ': 2226, 'ɡʲ': 1705, 'ç': 1022, 'pʲ': 1013, 'bʲ': 790, 'mʲ': 121}\n",
      "Unseen phonemes: {'ɴ', 'ɔ', 'kː', 'd̪', 't̪', 'pː', 'ɯ̃', 'tsː', '˧', 'ʔ', 'n̪', 'sː', 's̪', 'z̪', 'ɔː', 'ɛː', 'çː', 'tː', 'ŋ', 'iː', '˥', 'd̠', 'ʃː', 'u', 'ɛ', 't̠ʃː'}\n",
      "\n",
      "Phoible inventories names with the jpn language code: ['Japanese', 'JAPANESE']\n",
      "Phoible dialects names with the jpn language code: [nan, 'Japanese (Tokyo or other areas with similar pitch accent systems)']\n",
      "----------------------------------------------------------------------------------------------------\n",
      "INVENTORIES:\n",
      "\n",
      "Now comparing the phonemes seen in the data with the phonemes in phoible with the specific language names ['Japanese', 'JAPANESE']:\n",
      "Inventory IDs matching the inventory names: {384, 2196, 197}\n",
      "Unknown phonemes: {'oː': 134200, 'eː': 20028, 'ɸ': 19093, 'kʲ': 8621, 'ɲ': 4225, 'ɾʲ': 2226, 'ɡʲ': 1705, 'ç': 1022, 'pʲ': 1013, 'bʲ': 790, 'mʲ': 121}\n",
      "Unseen phonemes: {'ɴ', 'ɔ', 'kː', 'd̪', 't̪', 'pː', 'ɯ̃', 'tsː', '˧', 'ʔ', 'n̪', 'sː', 's̪', 'z̪', 'ɔː', 'ɛː', 'çː', 'tː', 'ŋ', 'iː', '˥', 'd̠', 'ʃː', 'u', 'ɛ', 't̠ʃː'}\n",
      "----------------------------------------------------------------------------------------------------\n",
      "INVENTORY ID:\n",
      "\n",
      "Now comparing the phonemes seen in the data with the phonemes in phoible with the specific inventory 2196:\n",
      "Unknown phonemes: {'ɯ': 395040, 'ɾ': 298843, 'oː': 134200, 'ʃ': 126187, 't̠ʃ': 117604, 'd̠ʒ': 56069, 'aː': 49703, 'ɯː': 30954, 'eː': 20028, 'ɸ': 19093, 'kʲ': 8621, 'ɲ': 4225, 'ɾʲ': 2226, 'ɡʲ': 1705, 'ç': 1022, 'pʲ': 1013, 'bʲ': 790, 'mʲ': 121}\n",
      "Unseen phonemes: {'u', 'ɴ', 'd̠'}\n"
     ]
    }
   ],
   "source": [
    "compare_phoneme_sets('Japanese', 'jpn', ['Japanese', 'JAPANESE'], 2196)"
   ]
  },
  {
   "cell_type": "markdown",
   "metadata": {},
   "source": [
    "# Indonesian Analysis\n",
    "\n",
    "We compare all Indonesian inventories in phoible to our Indonesian dataset. For Indonesian, we use the epitran backend. With minimal folding, we are close to inventory 1690.\n",
    "\n",
    "The only unknown phoneme is `j`, which appears in the other Indonesian inventory. There are a few unseen phonemes, `e`, `ʔ`, `ɛ`, `v` and `y`. Three of these are not listed in the other inventory.\n",
    "\n"
   ]
  },
  {
   "cell_type": "code",
   "execution_count": 7,
   "metadata": {},
   "outputs": [
    {
     "name": "stdout",
     "output_type": "stream",
     "text": [
      "Total phonemes in the dataset: 7807672\n",
      "Unique phonemes: ['n', 'i', 'h', 'WORD_BOUNDARY', 'l', 'o', 't', 'm', 'a', 'w', 's', 'd̠ʒ', 'ŋ', 'd', 'p', 'ə', 'ɡ', 'b', 'u', 'r', 'k', 'ɲ', 'j', 't̠ʃ', 'f', 'z', 'ʃ', 'x']\n",
      "\n",
      "----------------------------------------------------------------------------------------------------\n",
      "ALL PHOIBLE:\n",
      "Comparing the phonemes seen in the data with all phoible phonemes:\n",
      "Unknown phonemes: None\n",
      "----------------------------------------------------------------------------------------------------\n",
      "LANGUAGE CODE:\n",
      "\n",
      "Comparing the phonemes seen in the data with just the phonemes in phoible with the ind language code:\n",
      "Unknown phonemes: None\n",
      "Unseen phonemes: {'t̪', 'e', 'ai̯', 'v', 'au̯', 'y', 'ʔ', 'oi̯', 'ɛ'}\n",
      "\n",
      "Phoible inventories names with the ind language code: ['Indonesian']\n",
      "Phoible dialects names with the ind language code: ['Central Java', 'Standard']\n",
      "----------------------------------------------------------------------------------------------------\n",
      "INVENTORIES:\n",
      "\n",
      "Now comparing the phonemes seen in the data with the phonemes in phoible with the specific language names ['Indonesian']:\n",
      "Inventory IDs matching the inventory names: {1144, 1690}\n",
      "Unknown phonemes: None\n",
      "Unseen phonemes: {'t̪', 'e', 'ai̯', 'v', 'au̯', 'y', 'ʔ', 'oi̯', 'ɛ'}\n",
      "----------------------------------------------------------------------------------------------------\n",
      "INVENTORY ID:\n",
      "\n",
      "Now comparing the phonemes seen in the data with the phonemes in phoible with the specific inventory 1690:\n",
      "Unknown phonemes: {'j': 133575}\n",
      "Unseen phonemes: {'e', 'v', 'y', 'ɛ', 'ʔ'}\n"
     ]
    }
   ],
   "source": [
    "compare_phoneme_sets('../processed/Indonesian/train.csv', 'ind', ['Indonesian'], 1690)"
   ]
  },
  {
   "cell_type": "markdown",
   "metadata": {},
   "source": [
    "# French Analysis\n",
    "\n",
    "We compare all French inventories in phoible to our French dataset. For French, we use phonemizer.\n",
    "\n",
    "We find a few unknown phonemes, all very infrequent and most are valid allophones according to the French inventory:\n",
    "* `yː` is an allophone of `y`\n",
    "* `aː` is an allophone of `a̟`\n",
    "* `iː` is an allophone of `i`\n",
    "\n",
    "The remaining two phonemes `t̠ʃ` and `d̠ʒ` seem to come from loan words such as `sandwhich` and `jazz` so seem acceptable to keep. \n",
    "\n",
    "Comparing to the specific inventory ID `2266` there is only one unseen phoneme, `ɥ` and the unknown phonemes are either those mentioned above, rare, or contained in one of the other French inventories (such as `œ̃`)."
   ]
  },
  {
   "cell_type": "code",
   "execution_count": 8,
   "metadata": {},
   "outputs": [
    {
     "name": "stdout",
     "output_type": "stream",
     "text": [
      "Total phonemes in the dataset: 7332327\n",
      "Unique phonemes: ['t', 'y', 'WORD_BOUNDARY', 'v', 'j', 'ɛ̃', 'w', 'a', 'ʁ', 'd', 'e', 'ʒ', 'm', 'ɔ̃', 'p', 'ɛ', 'f', 'ɔ', 'ɑ̃', 's', 'z', 'l', 'ə', 'b', 'k', 'u', 'o', 'ʃ', 'ɡ', 'i', 'n', 'œ̃', 'ø', 'œ', 'oː', 'yː', 'ɲ', 'aː', 't̠ʃ', 'd̠ʒ', 'iː', 'ŋ']\n",
      "\n",
      "----------------------------------------------------------------------------------------------------\n",
      "ALL PHOIBLE:\n",
      "Comparing the phonemes seen in the data with all phoible phonemes:\n",
      "Unknown phonemes: None\n",
      "----------------------------------------------------------------------------------------------------\n",
      "LANGUAGE CODE:\n",
      "\n",
      "Comparing the phonemes seen in the data with just the phonemes in phoible with the fra language code:\n",
      "Unknown phonemes: {'yː': 1393, 'aː': 1335, 't̠ʃ': 29, 'd̠ʒ': 9, 'iː': 3}\n",
      "Unseen phonemes: {'k̟', 'ɦ', 'd̪', 't̪', 'r', 'l̪', 'ɑ', 'n̪', 'ɡ̟', 'ø̞', 's̪', 'z̪', 'ɛː', 'ɒ̃', 'ɒ', 'ɥ', 'a̟', 'õ', 'æ̃', 'ʀ'}\n",
      "\n",
      "Phoible inventories names with the fra language code: ['French', 'FRENCH']\n",
      "Phoible dialects names with the fra language code: [nan, 'French (Parisian speaker)']\n",
      "----------------------------------------------------------------------------------------------------\n",
      "INVENTORIES:\n",
      "\n",
      "Now comparing the phonemes seen in the data with the phonemes in phoible with the specific language names ['French', 'FRENCH']:\n",
      "Inventory IDs matching the inventory names: {162, 331, 2269, 2182}\n",
      "Unknown phonemes: {'yː': 1393, 'aː': 1335, 't̠ʃ': 29, 'd̠ʒ': 9, 'iː': 3}\n",
      "Unseen phonemes: {'k̟', 'ɦ', 'd̪', 't̪', 'r', 'l̪', 'ɑ', 'n̪', 'ɡ̟', 'ø̞', 's̪', 'z̪', 'ɛː', 'ɒ̃', 'ɒ', 'ɥ', 'a̟', 'õ', 'æ̃', 'ʀ'}\n",
      "----------------------------------------------------------------------------------------------------\n",
      "INVENTORY ID:\n",
      "\n",
      "Now comparing the phonemes seen in the data with the phonemes in phoible with the specific inventory 2269:\n",
      "Unknown phonemes: {'œ̃': 28778, 'oː': 2072, 'yː': 1393, 'aː': 1335, 't̠ʃ': 29, 'd̠ʒ': 9, 'ŋ': 4, 'iː': 3}\n",
      "Unseen phonemes: {'ɥ'}\n"
     ]
    }
   ],
   "source": [
    "compare_phoneme_sets('French', 'fra', ['French', 'FRENCH'], 2269)"
   ]
  },
  {
   "cell_type": "markdown",
   "metadata": {},
   "source": [
    "# Spanish Analysis\n",
    "\n",
    "We compare all Spanish inventories in phoible to our Spanish dataset. For Spanish, we use epitran.\n",
    "\n",
    "With our folding dictionary, we get close to inventory 164. The unseen phonemes `θ` and `ʎ` do not always appear in Spanish phonology, depending on accent. `ʝ` is unknown but typically replaces `ʎ` in certain accents. `d` and `g` are unseen for this inventory but are listed in others. `ʃ` is unknown but mostly comes from english loan words. The remaining unknown phonemes are sufficiently rare. \n"
   ]
  },
  {
   "cell_type": "code",
   "execution_count": 9,
   "metadata": {},
   "outputs": [
    {
     "name": "stdout",
     "output_type": "stream",
     "text": [
      "Total phonemes in the dataset: 5633193\n",
      "Unique phonemes: ['k', 'o̞', 'm', 'WORD_BOUNDARY', 'e̞', 's', 'i', 'ɾ', 'n', 'a', 'u', 'p', 'd', 'l', 't', 'β', 'ɡ', 'w', 'ʝ', 'f', 'x', 'j', 'ɲ', 'r', 't̠ʃ', 'ʃ', 'tl', 'ü', 'ts', 'ë̞', 'ï', 'ɘ', 'ɛ', 'ä']\n",
      "\n",
      "----------------------------------------------------------------------------------------------------\n",
      "ALL PHOIBLE:\n",
      "Comparing the phonemes seen in the data with all phoible phonemes:\n",
      "Unknown phonemes: None\n",
      "----------------------------------------------------------------------------------------------------\n",
      "LANGUAGE CODE:\n",
      "\n",
      "Comparing the phonemes seen in the data with just the phonemes in phoible with the spa language code:\n",
      "Unknown phonemes: {'d': 138829, 'ʝ': 25234, 'tl': 56, 'ts': 45, 'ɘ': 15, 'ë̞': 12, 'ï': 6, 'ü': 1}\n",
      "Unseen phonemes: {'oi', 'ᴅ', 'ʎ', 'χ', 'uei̯', 's̺̠', 'o', 'u̯o', 'ia', 'i̯', 'ɟʝ', 'ɣ', 'i̯a', 'ɔ', 'ei̯', 'oi̯', 'au', 'æi', 'ei', 'ie', 'd̪', 't̪', 'b', 'i̯o', 'l̪', 'ai', 'ð', 'd̻', 'ɛi', 'io', 'i̯ɛi', 'eu̯', 'ɟ', 'au̯', 'i̯ɛ', 'n̪', 'θ', 'u̯ɛi', 'ui', 'e', 's̪', 'ue', 'u̯a', 'i̯e', 'ou̯', 'iu', 'æ', 'i̯æ', 'ɔi', 'ua', 'i̯æi', 'ai̯', 't̻', 'u̯', 'i̯ɔ', 'ð͉', 'u̯æi'}\n",
      "\n",
      "Phoible inventories names with the spa language code: ['Spanish', 'SPANISH']\n",
      "Phoible dialects names with the spa language code: [nan, 'Castilian Spanish', 'Spanish (Murcian)', 'Spanish (Castilian)']\n",
      "----------------------------------------------------------------------------------------------------\n",
      "INVENTORIES:\n",
      "\n",
      "Now comparing the phonemes seen in the data with the phonemes in phoible with the specific language names ['Spanish', 'SPANISH']:\n",
      "Inventory IDs matching the inventory names: {2210, 164, 2308, 553, 2303}\n",
      "Unknown phonemes: {'d': 138829, 'ʝ': 25234, 'tl': 56, 'ts': 45, 'ɘ': 15, 'ë̞': 12, 'ï': 6, 'ü': 1}\n",
      "Unseen phonemes: {'oi', 'ᴅ', 'ʎ', 'χ', 'uei̯', 's̺̠', 'o', 'u̯o', 'ia', 'i̯', 'ɟʝ', 'ɣ', 'i̯a', 'ɔ', 'ei̯', 'oi̯', 'au', 'æi', 'ei', 'ie', 'd̪', 't̪', 'b', 'i̯o', 'l̪', 'ai', 'ð', 'd̻', 'ɛi', 'io', 'i̯ɛi', 'eu̯', 'ɟ', 'au̯', 'i̯ɛ', 'n̪', 'θ', 'u̯ɛi', 'ui', 'e', 's̪', 'ue', 'u̯a', 'i̯e', 'ou̯', 'iu', 'æ', 'i̯æ', 'ɔi', 'ua', 'i̯æi', 'ai̯', 't̻', 'u̯', 'i̯ɔ', 'ð͉', 'u̯æi'}\n",
      "----------------------------------------------------------------------------------------------------\n",
      "INVENTORY ID:\n",
      "\n",
      "Now comparing the phonemes seen in the data with the phonemes in phoible with the specific inventory 164:\n",
      "Unknown phonemes: {'d': 138829, 'ɡ': 44982, 'ʝ': 25234, 'ʃ': 208, 'tl': 56, 'ts': 45, 'ɘ': 15, 'ë̞': 12, 'ï': 6, 'ä': 4, 'ü': 1, 'ɛ': 1}\n",
      "Unseen phonemes: {'ð͉', 'ɣ', 'ʎ', 'θ'}\n"
     ]
    }
   ],
   "source": [
    "compare_phoneme_sets('../processed/Spanish/train.csv', 'spa', ['Spanish', 'SPANISH'], 164)"
   ]
  },
  {
   "cell_type": "markdown",
   "metadata": {},
   "source": [
    "# Mandarin Analysis\n",
    "\n",
    "We compare all Mandarin inventories in phoible to our Mandarin dataset. For Mandarin, we use epitran.\n",
    "\n",
    "There are four Mandarin inventories in Phoible, \"Mandarin Chinese\", \"Standard Chinese; Mandarin\", \"MANDARIN\" and \"Standard Chinese\". There is considerable disagreement between these.\n",
    "\n",
    "Our output seems to mostly align with the inventory code 2457 (Beijing Standard Chinese) with the help of a few folding rules to fix tone markers, combine vowels into diphthongs and remove the double breve over certain consonants. \n",
    "\n",
    "Note that our tool combines tone markers with the preceeding vowel, we remove tone markers in our comparison so that we don't get many \"unknown phonemes\" consisting of a known vowel + tone marker.\n",
    "\n",
    "There are a few key unknown phonemes:\n",
    "* `o` is very common but isn't in any of the Mandarin phoible inventories but is listed in Wikipedia. \n",
    "* `e` is very common but isn't in any of the Mandarin phoible inventories but is listed in Wikipedia.\n",
    "* `ɻ̩` and `ɻ` are common and are listed on Wikipedia, but phoible seems to use `ɹ̺` and `ɹ̪̩` instead.\n",
    "\n",
    "The remaining unknown phonemes are sufficiently rare and are probably noise. Most are unknown to phoible so should get set to UNK by tokenizers.\n",
    "\n",
    "There are a couple key unseen tokens, `uə` and `ɤ`."
   ]
  },
  {
   "cell_type": "code",
   "execution_count": 10,
   "metadata": {},
   "outputs": [
    {
     "name": "stdout",
     "output_type": "stream",
     "text": [
      "Total phonemes in the dataset: 6356200\n",
      "Unique phonemes: ['a', 'o', 'WORD_BOUNDARY', 'n', 'uo', 'ʃ̺', 'ɻ̩', 'e', 'm', 'p', 'ie', 'kʰ', 'k', 't̠ʃ̺ʰ', 'ŋ', 't', 'ɕ', 'i', 'j', 'l', 'x', 'u', 'uei', 'pʰ', 'ua', 'ou', 'w', 't̠ʃ', 'ia', 'ts', 'ei', 't̠ʃ̺', 'uai', 's', 'ai', 't̠ʃʰ', 'f', 'y', 'ɻ', 'iou', 'tʰ', 'tsʰ', 'ye', 'ɡ', 'd', 'b', 'h', 'z', 'r', 'v', 'c', 'q', 'au', 'iu', 'ououou', 'ouou', 'aia', '4', '2', '1', 'uou', '3', 'ㄩ', 'ち', 'ょ', 'っ', 'と', 'aua', 'auo', '-', 'iau', '6', '跘', 'aiu', 'ouei', 'あ', 'り', 'か', '゙', 'ㄚ', 'eiei', '溼', '牠', '粧', '舖', '踫', '別', '枴', '妳', '吚']\n",
      "\n",
      "----------------------------------------------------------------------------------------------------\n",
      "ALL PHOIBLE:\n",
      "Comparing the phonemes seen in the data with all phoible phonemes:\n",
      "Unknown phonemes: {'1': 3337, '2': 438, '3': 310, '牠': 305, 'uou': 281, '踫': 80, '4': 49, '妳': 28, '-': 27, '溼': 15, 'aua': 6, '舖': 6, '枴': 4, 'と': 3, 'ououou': 2, 'あ': 2, 'り': 2, 'か': 2, '゙': 2, '吚': 2, 'ouou': 1, 'aia': 1, 'ㄩ': 1, 'ち': 1, 'ょ': 1, 'っ': 1, 'auo': 1, '6': 1, '跘': 1, 'aiu': 1, 'ouei': 1, 'ㄚ': 1, 'eiei': 1, '粧': 1, '別': 1}\n",
      "----------------------------------------------------------------------------------------------------\n",
      "LANGUAGE CODE:\n",
      "\n",
      "Comparing the phonemes seen in the data with just the phonemes in phoible with the cmn language code:\n",
      "Unknown phonemes: {'o': 296982, 'e': 258306, 'ɻ̩': 87025, 't̠ʃʰ': 40238, 'ɻ': 21789, '1': 3337, 'h': 1333, 'b': 1046, 'ɡ': 711, 'c': 659, 'r': 568, 'd': 514, '2': 438, '3': 310, '牠': 305, 'uou': 281, 'v': 122, 'q': 83, '踫': 80, '4': 49, 'z': 48, '妳': 28, '-': 27, '溼': 15, 'aua': 6, '舖': 6, '枴': 4, 'と': 3, 'ououou': 2, 'あ': 2, 'り': 2, 'か': 2, '゙': 2, '吚': 2, 'ouou': 1, 'aia': 1, 'ㄩ': 1, 'ち': 1, 'ょ': 1, 'っ': 1, 'auo': 1, '6': 1, '跘': 1, 'aiu': 1, 'ouei': 1, 'ㄚ': 1, 'eiei': 1, '粧': 1, '別': 1}\n",
      "Unseen phonemes: {'ç', 'χ', '˧˨˧', 't̪ʰ|tʰ', '˦˨', '˦', 'ɤ', 'ɹ̪̩', '˧˨˥', 'ɹ', 'a˞', 't̪|t', 'w˞', 'cçʰ', 'ə̃˞', 'ʈʂ', 'ʂ', 'ɤ̟', 'ʈʂʰ', 't̪s̪|ts', 't̪s̪ʰ|tsʰ', '˥˦', 'tɕʰ', 's̪|s', '˧˥', 'ʐ', 'a̟˞', 'ɰ', '˧˦', 'ə', 'ə˞', 'uə', 'cç', 'ɥ', '˥', 'l̪|l', 'u˞', 'ɹ̺', 'ɤ˞', 'ɑ̃˞', 'tɕ'}\n",
      "\n",
      "Phoible inventories names with the cmn language code: ['Mandarin Chinese', 'MANDARIN', 'Standard Chinese; Mandarin', 'Standard Chinese']\n",
      "Phoible dialects names with the cmn language code: [nan, 'Beijing', 'Standard Chinese (Beijing)']\n",
      "----------------------------------------------------------------------------------------------------\n",
      "INVENTORIES:\n",
      "\n",
      "Now comparing the phonemes seen in the data with the phonemes in phoible with the specific language names ['Standard Chinese; Mandarin', 'Mandarin Chinese']:\n",
      "Inventory IDs matching the inventory names: {16, 1047}\n",
      "Unknown phonemes: {'o': 296982, 'e': 258306, 't̠ʃ̺': 102117, 'ɻ̩': 87025, 't̠ʃʰ': 40238, 'ɻ': 21789, '1': 3337, 'h': 1333, 'b': 1046, 'ɡ': 711, 'c': 659, 'r': 568, 'd': 514, '2': 438, '3': 310, '牠': 305, 'uou': 281, 'v': 122, 'q': 83, '踫': 80, '4': 49, 'z': 48, '妳': 28, '-': 27, '溼': 15, 'aua': 6, '舖': 6, '枴': 4, 'と': 3, 'ououou': 2, 'あ': 2, 'り': 2, 'か': 2, '゙': 2, '吚': 2, 'ouou': 1, 'aia': 1, 'ㄩ': 1, 'ち': 1, 'ょ': 1, 'っ': 1, 'auo': 1, '6': 1, '跘': 1, 'aiu': 1, 'ouei': 1, 'ㄚ': 1, 'eiei': 1, '粧': 1, '別': 1}\n",
      "Unseen phonemes: {'ç', 'χ', '˧˨˧', '˦˨', '˦', 'ɤ', '˧˨˥', 'ɹ', 'a˞', 'w˞', 'cçʰ', 'ə̃˞', 'ʈʂ', 'ʂ', 'ʈʂʰ', '˥˦', 'tɕʰ', '˧˥', 'ʐ', 'a̟˞', '˧˦', 'ɰ', 'ə', 'uə', 'ə˞', 'cç', 'ɥ', '˥', 'u˞', 'ɤ˞', 'ɑ̃˞', 'tɕ'}\n",
      "----------------------------------------------------------------------------------------------------\n",
      "INVENTORY ID:\n",
      "\n",
      "Now comparing the phonemes seen in the data with the phonemes in phoible with the specific inventory 2457:\n",
      "Unknown phonemes: {'o': 296982, 'e': 258306, 'ɻ̩': 87025, 't̠ʃ': 81131, 't̠ʃʰ': 40238, 'ɻ': 21789, '1': 3337, 'h': 1333, 'b': 1046, 'ɡ': 711, 'c': 659, 'r': 568, 'd': 514, '2': 438, '3': 310, '牠': 305, 'uou': 281, 'v': 122, 'q': 83, '踫': 80, '4': 49, 'z': 48, '妳': 28, '-': 27, '溼': 15, 'aua': 6, '舖': 6, '枴': 4, 'と': 3, 'ououou': 2, 'あ': 2, 'り': 2, 'か': 2, '゙': 2, '吚': 2, 'ouou': 1, 'aia': 1, 'ㄩ': 1, 'ち': 1, 'ょ': 1, 'っ': 1, 'auo': 1, '6': 1, '跘': 1, 'aiu': 1, 'ouei': 1, 'ㄚ': 1, 'eiei': 1, '粧': 1, '別': 1}\n",
      "Unseen phonemes: {'ə', 'uə', 'tɕʰ', 'ɤ', 'ɹ̺', 'ɹ̪̩', 'tɕ'}\n"
     ]
    }
   ],
   "source": [
    "compare_phoneme_sets('../processed/Mandarin/train.csv', 'cmn', ['Standard Chinese; Mandarin', 'Mandarin Chinese'], 2457)"
   ]
  },
  {
   "cell_type": "markdown",
   "metadata": {},
   "source": [
    "# Dutch Analysis\n",
    "\n",
    "We compare all Dutch inventories in phoible to our Dutch dataset. For Dutch, we use phonemizer.\n",
    "\n",
    "With our folding map, we get close to inventory 2405, although there are a few major differences.\n",
    "\n",
    "The inventory lists `χ` as unseen, but instead we produce `ɣ` and `x` which are listed on Wikipedia. The inventory also lists `ɔ̃`, `ɛ̃`, `œː` and `ã` as missing. There are also many unknown phonemes. Many are rare, the others are mostly listed on Wikipedia or in other inventories."
   ]
  },
  {
   "cell_type": "code",
   "execution_count": 11,
   "metadata": {},
   "outputs": [
    {
     "name": "stdout",
     "output_type": "stream",
     "text": [
      "Total phonemes in the dataset: 4513875\n",
      "Unique phonemes: ['j', 'aː', 'WORD_BOUNDARY', 'ɦ', 'oː', 'ɾ', 'd', 'i', 'ɛ', 'p', 'ɪ', 'k', 'ɑ', 'l', 'eː', 'n', 's', 'v', 'ə', 'ɛi', 'ʋ', 'z', 't', 'm', 'ɣ', 'ʏ', 'ɔ', 'x', 'u', 'f', 'ŋ', 'øː', 'b', 'ɔː', 'ʌu', 'œy', 'tʲ', 'y', 'w', 'ʃ', 'ɛː', 't̠ʃ', 'ɲ', 'ʒ', 'ɡ', 'd̠ʒ', 'iː', 'a', 'ð', 'uː', 'e', 'yː']\n",
      "\n",
      "----------------------------------------------------------------------------------------------------\n",
      "ALL PHOIBLE:\n",
      "Comparing the phonemes seen in the data with all phoible phonemes:\n",
      "Unknown phonemes: None\n",
      "----------------------------------------------------------------------------------------------------\n",
      "LANGUAGE CODE:\n",
      "\n",
      "Comparing the phonemes seen in the data with just the phonemes in phoible with the nld language code:\n",
      "Unknown phonemes: {'t̠ʃ': 172, 'ð': 9, 'e': 2}\n",
      "Unseen phonemes: {'ɲ̠', '˨', 'ʊ', 'øə', 'ʎ', 'kʲ', 'χ', 'eɪ', 'ɔːə', 'aʊ', 'o', 'ɔuː', '˦', 'œː', 'oːə', 'ɑ̃ː', 'oə', 'β̞', 'ei', 'ɛə', 'ø', 'r', 'h', 'yə', 'ɑu', 'ou', 'ɑuː', 'ɒː', 'ɛi̯', 'ɔɪ', 'c̠', 'ɟ', 'ɔu', 'eə', 'ʔ', 'œ', 'ɪə', 'ɔ̃ː', 'iə', 'ɞʊ', 'ɛɪ', 'œʏ', 'pʲ', 'uːə', 'øy', 'ã', 'ɑː', 'ɛiː', 'iːə', 'ʀʁ', 'uɪ', 'ɒ', 'uə', 'æ', 'ʀ', 'œyː', 'œ̃ː', 'yːə', 'aɪ', 'æː', 'ɔ̃', 'æ̃ː', 'ɛ̃', 'c', 'əʊ', 'øɪ'}\n",
      "\n",
      "Phoible inventories names with the nld language code: ['Dutch']\n",
      "Phoible dialects names with the nld language code: ['Belgian Standard', 'Belgian Standard Dutch', 'the dialect of Hasselt (belongs to the West-Limburgian dialect group)', 'the dialect of Maastricht (south-eastern dialect group; Central Limburgian)', 'the Dutch dialect of Weert (West-Limburgian), rural variety (not Stadsweerts)', 'the Belgian Limburg dialect of Hamont (belongs to the West Limburg dialects, subclassification: Dommellands)', 'the Flemish-Brabant dialect of Orsmaal-gussenhoven', nan]\n",
      "----------------------------------------------------------------------------------------------------\n",
      "INVENTORIES:\n",
      "\n",
      "Now comparing the phonemes seen in the data with the phonemes in phoible with the specific language names ['Dutch']:\n",
      "Inventory IDs matching the inventory names: {2405, 2170, 2169, 1050, 2171, 2172, 2173, 2174}\n",
      "Unknown phonemes: {'t̠ʃ': 172, 'ð': 9, 'e': 2}\n",
      "Unseen phonemes: {'ɲ̠', 'ʊ', '˨', 'æ̃ː', 'øə', 'ʎ', 'kʲ', 'χ', 'eɪ', 'ɔːə', 'aʊ', 'o', 'ɔuː', '˦', 'œː', 'oːə', 'ɛə', 'ei', 'ɑ̃ː', 'oə', 'β̞', 'ø', 'r', 'h', 'ɑu', 'yə', 'ou', 'ɑuː', 'ɒː', 'c̠', 'ɛi̯', 'ɔɪ', 'ɟ', 'ɔu', 'eə', 'ʔ', 'œ', 'ɪə', 'ɔ̃ː', 'iə', 'ɞʊ', 'ɛɪ', 'œʏ', 'pʲ', 'uːə', 'øy', 'ã', 'ɑː', 'ɛiː', 'iːə', 'ʀʁ', 'uɪ', 'ɒ', 'uə', 'æ', 'œyː', 'œ̃ː', 'yːə', 'aɪ', 'æː', 'ɔ̃', 'ʀ', 'ɛ̃', 'c', 'əʊ', 'øɪ'}\n",
      "----------------------------------------------------------------------------------------------------\n",
      "INVENTORY ID:\n",
      "\n",
      "Now comparing the phonemes seen in the data with the phonemes in phoible with the specific inventory 2405:\n",
      "Unknown phonemes: {'ɣ': 59517, 'x': 46962, 'tʲ': 14042, 'ʃ': 1607, 'w': 1094, 'ʒ': 397, 'ɲ': 202, 't̠ʃ': 172, 'ɡ': 90, 'd̠ʒ': 14, 'a': 12, 'ð': 9, 'e': 2}\n",
      "Unseen phonemes: {'χ', 'ã', 'ɔ̃', 'œː', 'ɛ̃'}\n"
     ]
    }
   ],
   "source": [
    "compare_phoneme_sets('../processed/Dutch/train.csv', 'nld', ['Dutch'], 2405)"
   ]
  },
  {
   "cell_type": "markdown",
   "metadata": {},
   "source": [
    "# Serbian Analysis\n",
    "\n",
    "We compare the Serbian inventory in phoible to our Serbian dataset. For Serbian, we use epitran. \n",
    "\n",
    "With our folding dictionary, we get close to inventory 2499 (the only inventory for Serbian).\n",
    "\n",
    "The unseen phonemes are mostly long vowels, which epitran fails to produce (**this might be an issue**).\n",
    "\n",
    "The unknown phoneme `j` seems to be missing from phoible and is a common phoneme in Serbian, according to wikipedia. The remaining unknown phonemes are rare and come from english loan words that have been badly transcribed.\n"
   ]
  },
  {
   "cell_type": "code",
   "execution_count": 12,
   "metadata": {},
   "outputs": [
    {
     "name": "stdout",
     "output_type": "stream",
     "text": [
      "Total phonemes in the dataset: 3724972\n",
      "Unique phonemes: ['d̪̻', 'ä', 'WORD_BOUNDARY', 'i', 'j', 'm', 's̪̻', 'l', 'n', 'e̞', 'ʋ', 'r', 'o̞', 't̪̻', 'k', 't̪̻s̪̻', 'p', 'u', 'ʃ̺', 'x', 'b', 'ʒ̺', 'ɡ', 't̻ʃ̻', 'f', 'z̪̻', 'ɲ', 'ʎ', 'd̻ʒ̻', 'y', 'w', '́']\n",
      "\n",
      "----------------------------------------------------------------------------------------------------\n",
      "ALL PHOIBLE:\n",
      "Comparing the phonemes seen in the data with all phoible phonemes:\n",
      "Unknown phonemes: {'́': 1}\n",
      "----------------------------------------------------------------------------------------------------\n",
      "LANGUAGE CODE:\n",
      "\n",
      "Comparing the phonemes seen in the data with just the phonemes in phoible with the srp language code:\n",
      "Unknown phonemes: {'j': 136459, 'y': 39, 'w': 38, '́': 1}\n",
      "Unseen phonemes: {'uː', 'd̺̠ʒ̺ʷ', 'o̞ː', 'iː', 't̺ʃ̺ʷ', 'äː', 'e̞ː'}\n",
      "\n",
      "Phoible inventories names with the srp language code: ['Serbian']\n",
      "Phoible dialects names with the srp language code: ['Serbian (Standard Ekavian)']\n",
      "----------------------------------------------------------------------------------------------------\n",
      "INVENTORIES:\n",
      "\n",
      "Now comparing the phonemes seen in the data with the phonemes in phoible with the specific language names ['Serbian']:\n",
      "Inventory IDs matching the inventory names: {2499}\n",
      "Unknown phonemes: {'j': 136459, 'y': 39, 'w': 38, '́': 1}\n",
      "Unseen phonemes: {'uː', 'd̺̠ʒ̺ʷ', 'o̞ː', 'iː', 't̺ʃ̺ʷ', 'äː', 'e̞ː'}\n",
      "----------------------------------------------------------------------------------------------------\n",
      "INVENTORY ID:\n",
      "\n",
      "Now comparing the phonemes seen in the data with the phonemes in phoible with the specific inventory 2499:\n",
      "Unknown phonemes: {'j': 136459, 'y': 39, 'w': 38, '́': 1}\n",
      "Unseen phonemes: {'uː', 'd̺̠ʒ̺ʷ', 'o̞ː', 'iː', 't̺ʃ̺ʷ', 'äː', 'e̞ː'}\n"
     ]
    }
   ],
   "source": [
    "compare_phoneme_sets('../processed/Serbian/train.csv', 'srp', ['Serbian'], 2499)"
   ]
  },
  {
   "cell_type": "markdown",
   "metadata": {},
   "source": [
    "# Estonian Analysis\n",
    "\n",
    "We compare all Estonian inventories in phoible to our Estonian dataset. For Estonian, we use phonemizer.\n",
    "\n",
    "To create our folding dictionary, we compare our output with phoible inventory 2181 and Wikipedia. Many changes were required in the folding dictionary, due to repeated letters for long vowels and consonants being produced by phonemizer.\n",
    "\n",
    "In the end, we have quite a bit of disagreement between our output and phoible inventory 2181 since the inventory lists semi-long consontants (which phonemizer does not output) and our tool outputs many consonants, long vowels and diphthongs that are not listed in the phoible inventory (but seem to be valid according to Wikipedia).\n",
    "\n",
    "Generally, we get a pretty good match with the Wikipedia entry for Estonian phonology, except for the fact that we do not output many diphthongs, instead many vowels are listed independently (e.g. `e o` instead of `eo`). We could add rules to join these vowels but it is not clear if these should always be diphthongs, so we leave them. \n",
    "\n",
    "However, looking at individual examples, the output is not always very good (e.g. initial `b` being output as `p` or `i` randomly being added after some other vowels). The espeak-ng voice might not be very good for this language.\n"
   ]
  },
  {
   "cell_type": "code",
   "execution_count": 13,
   "metadata": {},
   "outputs": [
    {
     "name": "stdout",
     "output_type": "stream",
     "text": [
      "Total phonemes in the dataset: 2508499\n",
      "Unique phonemes: ['n', 'o', 'WORD_BOUNDARY', 'm', 'i', 's', 'a', 'æ', 'r', 'p', 'l', 'e', 'd', 'iː', 't', 'ʃ', 'kː', 'v', 'æi', 'pː', 'u', 'k', 'h', 'mː', 'eː', 'sː', 'ɑ', 'yː', 'uː', 'ɛ', 'j', 'ɡ', 'b', 'aː', 'sʲ', 'ɪ', 'ɔ', 'ɤː', 'ʊ', 'lː', 'ø', 'ɤ', 'øː', 'tː', 'ŋ', 'y', 'tʲ', 'oː', 'rː', 'ɲ', 'nː', 'w', 'tʲː', 'æː', 'øɪ̯', 'f', 'dʲ', 'sʲː', 't̠ʃ', 'ʃː', 'ʒ', 'fː', 'dː', 'z', 'yi']\n",
      "\n",
      "----------------------------------------------------------------------------------------------------\n",
      "ALL PHOIBLE:\n",
      "Comparing the phonemes seen in the data with all phoible phonemes:\n",
      "Unknown phonemes: None\n",
      "----------------------------------------------------------------------------------------------------\n",
      "LANGUAGE CODE:\n",
      "\n",
      "Comparing the phonemes seen in the data with just the phonemes in phoible with the ekk language code:\n",
      "Unknown phonemes: {'a': 209437, 'd': 67228, 'iː': 52732, 'ɡ': 32129, 'aː': 30848, 'ɛ': 28868, 'eː': 27859, 'b': 22808, 'ɪ': 14614, 'ʊ': 12601, 'oː': 11036, 'ŋ': 8976, 'uː': 7690, 'ɲ': 7428, 'æi': 5875, 'yː': 4248, 'æː': 3070, 'øː': 2723, 'dʲ': 2004, 'w': 1822, 'ɔ': 756, 'ɤː': 274, 'ʒ': 74, 'øɪ̯': 59, 'z': 54, 'dː': 30, 't̠ʃ': 6, 'yi': 1}\n",
      "Unseen phonemes: {'sʲˑ', 'sˑ', 'kˑ', 'lˑ', 'lʲˑ', 'pˑ', 'mˑ', 't̪', 'tʲˑ', 'nʲˑ', 'lʲː', 'lʲ', 'ʋ', 'fˑ', 's̪', 'nʲ', 'rˑ', 'nʲː', 'ʃˑ', 'tˑ', 'nˑ'}\n",
      "\n",
      "Phoible inventories names with the ekk language code: ['Estonian']\n",
      "Phoible dialects names with the ekk language code: ['Standard Estonian (Central Estonia)', 'Estonian (Standard)']\n",
      "----------------------------------------------------------------------------------------------------\n",
      "INVENTORIES:\n",
      "\n",
      "Now comparing the phonemes seen in the data with the phonemes in phoible with the specific language names ['Estonian']:\n",
      "Inventory IDs matching the inventory names: {2248, 2181}\n",
      "Unknown phonemes: {'a': 209437, 'd': 67228, 'iː': 52732, 'ɡ': 32129, 'aː': 30848, 'ɛ': 28868, 'eː': 27859, 'b': 22808, 'ɪ': 14614, 'ʊ': 12601, 'oː': 11036, 'ŋ': 8976, 'uː': 7690, 'ɲ': 7428, 'æi': 5875, 'yː': 4248, 'æː': 3070, 'øː': 2723, 'dʲ': 2004, 'w': 1822, 'ɔ': 756, 'ɤː': 274, 'ʒ': 74, 'øɪ̯': 59, 'z': 54, 'dː': 30, 't̠ʃ': 6, 'yi': 1}\n",
      "Unseen phonemes: {'sʲˑ', 'sˑ', 'kˑ', 'lˑ', 'lʲˑ', 'pˑ', 'mˑ', 't̪', 'tʲˑ', 'nʲˑ', 'lʲː', 'lʲ', 'ʋ', 'fˑ', 's̪', 'nʲ', 'rˑ', 'nʲː', 'ʃˑ', 'tˑ', 'nˑ'}\n",
      "----------------------------------------------------------------------------------------------------\n",
      "INVENTORY ID:\n",
      "\n",
      "Now comparing the phonemes seen in the data with the phonemes in phoible with the specific inventory 2181:\n",
      "Unknown phonemes: {'a': 209437, 'd': 67228, 'iː': 52732, 'ɡ': 32129, 'aː': 30848, 'ɛ': 28868, 'eː': 27859, 'b': 22808, 'ɪ': 14614, 'ʊ': 12601, 'oː': 11036, 'ŋ': 8976, 'uː': 7690, 'ɲ': 7428, 'æi': 5875, 'yː': 4248, 'æː': 3070, 'øː': 2723, 'dʲ': 2004, 'w': 1822, 'ɔ': 756, 'ɤː': 274, 'ʒ': 74, 'øɪ̯': 59, 'z': 54, 'dː': 30, 't̠ʃ': 6, 'yi': 1}\n",
      "Unseen phonemes: {'pˑ', 'tˑ', 'tʲˑ', 'lʲ', 'nʲ', 'fˑ', 'sʲˑ', 'nʲˑ', 'rˑ', 'nʲː', 'sˑ', 'kˑ', 'lˑ', 'lʲˑ', 'lʲː', 'nˑ', 'ʃˑ', 'mˑ'}\n"
     ]
    }
   ],
   "source": [
    "compare_phoneme_sets('../processed/Estonian/train.csv', 'ekk', ['Estonian'], 2181)"
   ]
  },
  {
   "cell_type": "markdown",
   "metadata": {},
   "source": [
    "# Cantonese Analysis\n",
    "\n",
    "We compare all Cantonese inventories in phoible to our Cantonese dataset. For Cantonese, we use epitran.\n",
    "\n",
    "There are four Cantonese inventories in Phoible, \"Chinese\", \"Cantonese\", \"TAISHAN\" and \"Yue Chinese\". \n",
    "\n",
    "There are many unknown and unseen phonemes when comparing to Cantonese Chinese, but all the symbols are in other phoible inventories. It may be left to future work to align these better with Phoible as Phoible itself seems to disagree considerably between the different inventories.\n",
    "\n",
    "Our output most closely aligns with inventory 2309. The unseen phonemes from this inventory are almost all diphthongs. The unknown phonemes are:\n",
    "* `e` (which is listed in Wikipedia)\n",
    "* `k̚`, `t̚` and `p̚` which are mentioned in Wikipedia (**NOTE: NOT IN PHOIBLE, NEED TO MAKE SURE THESE ARE ADDED TO TOKENIZER**)\n",
    "* The rest are sufficiently rare"
   ]
  },
  {
   "cell_type": "code",
   "execution_count": 14,
   "metadata": {},
   "outputs": [
    {
     "name": "stdout",
     "output_type": "stream",
     "text": [
      "Total phonemes in the dataset: 2314775\n",
      "Unique phonemes: ['a', 'WORD_BOUNDARY', 't', 'ɐ', 'k̚', 'l', 'j', 'ʊ', 'ɛ', 'n', 'e', 'w', 'k', 'ɔ', 'h', 'm', 'kʰ', 't̚', 'i', 'ts', 'tʰ', 'f', 'p̚', 'p', 'u', 'ŋ', 's', '6', 'kʷ', 'tsʰ', 'pʰ', 'y', 'œ', 'ɪ', 'ɛu', 'kʷʰ', 'r', 'v', '8']\n",
      "\n",
      "----------------------------------------------------------------------------------------------------\n",
      "ALL PHOIBLE:\n",
      "Comparing the phonemes seen in the data with all phoible phonemes:\n",
      "Unknown phonemes: {'k̚': 37182, 't̚': 20641, 'p̚': 7419, '6': 4419, '8': 2}\n",
      "----------------------------------------------------------------------------------------------------\n",
      "LANGUAGE CODE:\n",
      "\n",
      "Comparing the phonemes seen in the data with just the phonemes in phoible with the yue language code:\n",
      "Unknown phonemes: {'e': 49049, 'k̚': 37182, 't̚': 20641, 'p̚': 7419, '6': 4419, 'v': 2, '8': 2}\n",
      "Unseen phonemes: {'t̠ʃʰ', '˨', '˧˩̰', 'ɔ̽', 'l̪̥|l̥', '˧˩', 't̪ʰ|tʰ', '˦', 'ɵy', 'aːŭ', 'ɪ̞', 'au', 'ʃ', 'ei', 'β', 'ai', 'ou', 't̪|t', '˧', 'l̥', 'ŋ̩', '˩˧', 'ʊ̟', '˩', '˥˦', 'ui', 't̠ʃ', 'iːŭ', '˧˥', 'uːĭ', 'ɐu', 'm̩', 'ɔːĭ', 'ɐi', 'iu', 'œ̞', 'æ', 'a̞', 'ɵ', '˥', 'ɔi', 'l̪|l', 'aːĭ', 'n̪|n'}\n",
      "\n",
      "Phoible inventories names with the yue language code: ['Cantonese', 'TAISHAN', 'Chinese', 'Yue Chinese']\n",
      "Phoible dialects names with the yue language code: [nan, 'Hong Kong Cantonese', 'Yue Chinese (Hong Kong Cantonese)']\n",
      "----------------------------------------------------------------------------------------------------\n",
      "INVENTORIES:\n",
      "\n",
      "Now comparing the phonemes seen in the data with the phonemes in phoible with the specific language names ['Cantonese', 'TAISHAN', 'Yue Chinese', 'Chinese']:\n",
      "Inventory IDs matching the inventory names: {642, 19, 2309, 2166}\n",
      "Unknown phonemes: {'e': 49049, 'k̚': 37182, 't̚': 20641, 'p̚': 7419, '6': 4419, 'v': 2, '8': 2}\n",
      "Unseen phonemes: {'t̠ʃʰ', '˨', '˧˩̰', 'ɔ̽', 'l̪̥|l̥', '˧˩', 't̪ʰ|tʰ', 'ɵy', '˦', 'ɪ̞', 'aːŭ', 'au', 'ei', 'ʃ', 'β', 'ai', 'ou', 't̪|t', '˧', 'l̥', 'ŋ̩', '˩˧', 'ʊ̟', '˩', '˥˦', 'ui', 't̠ʃ', 'iːŭ', '˧˥', 'uːĭ', 'ɐu', 'm̩', 'ɔːĭ', 'ɐi', 'iu', 'œ̞', 'æ', 'ɵ', 'a̞', '˥', 'ɔi', 'l̪|l', 'aːĭ', 'n̪|n'}\n",
      "----------------------------------------------------------------------------------------------------\n",
      "INVENTORY ID:\n",
      "\n",
      "Now comparing the phonemes seen in the data with the phonemes in phoible with the specific inventory 2309:\n",
      "Unknown phonemes: {'e': 49049, 'k̚': 37182, 't̚': 20641, 'p̚': 7419, '6': 4419, 'r': 8, 'v': 2, '8': 2}\n",
      "Unseen phonemes: {'iu', 'ai', 'ɵ', 'ou', 'ui', 'ɔi', 'ɐu', 'ɵy', 'au', 'ɐi', 'ei'}\n"
     ]
    }
   ],
   "source": [
    "compare_phoneme_sets('../processed/Cantonese/train.csv', 'yue', ['Cantonese', 'TAISHAN', 'Yue Chinese', 'Chinese'], 2309)"
   ]
  },
  {
   "cell_type": "markdown",
   "metadata": {},
   "source": [
    "# Polish analysis\n",
    "\n",
    "We compare the two Polish inventories in phoible to our Polish dataset. For Polish, we use phonemizer. \n",
    "\n",
    "With some mapping, we get close to inventory 1046. \n",
    "\n",
    "The phoneme `d̪z̪` does not seem to be produced by phonemizer, but the other two unseen phonemes `c` and `ɟ` are not listed on Wikipedia so it seems ok to miss these.\n",
    "\n",
    "The phonemes are tool produces that are not in the inventory (\"unknown phonemes\" below) are the consonants `t, d, ɡʲ, kʲ, xʲ` which are valid according to Wikipedia, as well as the vowel, `ẽ` which is listed in the other phoible set.\n"
   ]
  },
  {
   "cell_type": "markdown",
   "metadata": {},
   "source": [
    "# "
   ]
  },
  {
   "cell_type": "code",
   "execution_count": 15,
   "metadata": {},
   "outputs": [
    {
     "name": "stdout",
     "output_type": "stream",
     "text": [
      "Total phonemes in the dataset: 1734629\n",
      "Unique phonemes: ['x', 'o', 'dʑ', 'WORD_BOUNDARY', 'd̪', 'b', 'a', 'p', 'tɕ', 'i', 'z̪', 'r', 'u', 'n̪', 'ɲ', 'e', 'f', 'k', 'w', 'j', 'ʑ', 'v', 'l̪', 'ɕ', 'm', 't̪', 'z̻', 'ɨ', 's̻', 't̻s̻', 't̪s̪', 'ɡ', 's̪', 'ŋ', 'kʲ', 't', 'ɡʲ', 'ẽ', 'ɣ', 'd̻z̻', 'd', 'xʲ']\n",
      "\n",
      "----------------------------------------------------------------------------------------------------\n",
      "ALL PHOIBLE:\n",
      "Comparing the phonemes seen in the data with all phoible phonemes:\n",
      "Unknown phonemes: None\n",
      "----------------------------------------------------------------------------------------------------\n",
      "LANGUAGE CODE:\n",
      "\n",
      "Comparing the phonemes seen in the data with just the phonemes in phoible with the pol language code:\n",
      "Unknown phonemes: {'kʲ': 3912, 'ɡʲ': 970, 'ẽ': 470, 'ɣ': 469, 'xʲ': 120, 't': 69, 'd': 37}\n",
      "Unseen phonemes: {'ĩ̯', 'ʂ̻', 'ʐ̻', 'ũ̯', 'ʈ̻ʂ̻', 'ɟ', 'ä', 'ɔ', 'ɛ', 'ɘ̟', 'd̪z̪', 'c', 'ɖ̻ʐ̻'}\n",
      "\n",
      "Phoible inventories names with the pol language code: ['Polish']\n",
      "Phoible dialects names with the pol language code: [nan, 'Polish (Standard)']\n",
      "----------------------------------------------------------------------------------------------------\n",
      "INVENTORIES:\n",
      "\n",
      "Now comparing the phonemes seen in the data with the phonemes in phoible with the specific language names ['Polish']:\n",
      "Inventory IDs matching the inventory names: {2604, 1046}\n",
      "Unknown phonemes: {'kʲ': 3912, 'ɡʲ': 970, 'ẽ': 470, 'ɣ': 469, 'xʲ': 120, 't': 69, 'd': 37}\n",
      "Unseen phonemes: {'ĩ̯', 'ʂ̻', 'ʐ̻', 'ũ̯', 'ä', 'ɟ', 'ʈ̻ʂ̻', 'ɔ', 'ɛ', 'c', 'ɘ̟', 'd̪z̪', 'ɖ̻ʐ̻'}\n",
      "----------------------------------------------------------------------------------------------------\n",
      "INVENTORY ID:\n",
      "\n",
      "Now comparing the phonemes seen in the data with the phonemes in phoible with the specific inventory 1046:\n",
      "Unknown phonemes: {'kʲ': 3912, 'ɡʲ': 970, 'ẽ': 470, 'ɣ': 469, 'xʲ': 120, 't': 69, 'd': 37}\n",
      "Unseen phonemes: {'d̪z̪', 'ɟ', 'c'}\n"
     ]
    }
   ],
   "source": [
    "compare_phoneme_sets('../processed/Polish/train.csv', 'pol', ['Polish'], 1046)"
   ]
  },
  {
   "cell_type": "markdown",
   "metadata": {},
   "source": [
    "# Swedish analysis\n",
    "\n",
    "We compare the two Swedish inventories in phoible to our Swedish dataset. For Swedish, we use phonemizer.\n",
    "\n",
    "With our folding map, we get close to inventory 1150.\n",
    "\n",
    "There are no unseen phonemes from the inventory and only a few unknown phonemes (`e, ʂ, ʃ, ɵː, z`) which are either rare or are listed as valid phonemes for Swedish on Wikipedia."
   ]
  },
  {
   "cell_type": "code",
   "execution_count": 16,
   "metadata": {},
   "outputs": [
    {
     "name": "stdout",
     "output_type": "stream",
     "text": [
      "Total phonemes in the dataset: 1449668\n",
      "Unique phonemes: ['ɔ', 'ʝ', 'WORD_BOUNDARY', 'k', 'l', 'ɛ', 'm', 'd̪', 'e', 'ʉ̟', 'f', 'ɪ', 'ŋ', 'ɹ', 'a', 'n̪', 'iː', 'ɑː', 't̪', 'ɛː', 's̪', 'v', 'oː', 'uː', 'eː', 'ʊ', 'p', 'b', 'h', 'øː', 'yː', 'ɡ', 'ɵ', 'ʃ', 'ʂ', 'œ', 'ʏ', 'ɕ', 'ɧ', 'ɵː', 'z']\n",
      "\n",
      "----------------------------------------------------------------------------------------------------\n",
      "ALL PHOIBLE:\n",
      "Comparing the phonemes seen in the data with all phoible phonemes:\n",
      "Unknown phonemes: None\n",
      "----------------------------------------------------------------------------------------------------\n",
      "LANGUAGE CODE:\n",
      "\n",
      "Comparing the phonemes seen in the data with just the phonemes in phoible with the swe language code:\n",
      "Unknown phonemes: {'e': 19563, 'ʂ': 1073, 'ʃ': 263, 'ɵː': 40, 'z': 10}\n",
      "Unseen phonemes: {'t̪ʰ', 'pʰ', 'l̪', 'ʉ̟ː', 'kʰ'}\n",
      "\n",
      "Phoible inventories names with the swe language code: ['Swedish']\n",
      "Phoible dialects names with the swe language code: ['Stockholm', 'Swedish (Central)']\n",
      "----------------------------------------------------------------------------------------------------\n",
      "INVENTORIES:\n",
      "\n",
      "Now comparing the phonemes seen in the data with the phonemes in phoible with the specific language names ['Swedish']:\n",
      "Inventory IDs matching the inventory names: {2554, 1150}\n",
      "Unknown phonemes: {'e': 19563, 'ʂ': 1073, 'ʃ': 263, 'ɵː': 40, 'z': 10}\n",
      "Unseen phonemes: {'t̪ʰ', 'pʰ', 'l̪', 'ʉ̟ː', 'kʰ'}\n",
      "----------------------------------------------------------------------------------------------------\n",
      "INVENTORY ID:\n",
      "\n",
      "Now comparing the phonemes seen in the data with the phonemes in phoible with the specific inventory 1150:\n",
      "Unknown phonemes: {'e': 19563, 'ʂ': 1073, 'ʃ': 263, 'ɵː': 40, 'z': 10}\n",
      "Unseen phonemes: None\n"
     ]
    }
   ],
   "source": [
    "compare_phoneme_sets('../processed/Swedish/train.csv', 'swe', ['Swedish'], 1150)"
   ]
  },
  {
   "cell_type": "markdown",
   "metadata": {},
   "source": [
    "# Portuguese (portugal) analysis\n",
    "\n",
    "We compare the Portuguese inventories in phoible to our Portuguese dataset. For Portuguese, we use phonemizer.\n",
    "\n",
    "We need a substantial folding map, but by correcting the output we get very close to inventory 1150. However, this does require some items in the folding dictionary that do not simply change the symbol used for a particular phoneme, some other decisions also needed to be made.\n",
    "\n",
    "With these decisions, all that remains is one rare unknown phonemes used for \"pizza\"."
   ]
  },
  {
   "cell_type": "code",
   "execution_count": 17,
   "metadata": {},
   "outputs": [
    {
     "name": "stdout",
     "output_type": "stream",
     "text": [
      "Total phonemes in the dataset: 1304905\n",
      "Unique phonemes: ['f', 'ɯ', 'ʃ', 'ɐ', 'WORD_BOUNDARY', 'a', 's', 'ĩ', 'n̪', 'ɐ̃u̜', 'd̪', 'p', 'oi', 'z', 'ɛ', 't̪', 'ɐ̃', 'm', 'b', 'ẽ', 'ʒ', 'l̪ˠ', 'i', 'ɡ', 'o', 'ɔ', 'ɾ', 'e', 'ai', 'eu̜', 'u', 'ɛu̜', 'ũ', 'ʁ', 'õ', 'ʎ', 'k', 'ɲ', 'v', 'ɐi', 'au̜', 'iu̜', 'ũi', 'ɐ̃i', 'õi', 'ui', 'ɛi', 'ɔi', 'ts']\n",
      "\n",
      "----------------------------------------------------------------------------------------------------\n",
      "ALL PHOIBLE:\n",
      "Comparing the phonemes seen in the data with all phoible phonemes:\n",
      "Unknown phonemes: None\n",
      "----------------------------------------------------------------------------------------------------\n",
      "LANGUAGE CODE:\n",
      "\n",
      "Comparing the phonemes seen in the data with just the phonemes in phoible with the por language code:\n",
      "Unknown phonemes: {'ts': 19}\n",
      "Unseen phonemes: {'ʊ̯aɪ̯', 'ĕ', 'ẽɪ̯̃', 'uɪ̯', 'i̯', 'ɣ', 'z̻', 'aɪ̯', 'uʊ̯', 'ɛʊ̯', 'r', 'w', 'ä', 'l', 'x', 'ɫ', 'ã̈', 'ɐ̃ʊ̯̃', 'ɐ̃ɪ̯̃', 'oɪ̯', 'ũ̯', 's̪', 'z̪', 'ɱ', 'eɪ̯', 'ŭ', 'ʊ̯ɐ̃', 'õɪ̯̃', 'n', 'ũɪ̯̃', 'ĭ', 'ə', 'ĩ̯', 'ŋ', 'ɛɪ̯', 'iʊ̯', 'ɯ̽', 's̻', 'ɔʊ̯', 'u̯', 'ɔɪ̯', 'j', 'eʊ̯', 'aʊ̯', 'oʊ̯'}\n",
      "\n",
      "Phoible inventories names with the por language code: ['Portuguese', 'Portuguese (European)', 'Portuguese (Brazilian)']\n",
      "Phoible dialects names with the por language code: [nan, 'Lisbon', 'São Paulo', 'Portuguese (Estremenho)']\n",
      "----------------------------------------------------------------------------------------------------\n",
      "INVENTORIES:\n",
      "\n",
      "Now comparing the phonemes seen in the data with the phonemes in phoible with the specific language names ['Portuguese', 'Portuguese (European)']:\n",
      "Inventory IDs matching the inventory names: {163, 2206, 2623}\n",
      "Unknown phonemes: {'ts': 19}\n",
      "Unseen phonemes: {'ĕ', 'i̯', 'z̻', 'w', 'ä', 'l', 'x', 'ã̈', 'ɫ', 'ũ̯', 'z̪', 'ɱ', 'ŭ', 'n', 'ĭ', 'ə', 'ĩ̯', 'ŋ', 'ɯ̽', 's̻', 'j', 'u̯'}\n",
      "----------------------------------------------------------------------------------------------------\n",
      "INVENTORY ID:\n",
      "\n",
      "Now comparing the phonemes seen in the data with the phonemes in phoible with the specific inventory 2206:\n",
      "Unknown phonemes: {'ts': 19}\n",
      "Unseen phonemes: None\n"
     ]
    }
   ],
   "source": [
    "compare_phoneme_sets('../processed/PortuguesePt/train.csv', 'por', ['Portuguese', 'Portuguese (European)'], 2206)"
   ]
  },
  {
   "cell_type": "markdown",
   "metadata": {},
   "source": [
    "# Korean analysis\n",
    "\n",
    "We compare the Korean inventories in phoible to our Korean dataset. For Korean, we use phonemizer.\n",
    "\n",
    "Our system does not seem to output long vowels or diphthongs (this could be a problem) but inventory 423 does the same, so we use our folding map to approach this inventory.\n",
    "\n",
    "Unknown phonemes:\n",
    "* `b`, `d`, `dʑ` and `ɡ` are the voiced `p` `t` `tɕ` and `k` which are valid but not listed in the inventory for some reason\n",
    "* `ɾ` is an allophone of `l` so should be valid\n",
    "\n",
    "We have several unseen phonemes. Five are consonants with glottal stops or aspiration, which don't seem to be produced by our tool. The remaining unseen phonemes are vowels. It is unclear why these are not produced by our tool. \n",
    "\n"
   ]
  },
  {
   "cell_type": "code",
   "execution_count": 18,
   "metadata": {},
   "outputs": [
    {
     "name": "stdout",
     "output_type": "stream",
     "text": [
      "Total phonemes in the dataset: 1085146\n",
      "Unique phonemes: ['w', 'a', 'WORD_BOUNDARY', 'j', 'o', 'ɾ', 'i', 'h', 'n̪', 'ɯ', 'd', 'e', 'ŋ', 'p', 'dʑ', 'u', 'm', 'ɡ', 'ɤ̞', 'l', 't̠ʃ', 'æ', 'b', 's̪', 'k', 't̪', 'pʰ', 'kʰ', 'ɯi', 't̠ʃʰ']\n",
      "\n",
      "----------------------------------------------------------------------------------------------------\n",
      "ALL PHOIBLE:\n",
      "Comparing the phonemes seen in the data with all phoible phonemes:\n",
      "Unknown phonemes: None\n",
      "----------------------------------------------------------------------------------------------------\n",
      "LANGUAGE CODE:\n",
      "\n",
      "Comparing the phonemes seen in the data with just the phonemes in phoible with the kor language code:\n",
      "Unknown phonemes: {'ɡ': 73759, 'd': 24529, 'dʑ': 14060, 'b': 5308}\n",
      "Unseen phonemes: {'uː', 'o̞̜', 'd̥ʑ̥', 's', 'ia', 't̪ˀ', 'ɤ', 'ɛ̝', 'sʰ', 'kˀ', 't̠ʃˀ', 'ø', 'k͉', 's͉', 'ɡ̊', 'iɛ', 't', 'io', 'aː', 'ʔ', 'lː', 's̪ˀ', 'tʰ', 't͉ɕ͉', 'tˀ', 'sˀ', 'pˀ', 'ɐ', 'ɘː', 'ɪ', 't̪ʰ', 'b̥', 'ɨi', 'əː', 'ui', 'tɕʰ', 'd̥', 'ue', 'ɛː', 'p͉', 'eː', 'ɯː', 'n', 'oː', 'ɤː', 't͉', 'ʌ', 'iu', 'uʌ', 'iʌ', 'iː', 'ɯ̽', 'ua', 'ʊ̜', 'ɑ̟ː', 'æː', 'y', 'uɛ', 'ɛ', 'e̞', 'ie', 'tɕ'}\n",
      "\n",
      "Phoible inventories names with the kor language code: ['Korean', 'KOREAN']\n",
      "Phoible dialects names with the kor language code: [nan, 'Standard Korean (spoken in and around Seoul)', 'Korean (Seoul)']\n",
      "----------------------------------------------------------------------------------------------------\n",
      "INVENTORIES:\n",
      "\n",
      "Now comparing the phonemes seen in the data with the phonemes in phoible with the specific language names ['Korean', 'KOREAN']:\n",
      "Inventory IDs matching the inventory names: {1, 2197, 423, 2287}\n",
      "Unknown phonemes: {'ɡ': 73759, 'd': 24529, 'dʑ': 14060, 'b': 5308}\n",
      "Unseen phonemes: {'uː', 'o̞̜', 'd̥ʑ̥', 's', 'ia', 't̪ˀ', 'ɛ̝', 'ɤ', 'sʰ', 'kˀ', 't̠ʃˀ', 'k͉', 'ø', 'ɡ̊', 's͉', 'iɛ', 'io', 't', 'aː', 'ʔ', 'ɐ', 'lː', 'ɘː', 'tʰ', 'sˀ', 'ɪ', 's̪ˀ', 'tˀ', 't͉ɕ͉', 'pˀ', 't̪ʰ', 'b̥', 'ɨi', 'əː', 'ui', 'tɕʰ', 'd̥', 'ue', 'ɛː', 'p͉', 'eː', 'ɯː', 'oː', 't͉', 'n', 'ɤː', 'ʌ', 'iu', 'uʌ', 'iʌ', 'iː', 'ɯ̽', 'ua', 'ʊ̜', 'ɑ̟ː', 'æː', 'uɛ', 'y', 'ɛ', 'e̞', 'ie', 'tɕ'}\n",
      "----------------------------------------------------------------------------------------------------\n",
      "INVENTORY ID:\n",
      "\n",
      "Now comparing the phonemes seen in the data with the phonemes in phoible with the specific inventory 423:\n",
      "Unknown phonemes: {'ɡ': 73759, 'ɾ': 31138, 'd': 24529, 'dʑ': 14060, 'b': 5308}\n",
      "Unseen phonemes: {'kˀ', 't̠ʃˀ', 't̪ʰ', 'ø', 'y', 't̪ˀ', 's̪ˀ', 'pˀ'}\n"
     ]
    }
   ],
   "source": [
    "compare_phoneme_sets('../processed/Korean/train.csv', 'kor', ['Korean', 'KOREAN'], 423)"
   ]
  },
  {
   "cell_type": "markdown",
   "metadata": {},
   "source": [
    "# Italian analysis\n",
    "\n",
    "We compare the Italian inventories in phoible to our Italian dataset. For Italian, we use phonemizer.\n",
    "\n",
    "The inventory with the closest match is 1145 (which Wikipedia cites). \n",
    "\n",
    "We have no unseen phonemes but many unknown phonemes. These are:\n",
    "* Long vowels: according to Wikipedia the distinction between long and short vowels is rare, but our tool seems to produce many long vowels. We could remove the length marker, but for now we keep it.\n",
    "* Long consonants: according to Wikipedia, Italian consonants can geminate, so we keep these\n",
    "* `ɾ` is an allophone for `r` so we keep it\n",
    "* `ŋ` is an allophone for `n` so we keep it\n",
    "* `ʒ` and `h` are very rare so we allow these\n",
    "\n",
    "\n"
   ]
  },
  {
   "cell_type": "code",
   "execution_count": 19,
   "metadata": {},
   "outputs": [
    {
     "name": "stdout",
     "output_type": "stream",
     "text": [
      "Total phonemes in the dataset: 1046215\n",
      "Unique phonemes: ['i', 'l', 'WORD_BOUNDARY', 't', 'ɐ', 'o', 'k', 'ɔ', 'z', 'f', 'v', 'n', 'e', 'd', 'j', 't̠ʃ', 'b', 'ɛ', 'm', 'w', 's', 'ɛː', 'p', 'r', 'u', 'kː', 'ʎ', 'd̠ʒ', 'tː', 'pː', 'ts', 'ɐː', 'oː', 'iː', 't̠ʃː', 'ɾ', 'ɡ', 'sː', 'eː', 'dz', 'bː', 'd̠ʒː', 'ɲ', 'tsː', 'ʃ', 'dzː', 'ŋ', 'dː', 'a', 'uː', 'ɔː', 'ɡː', 'h', 'ʒ']\n",
      "\n",
      "----------------------------------------------------------------------------------------------------\n",
      "ALL PHOIBLE:\n",
      "Comparing the phonemes seen in the data with all phoible phonemes:\n",
      "Unknown phonemes: None\n",
      "----------------------------------------------------------------------------------------------------\n",
      "LANGUAGE CODE:\n",
      "\n",
      "Comparing the phonemes seen in the data with just the phonemes in phoible with the ita language code:\n",
      "Unknown phonemes: {'tː': 8710, 'sː': 2547, 'iː': 1962, 'ɛː': 1577, 'ɐː': 1344, 'oː': 617, 'tsː': 454, 'ŋ': 414, 'eː': 372, 'dː': 223, 'dzː': 88, 'ɔː': 15, 'uː': 14, 'h': 7}\n",
      "Unseen phonemes: {'ɲː', 'ia', 'uie', 'ei̯', 'oi̯', 'd̪', 'd̪z̪ː', 't̪', 'nː', 'iɛ', 'io', 'ɛi̯', 'eu̯', 'rː', 'au̯', 'lː', 'fː', 's̪ː', 'd̪ː', 'ui', 'vː', 's̪', 't̪ː', 'z̪', 'ue', 'ɛu̯', 'mː', 'iu', 'ui̯', 'yia', 'ɔi̯', 'iɔ', 't̪s̪ː', 'uɔ', 'ʎː', 'ʃː', 'ua', 'ai̯', 'uiɛ', 'uo', 'uɛ', 'ie'}\n",
      "\n",
      "Phoible inventories names with the ita language code: ['Italian']\n",
      "Phoible dialects names with the ita language code: [\"Mainstream Italian'''\", 'Standard Italian', nan]\n",
      "----------------------------------------------------------------------------------------------------\n",
      "INVENTORIES:\n",
      "\n",
      "Now comparing the phonemes seen in the data with the phonemes in phoible with the specific language names ['Italian']:\n",
      "Inventory IDs matching the inventory names: {1145, 2427, 2195}\n",
      "Unknown phonemes: {'tː': 8710, 'sː': 2547, 'iː': 1962, 'ɛː': 1577, 'ɐː': 1344, 'oː': 617, 'tsː': 454, 'ŋ': 414, 'eː': 372, 'dː': 223, 'dzː': 88, 'ɔː': 15, 'uː': 14, 'h': 7}\n",
      "Unseen phonemes: {'ɲː', 'ia', 'uie', 'ei̯', 'oi̯', 'd̪', 'd̪z̪ː', 't̪', 'nː', 'iɛ', 'io', 'ɛi̯', 'eu̯', 'rː', 'au̯', 'lː', 'fː', 's̪ː', 'd̪ː', 'ui', 'vː', 's̪', 'ɛu̯', 'z̪', 'ue', 't̪ː', 'mː', 'iu', 'ui̯', 'yia', 'ɔi̯', 'iɔ', 't̪s̪ː', 'uɔ', 'ʎː', 'ʃː', 'ua', 'ai̯', 'uiɛ', 'uɛ', 'uo', 'ie'}\n",
      "----------------------------------------------------------------------------------------------------\n",
      "INVENTORY ID:\n",
      "\n",
      "Now comparing the phonemes seen in the data with the phonemes in phoible with the specific inventory 1145:\n",
      "Unknown phonemes: {'tː': 8710, 'kː': 4517, 'sː': 2547, 'iː': 1962, 't̠ʃː': 1717, 'ɾ': 1712, 'ɛː': 1577, 'ɐː': 1344, 'pː': 1079, 'bː': 872, 'oː': 617, 'd̠ʒː': 609, 'tsː': 454, 'ŋ': 414, 'eː': 372, 'dː': 223, 'a': 130, 'dzː': 88, 'ɡː': 68, 'ɔː': 15, 'uː': 14, 'ʒ': 9, 'h': 7}\n",
      "Unseen phonemes: None\n"
     ]
    }
   ],
   "source": [
    "compare_phoneme_sets('Italian', 'ita', ['Italian'], 1145)"
   ]
  },
  {
   "cell_type": "markdown",
   "metadata": {},
   "source": [
    "# Catalan analysis\n",
    "\n",
    "We compare the Catalan inventories in phoible to our Catalan dataset. For Catalan, we use phonemizer.\n",
    "\n",
    "With our folding dictionary we get close to inventory 2555. We have two unseen phonemes, `dz̺` and `i̯`. It is unclear why these are not produced. I'm also not sure what the distinction between `i` and `i̯` is. It is also worth noting that none of the Catalan inventories include diphthongs, nor does our tool produce diphthongs, even though Wikipedia says that there are phonemic diphthongs in Catalan.\n",
    "\n",
    "The three unknown phonemes, `ð`, `β`, `ɣ` are the lenited versions of `d`, `b` and `g` which are produced in Catalan, so we keep these.\n"
   ]
  },
  {
   "cell_type": "code",
   "execution_count": 20,
   "metadata": {},
   "outputs": [
    {
     "name": "stdout",
     "output_type": "stream",
     "text": [
      "Total phonemes in the dataset: 908431\n",
      "Unique phonemes: ['t̪', 'ɛ', 'WORD_BOUNDARY', 'ð', 'o', 'n̺', 'a', 'ɡ', 'ɾ̺', 's̺', 'j', 'ə', 'β', 'i', 'ŋ', 'p', 'u', 'ʒ', 'k', 'z̺', 'w', 'm', 'ɣ', 'ʎ̟', 'ɫ̺', 'ʃ', 'f', 'r̺', 'd̪', 'd̠ʒ', 'u̯', 'e', 'ɲ̟', 'ts̺', 'b', 't̠ʃ', 'ɔ']\n",
      "\n",
      "----------------------------------------------------------------------------------------------------\n",
      "ALL PHOIBLE:\n",
      "Comparing the phonemes seen in the data with all phoible phonemes:\n",
      "Unknown phonemes: None\n",
      "----------------------------------------------------------------------------------------------------\n",
      "LANGUAGE CODE:\n",
      "\n",
      "Comparing the phonemes seen in the data with just the phonemes in phoible with the cat language code:\n",
      "Unknown phonemes: {'β': 20590, 'ð': 12608, 'ɣ': 6873}\n",
      "Unseen phonemes: {'z', 'ʎ', 'ɔ̞', 'i̯', 's', 'i̯a', 'ei̯', 'ɾ', 'dz̺', 'r', 'l̺', 'ə̹', 'ɟ', 'v', 'ɲ', 'l', 'i̯ɛ', 'ɛ̞', 'ɛu̯', 'u̯a', 'n', 'u̯ə', 'ou̯', 'ui̯', 'a̟', 'c'}\n",
      "\n",
      "Phoible inventories names with the cat language code: ['Catalan']\n",
      "Phoible dialects names with the cat language code: ['Barcelona', 'Catalan (Southern Valencian)', 'Catalan (Central)', 'Catalan (Mallorcan)']\n",
      "----------------------------------------------------------------------------------------------------\n",
      "INVENTORIES:\n",
      "\n",
      "Now comparing the phonemes seen in the data with the phonemes in phoible with the specific language names ['Catalan']:\n",
      "Inventory IDs matching the inventory names: {2425, 1138, 2555, 2594}\n",
      "Unknown phonemes: {'β': 20590, 'ð': 12608, 'ɣ': 6873}\n",
      "Unseen phonemes: {'z', 'ʎ', 'ɔ̞', 'i̯', 's', 'i̯a', 'ei̯', 'ɾ', 'dz̺', 'r', 'l̺', 'ə̹', 'ɟ', 'v', 'ɲ', 'l', 'i̯ɛ', 'ɛ̞', 'ɛu̯', 'u̯a', 'n', 'ou̯', 'u̯ə', 'ui̯', 'a̟', 'c'}\n",
      "----------------------------------------------------------------------------------------------------\n",
      "INVENTORY ID:\n",
      "\n",
      "Now comparing the phonemes seen in the data with the phonemes in phoible with the specific inventory 2555:\n",
      "Unknown phonemes: {'β': 20590, 'ð': 12608, 'ɣ': 6873}\n",
      "Unseen phonemes: {'dz̺', 'i̯'}\n"
     ]
    }
   ],
   "source": [
    "compare_phoneme_sets('../processed/Catalan/train.csv', 'cat', ['Catalan'], 2555)"
   ]
  },
  {
   "cell_type": "markdown",
   "metadata": {},
   "source": [
    "# Croatian analysis\n",
    "\n",
    "We compare the Croatian inventory in phoible to our Croatian dataset. For Croatian, we use phonemizer.\n",
    "\n",
    "With our folding dictionary, we get close to inventory 1139 (the only inventory for Serbian).\n",
    "\n",
    "The unseen phonemes are mostly long vowels, which epitran fails to produce (**this might be an issue**). We also don't seem to produce `tɕ` and `dʑ`.\n",
    "\n",
    "The unknown phonemes are sufficiently rare."
   ]
  },
  {
   "cell_type": "code",
   "execution_count": 21,
   "metadata": {},
   "outputs": [
    {
     "name": "stdout",
     "output_type": "stream",
     "text": [
      "Total phonemes in the dataset: 834971\n",
      "Unique phonemes: ['m', 'i', 'ʃ', 'k', 'o', 'WORD_BOUNDARY', 'n', 'e', 't̪', 'd̪', 'r', 'a', 'p', 'u', 's', 'ʋ', 'j', 't̠ʃ', 'l', 'ɡ', 'x', 'ʒ', 'b', 't̪s', 'z', 'd̠ʒ', 'f', 'ɲ', 'ʎ', 'y', 'q', 'w']\n",
      "\n",
      "----------------------------------------------------------------------------------------------------\n",
      "ALL PHOIBLE:\n",
      "Comparing the phonemes seen in the data with all phoible phonemes:\n",
      "Unknown phonemes: None\n",
      "----------------------------------------------------------------------------------------------------\n",
      "LANGUAGE CODE:\n",
      "\n",
      "Comparing the phonemes seen in the data with just the phonemes in phoible with the hrv language code:\n",
      "Unknown phonemes: {'y': 39, 'q': 25, 'w': 21}\n",
      "Unseen phonemes: {'uː', 'iː', 'dʑ', 'aː', 'eː', 'ie', 'oː', 'tɕ'}\n",
      "\n",
      "Phoible inventories names with the hrv language code: ['Croatian']\n",
      "Phoible dialects names with the hrv language code: [nan]\n",
      "----------------------------------------------------------------------------------------------------\n",
      "INVENTORIES:\n",
      "\n",
      "Now comparing the phonemes seen in the data with the phonemes in phoible with the specific language names ['Croatian']:\n",
      "Inventory IDs matching the inventory names: {1139}\n",
      "Unknown phonemes: {'y': 39, 'q': 25, 'w': 21}\n",
      "Unseen phonemes: {'uː', 'iː', 'dʑ', 'aː', 'eː', 'ie', 'oː', 'tɕ'}\n",
      "----------------------------------------------------------------------------------------------------\n",
      "INVENTORY ID:\n",
      "\n",
      "Now comparing the phonemes seen in the data with the phonemes in phoible with the specific inventory 1139:\n",
      "Unknown phonemes: {'y': 39, 'q': 25, 'w': 21}\n",
      "Unseen phonemes: {'uː', 'iː', 'dʑ', 'aː', 'eː', 'ie', 'oː', 'tɕ'}\n"
     ]
    }
   ],
   "source": [
    "compare_phoneme_sets('../processed/Croatian/train.csv', 'hrv', ['Croatian'], 1139)"
   ]
  },
  {
   "cell_type": "markdown",
   "metadata": {},
   "source": [
    "# Welsh analysis\n",
    "\n",
    "We compare the Welsh inventory in phoible to our Welsh dataset. For Welsh, we use phonemizer.\n",
    "\n",
    "With our folding dictionary, we get close to inventory 1139 (the only inventory for Welsh).\n",
    "\n",
    "Unseen phonemes\n",
    "* `m̥`, `r̥`, `ŋ̥` and `n̥` - voiceless consonants which are not included in some interpretations of Welsh phonology.\n",
    "* `tʰ`, `pʰ` and `kʰ` - aspirated stops, not always included in Welsh phonology.\n",
    "* `t̠ʃ` - a rare phoneme mostly found in loan words.\n",
    "* `əu` - a diphthong that should be produced, unclear why it is not here.\n",
    "\n",
    "Unknown phonemes:\n",
    "* `d`, `b`, `g` - voiceless stops. These should definitely be listed, not clear why the inventory does not include them. \n",
    "* `ø` and `ʌ` - vowels not listed in the inventory, it's not obvious what they should be mapped to.  They are both produced when there is a `y` in the orthography and should be different vowels in different contexts, so can't be easily mapped. In most cases, they should be `iː` or `ɪ`. **This may be an issue**"
   ]
  },
  {
   "cell_type": "code",
   "execution_count": 22,
   "metadata": {},
   "outputs": [
    {
     "name": "stdout",
     "output_type": "stream",
     "text": [
      "Total phonemes in the dataset: 860863\n",
      "Unique phonemes: ['d', 'eː', 'χ', 'r', 'ai', 'WORD_BOUNDARY', 'ɛ', 't', 'ɔ', 'w', 'a', 'n', 'j', 'au', 'ə', 'ɔi', 'ð', 'oː', 'iː', 'ɪ', 'b', 's', 'ø', 'ɡ', 'ʊi', 'h', 'ʊ', 'm', 'əi', 'θ', 'l', 'v', 'ʌ', 'k', 'ɬ', 'p', 'f', 'ɪu', 'uː', 'ʃ', 'ɑː', 'ɛu', 'ŋ', 'd̠ʒ', 'z']\n",
      "\n",
      "----------------------------------------------------------------------------------------------------\n",
      "ALL PHOIBLE:\n",
      "Comparing the phonemes seen in the data with all phoible phonemes:\n",
      "Unknown phonemes: None\n",
      "----------------------------------------------------------------------------------------------------\n",
      "LANGUAGE CODE:\n",
      "\n",
      "Comparing the phonemes seen in the data with just the phonemes in phoible with the cym language code:\n",
      "Unknown phonemes: {'d': 42792, 'b': 19346, 'ø': 17282, 'ɡ': 13860, 'ʌ': 11316}\n",
      "Unseen phonemes: {'pʰ', 'ŋ̥', 'əu', 'r̥', 't̠ʃ', 'n̥', 'm̥', 'kʰ', 'tʰ'}\n",
      "\n",
      "Phoible inventories names with the cym language code: ['Welsh']\n",
      "Phoible dialects names with the cym language code: ['Welsh (Llanwrtyd)']\n",
      "----------------------------------------------------------------------------------------------------\n",
      "INVENTORIES:\n",
      "\n",
      "Now comparing the phonemes seen in the data with the phonemes in phoible with the specific language names ['Welsh']:\n",
      "Inventory IDs matching the inventory names: {2406}\n",
      "Unknown phonemes: {'d': 42792, 'b': 19346, 'ø': 17282, 'ɡ': 13860, 'ʌ': 11316}\n",
      "Unseen phonemes: {'pʰ', 'ŋ̥', 'əu', 'r̥', 't̠ʃ', 'n̥', 'm̥', 'kʰ', 'tʰ'}\n",
      "----------------------------------------------------------------------------------------------------\n",
      "INVENTORY ID:\n",
      "\n",
      "Now comparing the phonemes seen in the data with the phonemes in phoible with the specific inventory 2406:\n",
      "Unknown phonemes: {'d': 42792, 'b': 19346, 'ø': 17282, 'ɡ': 13860, 'ʌ': 11316}\n",
      "Unseen phonemes: {'pʰ', 'ŋ̥', 'əu', 'r̥', 't̠ʃ', 'n̥', 'm̥', 'kʰ', 'tʰ'}\n"
     ]
    }
   ],
   "source": [
    "compare_phoneme_sets('../processed/Welsh/train.csv', 'cym', ['Welsh'], 2406)"
   ]
  },
  {
   "cell_type": "markdown",
   "metadata": {},
   "source": [
    "# Icelandic analysis\n",
    "\n",
    "We compare the Icelandic inventories in phoible to our Icelandic dataset. For Icelandic, we use phonemizer.\n",
    "\n",
    "With our folding dictionary, we get close to inventory 2568.\n",
    "\n",
    "Unseen phonemes:\n",
    "* `aː`, `ɛː`, `ɔː`, `uː`, `iː`, `ɪː`, `ʏ` and `œː` - long vowels that should maybe be shortened, but mostly do exist in the other inventory.\n",
    "* `ə` - not in the other inventory, unclear if it should be here\n",
    "* `g` - not in either inventory but listed on wikipedia. Could be mapped to `kʰ`?\n",
    "* `z` and `ʃ` which are sufficiently rare\n",
    "\n",
    "Generally, it does not seem to be a great mapping."
   ]
  },
  {
   "cell_type": "code",
   "execution_count": 23,
   "metadata": {},
   "outputs": [
    {
     "name": "stdout",
     "output_type": "stream",
     "text": [
      "Total phonemes in the dataset: 761780\n",
      "Unique phonemes: ['aː', 'r̥', 'ɪ', 'WORD_BOUNDARY', 'ɛ', 't̪ʰ', 's̺', 'j', 'ä', 'pʰ', 'iː', 'k', 'ʋ', 'ɛː', 'r', 'ei̯', 'θ̻', 'i', 'l', 'n̪', 'uː', 'ð̺̞', 'ɡ', 'ɔ', 'n̪̥', 't̪', 'äu̯', 'ŋ̥', 'h', 'ʏ', 'm', 'f', 'ɔː', 'x', 'cʰ', 'ou̯', 'p', 'ŋ', 'äi̯', 'ɰ', 'ʏː', 'u', 'ɪː', 'œ', 'ç', 'ə', 'øɪ̯', 'ɬ', 'c', 'ɲ', 'm̥', 'œː', 'ɔi̯', 'ɲ̥', 'z', 'ʏi̯', 'ʃ']\n",
      "\n",
      "----------------------------------------------------------------------------------------------------\n",
      "ALL PHOIBLE:\n",
      "Comparing the phonemes seen in the data with all phoible phonemes:\n",
      "Unknown phonemes: None\n",
      "----------------------------------------------------------------------------------------------------\n",
      "LANGUAGE CODE:\n",
      "\n",
      "Comparing the phonemes seen in the data with just the phonemes in phoible with the isl language code:\n",
      "Unknown phonemes: {'ɡ': 9860, 'ɪː': 4944, 'ə': 3449, 'ʏː': 826, 'z': 6, 'ʃ': 2}\n",
      "Unseen phonemes: {'ø', 'øː', 'θ', 'ŋˑ', 't', 'e', 's', 'ɣ', 'v', 'n̥', 'l̥', 'kʰ', 'a', 'j̥', 'tʰ', 'ʍ', 'eː', 'n'}\n",
      "\n",
      "Phoible inventories names with the isl language code: ['Icelandic']\n",
      "Phoible dialects names with the isl language code: [nan]\n",
      "----------------------------------------------------------------------------------------------------\n",
      "INVENTORIES:\n",
      "\n",
      "Now comparing the phonemes seen in the data with the phonemes in phoible with the specific language names ['Icelandic']:\n",
      "Inventory IDs matching the inventory names: {2568, 158}\n",
      "Unknown phonemes: {'ɡ': 9860, 'ɪː': 4944, 'ə': 3449, 'ʏː': 826, 'z': 6, 'ʃ': 2}\n",
      "Unseen phonemes: {'ø', 'øː', 'θ', 'ŋˑ', 't', 'e', 's', 'ɣ', 'v', 'n̥', 'kʰ', 'l̥', 'eː', 'j̥', 'tʰ', 'ʍ', 'a', 'n'}\n",
      "----------------------------------------------------------------------------------------------------\n",
      "INVENTORY ID:\n",
      "\n",
      "Now comparing the phonemes seen in the data with the phonemes in phoible with the specific inventory 2568:\n",
      "Unknown phonemes: {'aː': 27181, 'ɛː': 27118, 'ɡ': 9860, 'ɔː': 7681, 'uː': 7615, 'iː': 6216, 'ɪː': 4944, 'ə': 3449, 'ʏː': 826, 'œː': 727, 'z': 6, 'ʃ': 2}\n",
      "Unseen phonemes: {'kʰ'}\n"
     ]
    }
   ],
   "source": [
    "compare_phoneme_sets('../processed/Icelandic/train.csv', 'isl', ['Icelandic'], 2568)"
   ]
  },
  {
   "cell_type": "markdown",
   "metadata": {},
   "source": [
    "# Danish analysis\n",
    "\n",
    "We compare the Danish inventories in phoible to our Danish dataset. For Danish, we use phonemizer.\n",
    "\n",
    "The output of phonemizer differs substantially from phoible and Wikipedia. With our folding dictionary we get close to inventory 2265, but there are some issues.\n",
    "\n",
    "Unseen phonemes:\n",
    "* `r` - phonemizer was producing `ɐ̯`, which is a correct phonetic realisation of `/r/`, but not listed in phoible, so we map it to the phoneme `/r/`. \n",
    "* `d`, `g`, `b`, `ŋ`, `ɕ`, `ð`, `w` - consonants not listed the other inventory (unclear why) but listed on Wikipedia. \n",
    "* `eˤ`, `ɑˤ`, `iˤ`, `uˤ`, `oˤ`, `aˤ`  - the Danish stød, which phonemizer seems to produce \n",
    "* `ɒ`, `ɑ`, `ɒː`, `uː`, `œː`, `ɜ`, `ɔː`, `oː` - vowels not listed in this inventory, but are listed in the other inventory or on Wikipedia\n",
    "* Remaining phonemes are rare or from loan words\n",
    "\n",
    "Unknown phonemes:\n",
    "* `kʰ`, `pʰ` and `tsʰ` - aspirated consonants which the tool doesn't seem to produce\n",
    "* `ø` - a vowel listed in this inventory that doesn't seem to be produced\n",
    "\n",
    "Generally, it does not seem to be a great mapping."
   ]
  },
  {
   "cell_type": "code",
   "execution_count": 24,
   "metadata": {},
   "outputs": [
    {
     "name": "stdout",
     "output_type": "stream",
     "text": [
      "Total phonemes in the dataset: 625565\n",
      "Unique phonemes: ['d', 'e', 'WORD_BOUNDARY', 'ɛ', 'r', 'eˤ', 'n', 'm', 'uˤ', 's', 't', 'ɑˤː', 'k', 'j', 'f', 'ɑ', 'ɒ', 'ə', 'ʋ', 'a', 'l', 'iˤ', 'h', 'b', 'ʁ', 'ɔˤ', 'p', 'œ', 'i', 'ɡ', 'ɔ', 'u', 'ɕ', 'w', 'ð', 'oˤ', 'o', 'y', 'ŋ', 'aˤ', 'ɒː', 'œː', 't̠ʃ', 'aː', 'd̠ʒ', 'uː', 'ɔː', 'ɜ', 'oː', 'θ', 'eː', 'ʔ', 'yː', 'iː', 'ɛː']\n",
      "\n",
      "----------------------------------------------------------------------------------------------------\n",
      "ALL PHOIBLE:\n",
      "Comparing the phonemes seen in the data with all phoible phonemes:\n",
      "Unknown phonemes: None\n",
      "----------------------------------------------------------------------------------------------------\n",
      "LANGUAGE CODE:\n",
      "\n",
      "Comparing the phonemes seen in the data with just the phonemes in phoible with the dan language code:\n",
      "Unknown phonemes: {'d': 31926, 'eˤ': 19248, 'ɔˤ': 15181, 'ð': 8860, 'ɑˤː': 6425, 'iˤ': 6214, 'ɡ': 5285, 'uˤ': 4971, 'b': 4365, 'oˤ': 3231, 'aˤ': 460, 'ɒː': 325, 'uː': 96, 'œː': 67, 'ɜ': 47, 'ɔː': 37, 'd̠ʒ': 34, 'oː': 22, 'aː': 21, 'yː': 20, 'iː': 9, 'eː': 6, 't̠ʃ': 3, 'θ': 3, 'ʔ': 2, 'ɛː': 2}\n",
      "Unseen phonemes: {'pʰ', 'yu̯', 'iu̯', 'æu̯', 'b̥ʰ', 'i̯a', 'i̯ɑ', 'kʰ', 'ð̞', 'i̯o', 'ø', 'ɡ̊', 'eʌ̯', 'œ̞ʌ̯', 'd̥z̥', 'eu̯', 'ɒu̯', 'i̯ɛ', 'i̯ø', 'b̥', 'ɑu̯', 'ɑi̯', 'i̯u', 'iʌ̯', 'øʌ̯', 'd̥', 'ɛu̯', 'œi̯', 'i̯e', 'ɡ̊ʰ', 'oʌ̯', 'ʌ', 'i̯y', 'ui̯', 'œ̞', 'tsʰ', 'æ', 'æʌ̯', 'ʁ̞', 'i̯æ', 'i̯œ̞', 'i̯œ', 'i̯ʌ', 'yʌ̯', 'øu̯', 'œu̯', 'i̯ɔ', 'i̯ɒ', 'uʌ̯'}\n",
      "\n",
      "Phoible inventories names with the dan language code: ['Danish']\n",
      "Phoible dialects names with the dan language code: [nan]\n",
      "----------------------------------------------------------------------------------------------------\n",
      "INVENTORIES:\n",
      "\n",
      "Now comparing the phonemes seen in the data with the phonemes in phoible with the specific language names ['Danish']:\n",
      "Inventory IDs matching the inventory names: {2265, 2167}\n",
      "Unknown phonemes: {'d': 31926, 'eˤ': 19248, 'ɔˤ': 15181, 'ð': 8860, 'ɑˤː': 6425, 'iˤ': 6214, 'ɡ': 5285, 'uˤ': 4971, 'b': 4365, 'oˤ': 3231, 'aˤ': 460, 'ɒː': 325, 'uː': 96, 'œː': 67, 'ɜ': 47, 'ɔː': 37, 'd̠ʒ': 34, 'oː': 22, 'aː': 21, 'yː': 20, 'iː': 9, 'eː': 6, 't̠ʃ': 3, 'θ': 3, 'ʔ': 2, 'ɛː': 2}\n",
      "Unseen phonemes: {'pʰ', 'yu̯', 'iu̯', 'æu̯', 'b̥ʰ', 'i̯a', 'kʰ', 'i̯ɑ', 'ð̞', 'i̯o', 'ø', 'ɡ̊', 'eʌ̯', 'œ̞ʌ̯', 'd̥z̥', 'eu̯', 'ɒu̯', 'i̯ɛ', 'i̯ø', 'ɑu̯', 'b̥', 'ɑi̯', 'i̯u', 'iʌ̯', 'øʌ̯', 'd̥', 'ɛu̯', 'œi̯', 'i̯e', 'oʌ̯', 'ɡ̊ʰ', 'ʌ', 'i̯y', 'ui̯', 'œ̞', 'tsʰ', 'æ', 'æʌ̯', 'ʁ̞', 'i̯æ', 'i̯œ̞', 'i̯œ', 'i̯ʌ', 'yʌ̯', 'øu̯', 'œu̯', 'i̯ɔ', 'i̯ɒ', 'uʌ̯'}\n",
      "----------------------------------------------------------------------------------------------------\n",
      "INVENTORY ID:\n",
      "\n",
      "Now comparing the phonemes seen in the data with the phonemes in phoible with the specific inventory 2265:\n",
      "Unknown phonemes: {'d': 31926, 'eˤ': 19248, 'r': 18929, 'ɔˤ': 15181, 'ɒ': 10378, 'ð': 8860, 'ɑ': 7108, 'ɑˤː': 6425, 'iˤ': 6214, 'ɡ': 5285, 'uˤ': 4971, 'b': 4365, 'w': 3574, 'oˤ': 3231, 'ŋ': 1543, 'aˤ': 460, 'ɒː': 325, 'ɕ': 114, 'uː': 96, 'œː': 67, 'ɜ': 47, 'ɔː': 37, 'd̠ʒ': 34, 'oː': 22, 'aː': 21, 'yː': 20, 'iː': 9, 'eː': 6, 't̠ʃ': 3, 'θ': 3, 'ʔ': 2, 'ɛː': 2}\n",
      "Unseen phonemes: {'ø', 'pʰ', 'tsʰ', 'kʰ'}\n"
     ]
    }
   ],
   "source": [
    "compare_phoneme_sets('../processed/Danish/train.csv', 'dan', ['Danish'], 2265)"
   ]
  },
  {
   "cell_type": "markdown",
   "metadata": {},
   "source": [
    "# Norwegian analysis\n",
    "\n",
    "We compare the Norwegian inventories in phoible to our Norwegian dataset. For Norwegian, we use phonemizer.\n",
    "\n",
    "With our folding dictionary we get close to inventory 499.\n",
    "\n",
    "Unseen phonemes:\n",
    "* `ɑ` - not listed in the inventory, but listed in other inventories and on Wikipedia.\n",
    "* `kː`, `pː`, `ɡː`, `bː`, `tː`, `dː` - long consonants produced by phonemizer. Not listed in phoible but is a feature of Norwegian (although perhaps not for `k` and `g`) \n",
    "* `ʂ`  - present in the other inventories and a valid consonant for Norwegian\n",
    "* Remaining phonemes are rare or from loan words\n",
    "\n",
    "Unknown phonemes:\n",
    "* `æi` - diphthong that doesn't seem to be produced by our tool\n",
    "* `ɳ`, `ɭ`, `ʈʰ` and `ɖ` - retroflex allophones of consonants we already have"
   ]
  },
  {
   "cell_type": "code",
   "execution_count": 25,
   "metadata": {},
   "outputs": [
    {
     "name": "stdout",
     "output_type": "stream",
     "text": [
      "Total phonemes in the dataset: 531777\n",
      "Unique phonemes: ['t̪ʰ', 'ɑ', 'kː', 'WORD_BOUNDARY', 'ʋ', 'a', 'ɾ', 'ʃ', 'o̞ː', 'ɡ', 'uː', 'd̪', 'h', 'ʉː', 's', 'e̞', 'tː', 'eː', 'n̪', 'pː', 'ə', 'l', 'ɪ', 'b', 'iː', 'æ', 'j', 'kʰ', 'ʉ', 'ɒ̝', 'm', 'f', 'yː', 'ai', 'pʰ', 'øy', 'ŋ', 'ø̞ː', 'dː', 'œ', 'bː', 'ç', 'æː', 'ɑː', 'ʏ', 'æʉ', 'ʊ', 'ɡː', 'ɔy', 'ʂ', 'ʉɪ', 'w', 'z']\n",
      "\n",
      "----------------------------------------------------------------------------------------------------\n",
      "ALL PHOIBLE:\n",
      "Comparing the phonemes seen in the data with all phoible phonemes:\n",
      "Unknown phonemes: {'ʉɪ': 11}\n",
      "----------------------------------------------------------------------------------------------------\n",
      "LANGUAGE CODE:\n",
      "\n",
      "Comparing the phonemes seen in the data with just the phonemes in phoible with the nob language code:\n",
      "Unknown phonemes: {'ɑ': 27044, 'tː': 3493, 'kː': 3364, 'pː': 1733, 'ɡː': 538, 'dː': 472, 'ʂ': 266, 'bː': 89, 'w': 13, 'ʉɪ': 11, 'z': 2}\n",
      "Unseen phonemes: {'ʈʰ', 'l̪', 'æi', 'ɳ', 'ɭ̩', '˥˧˥', 'ɭ', '˩˨', 'u', 'ɖ', 'm̥', 'l̪̩', 'ʔ', 'aː', 'ɹ̩'}\n",
      "\n",
      "Phoible inventories names with the nob language code: ['Norwegian', 'NORWEGIAN']\n",
      "Phoible dialects names with the nob language code: [nan]\n",
      "----------------------------------------------------------------------------------------------------\n",
      "INVENTORIES:\n",
      "\n",
      "Now comparing the phonemes seen in the data with the phonemes in phoible with the specific language names ['Norwegian', 'NORWEGIAN']:\n",
      "Inventory IDs matching the inventory names: {2441, 499, 159}\n",
      "Unknown phonemes: {'tː': 3493, 'kː': 3364, 'pː': 1733, 'ɡː': 538, 'dː': 472, 'bː': 89, 'ʉɪ': 11, 'z': 2}\n",
      "Unseen phonemes: {'øː', 'ɭ̩', 'i', 'ɔ', 'm̥', 'æi', 'ʈʰ', 'l̪', 'd', 'ɭ', 'aː', 'ʔ', 'tʰ', 'ɹ̩', 'ɳ', '˥˧˥', 'ɖ', 'n', 'oː', 'ɽ', 'ʈ', '˩˨', 'u', 'y', 'ɛ', 'l̪̩'}\n",
      "----------------------------------------------------------------------------------------------------\n",
      "INVENTORY ID:\n",
      "\n",
      "Now comparing the phonemes seen in the data with the phonemes in phoible with the specific inventory 499:\n",
      "Unknown phonemes: {'ɑ': 27044, 'tː': 3493, 'kː': 3364, 'pː': 1733, 'ɡː': 538, 'dː': 472, 'ʂ': 266, 'bː': 89, 'w': 13, 'ʉɪ': 11, 'z': 2}\n",
      "Unseen phonemes: {'ʈʰ', 'ɳ', 'ɭ', 'ɖ', 'æi'}\n"
     ]
    }
   ],
   "source": [
    "compare_phoneme_sets('../processed/Norwegian/train.csv', 'nob', ['Norwegian', 'NORWEGIAN'], 499)"
   ]
  },
  {
   "cell_type": "markdown",
   "metadata": {},
   "source": [
    "# Basque analysis\n",
    "\n",
    "We compare the Basque inventories in phoible to our Basque dataset. For Basque, we use phonemizer.\n",
    "\n",
    "The best inventory to match with the output of phonemizer seems to be 2161, since it is the only Basque inventory that contains diphthongs (which our tool produces and which exist in Basque). With our folding dictionary, we get a close match.\n",
    "\n",
    "Unseen phonemes:\n",
    "* `β`, `ð` and `ɣ` - the unvoiced `b`, `d` and `ɡ` which should be listed in the inventory\n",
    "* `ɟ` - a valid consonant listed on Wikipedia and in other inventories\n",
    "* `θ`  - rare, produced in Spanish loan words\n",
    "\n",
    "Unknown phonemes:\n",
    "* `˧˩` and `˧˥` - Pitch/tone is used to mark stress in some dialects of Basque, but our tool does not produce these\n"
   ]
  },
  {
   "cell_type": "code",
   "execution_count": 26,
   "metadata": {},
   "outputs": [
    {
     "name": "stdout",
     "output_type": "stream",
     "text": [
      "Total phonemes in the dataset: 516010\n",
      "Unique phonemes: ['oi̯', 'WORD_BOUNDARY', 'a', 'ɾ', 'k', 't̠ʃ', 'i', 's̺', 'l', 'p', 'o', 'r', 'ai̯', 'n', 'm', 'ð', 'e', 't̪̻s̪̻', 'β', 's̪̻', 'ʎ', 'b', 'au̯', 't̪', 'ɣ', 'ɡ', 'c', 'u', 'ei̯', 'd̪', 't̺s̺', 'j', 'ɲ', 'f', 'ʃ', 'ɟ', 'eu̯', 'θ', 'x']\n",
      "\n",
      "----------------------------------------------------------------------------------------------------\n",
      "ALL PHOIBLE:\n",
      "Comparing the phonemes seen in the data with all phoible phonemes:\n",
      "Unknown phonemes: None\n",
      "----------------------------------------------------------------------------------------------------\n",
      "LANGUAGE CODE:\n",
      "\n",
      "Comparing the phonemes seen in the data with just the phonemes in phoible with the eus language code:\n",
      "Unknown phonemes: {'β': 11559, 'ð': 11008, 'ɣ': 7534, 'θ': 70}\n",
      "Unseen phonemes: {'d̪|d', 'h̃', 'pʰ', 'uː', 'dz̻', 'χ', '˧˩', 'i̯', 'kʰ', 'z̻', 'ẽ̞', 'n̺', 'ts̺', 'o̞', 'ɾ̪|ɾ', 'd', 'l̺', 'ɾ̺', 'h', 'ũ', 'o̞ː', 't̪|t', 't', 'ä', 'e̞ː', 'tʰ', 'ʈʂ', 'r̺', 'ɪ', 'ʂ', 'r̪|r', 'ã̈', 'õ̞', 't̪s̪|ts', 'ts̻', 'ỹ', 's̪|s', '˧˥', 't̻s̻', 'ʒ', 'iː', 's̻', 'd̠ʒ', 'ĩ', 'l̪|l', 'äː', 'n̪|n', 'y', 'u̯', 'e̞', 'z̺'}\n",
      "\n",
      "Phoible inventories names with the eus language code: ['Basque', 'BASQUE', 'Zuberoan Basque']\n",
      "Phoible dialects names with the eus language code: [nan, 'Goizueta Basque', 'Basque (Baztan)', 'Basque (Arbizu)', 'Basque (Gernika)', 'Basque (Ondarroa)']\n",
      "----------------------------------------------------------------------------------------------------\n",
      "INVENTORIES:\n",
      "\n",
      "Now comparing the phonemes seen in the data with the phonemes in phoible with the specific language names ['Basque', 'Zuberoan Basque', 'BASQUE']:\n",
      "Inventory IDs matching the inventory names: {321, 2340, 2615, 2381, 2161, 2419, 179, 2583}\n",
      "Unknown phonemes: {'β': 11559, 'ð': 11008, 'ɣ': 7534, 'θ': 70}\n",
      "Unseen phonemes: {'d̪|d', 'h̃', 'dz̻', 'uː', 'pʰ', 'χ', '˧˩', 'i̯', 'kʰ', 'z̻', 'ẽ̞', 'n̺', 'ts̺', 'ũ', 'ɾ̪|ɾ', 'h', 'l̺', 'ɾ̺', 'd', 'o̞', 'o̞ː', 't̪|t', 't', 'ä', 'e̞ː', 'tʰ', 'ʈʂ', 'ã̈', 'ɪ', 'ʂ', 'r̪|r', 'r̺', 'õ̞', 't̪s̪|ts', 'ỹ', 'ts̻', 's̪|s', '˧˥', 't̻s̻', 'ʒ', 'iː', 's̻', 'd̠ʒ', 'äː', 'l̪|l', 'ĩ', 'n̪|n', 'y', 'u̯', 'e̞', 'z̺'}\n",
      "----------------------------------------------------------------------------------------------------\n",
      "INVENTORY ID:\n",
      "\n",
      "Now comparing the phonemes seen in the data with the phonemes in phoible with the specific inventory 2161:\n",
      "Unknown phonemes: {'β': 11559, 'ð': 11008, 'ɣ': 7534, 'ɟ': 995, 'θ': 70}\n",
      "Unseen phonemes: {'˧˥', '˧˩'}\n"
     ]
    }
   ],
   "source": [
    "compare_phoneme_sets('../processed/Basque/train.csv', 'eus', ['Basque', 'Zuberoan Basque', 'BASQUE'], 2161)"
   ]
  },
  {
   "cell_type": "markdown",
   "metadata": {},
   "source": [
    "# Hungarian analysis\n",
    "\n",
    "We compare the Hungarian inventories in phoible to our Hungarian dataset. For Hungarian, we use epitran.\n",
    "\n",
    "With our folding dictionary, we get a good match with inventory 2191.\n",
    "\n",
    "Unknown phonemes:\n",
    "* `ŋ` - caused by nasal place assimilation, not always included in inventories but is valid\n",
    "\n",
    "Unseen phonemes:\n",
    "* `d̻z̻ː`, `ʒː`, `d̠ʒː` - long consonants that do not seem to be produced by our tool "
   ]
  },
  {
   "cell_type": "code",
   "execution_count": 27,
   "metadata": {},
   "outputs": [
    {
     "name": "stdout",
     "output_type": "stream",
     "text": [
      "Total phonemes in the dataset: 538043\n",
      "Unique phonemes: ['m', 'ɛ', 'n̪', 'j', 'y', 'k', 'WORD_BOUNDARY', 'ɑ', 'r̪', 'aː', 'd̪', 'i', 'o', 'h', 'z̻', 'v', 'l̪', 'eː', 'oː', 'ʃ', 's̻', 't̪', 't̠ʃ', 'ɟʝ', 's̻ː', 'p', 'b', 'u', 'z̻ː', 'ɡ', 't̪ː', 'l̪ː', 'f', 'ɟʝː', 'uː', 'øː', 'ø', 'n̪ː', 'ɲ', 'iː', 't̻s̻', 'mː', 'r̪ː', 'ʃː', 'kː', 'ŋ', 't̠ʃː', 'jː', 'cç', 'ɡː', 'ɲː', 'bː', 'd̪ː', 'pː', 'ʒ', 'vː', 't̻s̻ː', 'cçː', 'fː', 'hː', 'd̻z̻', 'yː', 'd̠ʒ']\n",
      "\n",
      "----------------------------------------------------------------------------------------------------\n",
      "ALL PHOIBLE:\n",
      "Comparing the phonemes seen in the data with all phoible phonemes:\n",
      "Unknown phonemes: None\n",
      "----------------------------------------------------------------------------------------------------\n",
      "LANGUAGE CODE:\n",
      "\n",
      "Comparing the phonemes seen in the data with just the phonemes in phoible with the hun language code:\n",
      "Unknown phonemes: {'ŋ': 241}\n",
      "Unseen phonemes: {'z', 's', 'ɔ', 'd̠ʒː', 'zː', 'd̪z̪', 'ɾ', 'r', 'd', 'nː', 'd̻z̻ː', 't', 'dː', 'tsː', 'w', 'ɟ', 'rː', 'ä', 'l', 'lː', 'ʒː', 't̪s̪', 'dz', 'sː', 's̪', 'z̪', 'tː', 'n', 'ɒ', 'æ', 'äː', 'ts', 'dzː', 'c'}\n",
      "\n",
      "Phoible inventories names with the hun language code: ['Hungarian', 'HUNGARIAN']\n",
      "Phoible dialects names with the hun language code: [nan, 'Educated colloquial Hungarian (as spoken in Budapest of the 1990s)', 'Hungarian (Standard)']\n",
      "----------------------------------------------------------------------------------------------------\n",
      "INVENTORIES:\n",
      "\n",
      "Now comparing the phonemes seen in the data with the phonemes in phoible with the specific language names ['HUNGARIAN', 'Hungarian']:\n",
      "Inventory IDs matching the inventory names: {2191, 2557, 358, 183}\n",
      "Unknown phonemes: {'ŋ': 241}\n",
      "Unseen phonemes: {'z', 's', 'ɔ', 'd̠ʒː', 'zː', 'd̪z̪', 'ɾ', 'r', 'nː', 'd', 'd̻z̻ː', 't', 'tsː', 'dː', 'ä', 'w', 'rː', 'ɟ', 'l', 'lː', 'ʒː', 't̪s̪', 'dz', 'sː', 's̪', 'z̪', 'tː', 'n', 'ɒ', 'æ', 'äː', 'ts', 'dzː', 'c'}\n",
      "----------------------------------------------------------------------------------------------------\n",
      "INVENTORY ID:\n",
      "\n",
      "Now comparing the phonemes seen in the data with the phonemes in phoible with the specific inventory 2191:\n",
      "Unknown phonemes: {'ŋ': 241}\n",
      "Unseen phonemes: {'ʒː', 'd̻z̻ː', 'd̠ʒː'}\n"
     ]
    }
   ],
   "source": [
    "compare_phoneme_sets('../processed/Hungarian/train.csv', 'hun', ['HUNGARIAN', 'Hungarian'], 2191)"
   ]
  },
  {
   "cell_type": "markdown",
   "metadata": {},
   "source": [
    "# Romanian analysis\n",
    "\n",
    "We compare the Romanian inventories in phoible to our Romanian dataset. For Romanian, we use phonemizer.\n",
    "\n",
    "With our folding dictionary, we get a close match with inventory 2443 (the other inventories do not include palatalised consonants, which phonemizer produces).\n",
    "\n",
    "The main difference between the output of our tool and inventory 2443 is diphthongs. In Romanian, one view is that there are only two phonemic diphthongs, /oa/ and /ea/, however the traditional view is that there are many diphthongs, which phonemizer seems to produce. We could split the diphthongs into vowel glides, but we leave them for now. \n",
    "\n",
    "Unknown phonemes:\n",
    "* `j`, `w` - valid approximant consonants that are listed in other inventories and Wikipedia but not this inventory\n",
    "* `aɪ`, `uɪ`, `aʊ`, `eɪ`, `iɪ`, `əɪ`, `eʊ`, `iʊ`, `oʊ`, `əʊ`, `eo`, `oɪ`, `yɪ`, `äʊ` - valid Romanian diphthongs that our tool produces but aren't listed in the inventory. Strangely, only the falling diphthongs are produced (not the rising diphthongs).\n",
    "\n",
    "Unseen phonemes:\n",
    "* `i̯`, `u̯` - vowels listed in the inventory that are not produced by our tool. It is unclear these exist in the inventory since we already have `i` and `u`. \n",
    "* `ç` - not listed in other inventories and not produced by our tool."
   ]
  },
  {
   "cell_type": "code",
   "execution_count": 28,
   "metadata": {},
   "outputs": [
    {
     "name": "stdout",
     "output_type": "stream",
     "text": [
      "Total phonemes in the dataset: 336366\n",
      "Unique phonemes: ['ä', 'ʃ', 'WORD_BOUNDARY', 'm', 'e̞', 'h', 'd̪', 's̪', 'f', 't̠ʃ', 'l', 'ə', 'p', 'i', 'k', 'ɨ', 'n̪', 'uɪ', 't̪', 't̠ʃʲ', 'w', 'u', 't̪s̪', 'aɪ', 'ɾ̪', 'o̞', 'j', 'b', 'v', 'eɪ', 'o̯ä', 'tsʲ', 'ɡ', 'z̪', 'zʲ', 'e̯ä', 'iɪ', 'ʃʲ', 'aʊ', 'ʒ', 'əɪ', 'd̠ʒ', 'eʊ', 'nʲ', 'tʲ', 'iʊ', 'mʲ', 'ɾʲ', 'bʲ', 'kʲ', 'eo', 'd̠ʒʲ', 'dʲ', 'pʲ', 'əʊ', 'oʊ', 'sʲ', 'lʲ', 'fʲ', 'vʲ', 'ʒʲ', 'yɪ', 'oɪ', 'ɡʲ']\n",
      "\n",
      "----------------------------------------------------------------------------------------------------\n",
      "ALL PHOIBLE:\n",
      "Comparing the phonemes seen in the data with all phoible phonemes:\n",
      "Unknown phonemes: {'yɪ': 4}\n",
      "----------------------------------------------------------------------------------------------------\n",
      "LANGUAGE CODE:\n",
      "\n",
      "Comparing the phonemes seen in the data with just the phonemes in phoible with the ron language code:\n",
      "Unknown phonemes: {'aɪ': 3590, 'uɪ': 1309, 'aʊ': 814, 'eɪ': 724, 'iɪ': 713, 'əɪ': 377, 'eʊ': 373, 'iʊ': 267, 'oʊ': 174, 'əʊ': 81, 'eo': 31, 'oɪ': 21, 'yɪ': 4}\n",
      "Unseen phonemes: {'z', 'r̪', 'ç', 'o', 'i̯', 's', 'ɾ', 'l̪', 'd', 't', 'ɛ̯', 'e̞o̞', 'e', 'n', 'o̞a', 'e̞a', 'ts', 'ɔ̯', 'u̯', 'a'}\n",
      "\n",
      "Phoible inventories names with the ron language code: ['Rumanian', 'ROMANIAN', 'Romanian']\n",
      "Phoible dialects names with the ron language code: [nan, 'Romanian (Standard)']\n",
      "----------------------------------------------------------------------------------------------------\n",
      "INVENTORIES:\n",
      "\n",
      "Now comparing the phonemes seen in the data with the phonemes in phoible with the specific language names ['Rumanian', 'ROMANIAN', 'Romanian']:\n",
      "Inventory IDs matching the inventory names: {2443, 165, 527}\n",
      "Unknown phonemes: {'aɪ': 3590, 'uɪ': 1309, 'aʊ': 814, 'eɪ': 724, 'iɪ': 713, 'əɪ': 377, 'eʊ': 373, 'iʊ': 267, 'oʊ': 174, 'əʊ': 81, 'eo': 31, 'oɪ': 21, 'yɪ': 4}\n",
      "Unseen phonemes: {'z', 'r̪', 'ç', 'o', 'i̯', 's', 'ɾ', 'l̪', 'd', 't', 'ɛ̯', 'e̞o̞', 'e', 'n', 'o̞a', 'e̞a', 'ts', 'ɔ̯', 'u̯', 'a'}\n",
      "----------------------------------------------------------------------------------------------------\n",
      "INVENTORY ID:\n",
      "\n",
      "Now comparing the phonemes seen in the data with the phonemes in phoible with the specific inventory 2443:\n",
      "Unknown phonemes: {'j': 6158, 'aɪ': 3590, 'uɪ': 1309, 'aʊ': 814, 'eɪ': 724, 'iɪ': 713, 'w': 558, 'əɪ': 377, 'eʊ': 373, 'iʊ': 267, 'oʊ': 174, 'əʊ': 81, 'eo': 31, 'oɪ': 21, 'yɪ': 4}\n",
      "Unseen phonemes: {'ç', 'i̯', 'u̯'}\n"
     ]
    },
    {
     "name": "stderr",
     "output_type": "stream",
     "text": [
      "21550it [00:00, 3458475.27it/s]\n"
     ]
    },
    {
     "data": {
      "text/plain": [
       "{'aia/ä j ä': 309,\n",
       " \"aia'i/ä j ä i\": 19,\n",
       " \"aia'/ä j ä\": 11,\n",
       " 'oaia/o̯ä j ä': 11,\n",
       " 'ceai/t̠ʃ e̯ä j': 10,\n",
       " \"dup'aia/d̪ u p ä j ä\": 8,\n",
       " \"de'aia/d̪ e̞ ä j ä\": 7,\n",
       " \"pe'aia/p e̞ ä j ä\": 7,\n",
       " 'oaie/o̯ä j e̞': 6,\n",
       " 'maieuţ/m ä j e̞ u t̪s̪': 5,\n",
       " 'galbenă/ä j ä': 5,\n",
       " 'ceaiul/t̠ʃ e̯ä j u l': 4,\n",
       " 'în/ä j ä': 3,\n",
       " 'roşie/ä j ä': 2,\n",
       " \"p'aia/p ä j ä\": 2,\n",
       " 'mamaia/m ä m ä j ä': 2,\n",
       " \"d'aia/d̪ ä j ä\": 2,\n",
       " 'deraiat/d̪ e̞ ɾ̪ ä j ä t̪': 2,\n",
       " 'aia+i/ä j ä': 1,\n",
       " 'te/ä j ä': 1,\n",
       " 'chinezoaică/k i n̪ e̞ z̪ o̯ä j k ə': 1,\n",
       " 'aia+ţi/ä j ä': 1,\n",
       " 'aiaka/ä j ä k ä': 1,\n",
       " 'acolo/ä j ä': 1,\n",
       " 'daia/d̪ ä j ä': 1,\n",
       " 'cu/ä j ä': 1,\n",
       " 'ploaia/p l o̯ä j ä': 1,\n",
       " \"de'acolo/ä j ä\": 1,\n",
       " 'apaia/ä p ä j ä': 1,\n",
       " 'da/ä j ä': 1,\n",
       " 'îndoaie/ɨ n̪ d̪ o̯ä j e̞': 1,\n",
       " 'în/p ä j ä': 1,\n",
       " 'pijitoaia/p i ʒ i t̪ o̯ä j ä': 1,\n",
       " 'foaia/f o̯ä j ä': 1,\n",
       " 'binagaia/b i n̪ ä ɡ ä j ä': 1,\n",
       " 'Sinaia/s̪ i n̪ ä j ä': 1,\n",
       " 'problema/ä j ä i': 1,\n",
       " \"dup'aia+ţi/d̪ u p ä j ä\": 1,\n",
       " 'mai/ä j ä': 1,\n",
       " 'verde/ä j ä': 1,\n",
       " \"ş'aia/ʃ ä j ä\": 1,\n",
       " 'albastră/ä j ä': 1,\n",
       " 'din/ä j ä': 1,\n",
       " 'albastră/ä j ä l ä l t̪ ə': 1,\n",
       " 'galben/ä j ä': 1,\n",
       " 'maieul/m ä j e̞ u l': 1,\n",
       " \"din'aia/d̪ i n̪ ä j ä\": 1,\n",
       " 'că/ä j ä': 1}"
      ]
     },
     "execution_count": 28,
     "metadata": {},
     "output_type": "execute_result"
    }
   ],
   "source": [
    "compare_phoneme_sets('../processed/Romanian/train.csv', 'ron', ['Rumanian', 'ROMANIAN', 'Romanian'], 2443)\n",
    "find_words_with_phoneme('../processed/Romanian/train.csv', 'ä j', single_phoneme=False)"
   ]
  },
  {
   "cell_type": "markdown",
   "metadata": {},
   "source": [
    "# Brazilian Portuguese analysis\n",
    "\n",
    "We compare the Brazilian Portuguese inventories in phoible to our Brazilian Portuguese dataset. For Brazilian Portuguese, we use phonemizer.\n",
    "\n",
    "With our folding dictionary, we get a close match with inventory 2207.\n",
    "\n",
    "Unknown phonemes:\n",
    "* `ɐ`, `õ`, `ɐ̃`, `ĩ`, `ũ` - vowels (mostly nasal) that exist in Brazilian portuguese but are not listed in the inventory (are listed in others)\n",
    "* `w` - consonant that exists in Brazilian portuguese but isn't listed in this inventory (is listed in others)\n",
    "* `d̠ʒ` - palatalised /d/ that isn't listed in the inventory but is valid in Brazilian portuguese\n",
    "\n",
    "Unseen phonemes:\n",
    "* `õɪ̯̃`, `ɔʊ̯`, `uʊ̯`, `ɐ̃ɪ̯̃`, `ũɪ̯̃`, `ʊ̯aɪ̯`, `ʊ̯ɐ̃`, - diphthongs that don't seem to be produced by our tool\n",
    "* `ʎ` - consonant that doesn't seem to be produced by our tool"
   ]
  },
  {
   "cell_type": "code",
   "execution_count": 29,
   "metadata": {},
   "outputs": [
    {
     "name": "stdout",
     "output_type": "stream",
     "text": [
      "Total phonemes in the dataset: 80855\n",
      "Unique phonemes: ['k', 'i', 'WORD_BOUNDARY', 'm', 'aɪ̯', 's̪', 't̪', 'ẽɪ̯̃', 'a', 'n̪', 'ɛ', 'ɐ', 'z', 'ɡ', 'r', 'v', 'u', 'ɾ', 'd̪', 'oɪ̯', 'ɲ', 'e', 'ɐ̃ʊ̯̃', 'f', 'õ', 'p', 'ʒ', 'd̠ʒ', 'eʊ̯', 'aʊ̯', 'o', 'ũ', 'ĩ', 'ɐ̃', 'oʊ̯', 'l', 'b', 'ɣ', 'ɔ', 'ʃ', 'w', 'eɪ̯', 'iʊ̯', 'ɛʊ̯', 'ɔɪ̯', 'uɪ̯', 'ɛɪ̯']\n",
      "\n",
      "----------------------------------------------------------------------------------------------------\n",
      "ALL PHOIBLE:\n",
      "Comparing the phonemes seen in the data with all phoible phonemes:\n",
      "Unknown phonemes: None\n",
      "----------------------------------------------------------------------------------------------------\n",
      "LANGUAGE CODE:\n",
      "\n",
      "Comparing the phonemes seen in the data with just the phonemes in phoible with the por language code:\n",
      "Unknown phonemes: {'d̠ʒ': 630}\n",
      "Unseen phonemes: {'ʊ̯aɪ̯', 'l̪ˠ', 'ĕ', 'oi', 'ʎ', 'au̜', 'i̯', 's', 'z̻', 'uʊ̯', 'eu̜', 'ai', 'ɛi', 'ä', 'x', 'ɛu̜', 'ɫ', 'ã̈', 'ũi', 'ɐ̃ɪ̯̃', 'iu̜', 'ũ̯', 'ui', 'z̪', 'ɱ', 'ŭ', 'ʊ̯ɐ̃', 'ɐi', 'õɪ̯̃', 'ʁ', 'n', 'ĭ', 'ɯ', 'ũɪ̯̃', 'ə', 'ɐ̃i', 'ŋ', 'ĩ̯', 'õi', 'ɯ̽', 's̻', 'ɔi', 'ɔʊ̯', 'ẽ', 'j', 'u̯', 'ɐ̃u̜'}\n",
      "\n",
      "Phoible inventories names with the por language code: ['Portuguese', 'Portuguese (European)', 'Portuguese (Brazilian)']\n",
      "Phoible dialects names with the por language code: [nan, 'Lisbon', 'São Paulo', 'Portuguese (Estremenho)']\n",
      "----------------------------------------------------------------------------------------------------\n",
      "INVENTORIES:\n",
      "\n",
      "Now comparing the phonemes seen in the data with the phonemes in phoible with the specific language names ['Portuguese', 'Portuguese (Brazilian)']:\n",
      "Inventory IDs matching the inventory names: {2207, 163, 2623}\n",
      "Unknown phonemes: {'d̠ʒ': 630}\n",
      "Unseen phonemes: {'ʊ̯aɪ̯', 'ĕ', 'ʎ', 'i̯', 's', 'z̻', 'uʊ̯', 'ä', 'x', 'ã̈', 'ɫ', 'ɐ̃ɪ̯̃', 'ũ̯', 'z̪', 'ɱ', 'ʊ̯ɐ̃', 'ŭ', 'õɪ̯̃', 'n', 'ʁ', 'ĭ', 'ũɪ̯̃', 'ə', 'ĩ̯', 'ŋ', 'ɯ̽', 's̻', 'ɔʊ̯', 'ẽ', 'j', 'u̯'}\n",
      "----------------------------------------------------------------------------------------------------\n",
      "INVENTORY ID:\n",
      "\n",
      "Now comparing the phonemes seen in the data with the phonemes in phoible with the specific inventory 2207:\n",
      "Unknown phonemes: {'ɐ': 3237, 'õ': 871, 'ɐ̃': 695, 'd̠ʒ': 630, 'ĩ': 445, 'w': 324, 'ũ': 312}\n",
      "Unseen phonemes: {'ʊ̯aɪ̯', 'ʎ', 'ɐ̃ɪ̯̃', 'ɔʊ̯', 'ʊ̯ɐ̃', 'õɪ̯̃', 'ũɪ̯̃', 'uʊ̯'}\n"
     ]
    }
   ],
   "source": [
    "compare_phoneme_sets('../processed/PortugueseBr/train.csv', 'por', ['Portuguese', 'Portuguese (Brazilian)'], 2207)"
   ]
  },
  {
   "cell_type": "markdown",
   "metadata": {},
   "source": [
    "# Irish analysis\n",
    "\n",
    "We compare the Irish inventories in phoible to our Irish dataset. For Irish, we use phonemizer.\n",
    "\n",
    "With a substantial folding dictionary, we get close to inventory 2521. \n",
    "\n",
    "Unknown phonemes:\n",
    "* `w`, `j` - voice approximate phonemes that are listed in other inventories for Irish but not this one. \n",
    "* The rest are sufficiently rare.\n",
    "\n",
    "Unseen phonemes:\n",
    "* `ŋ̟`,  `ʝ`, `ɟ` - consonants that our tool doesn't seem to produce\n",
    "* `ɔʊ`, `uːə`, `ia` - dipthongs that our tool doesn't seem to produce (most of the others are)\n"
   ]
  },
  {
   "cell_type": "markdown",
   "metadata": {},
   "source": [
    "# "
   ]
  },
  {
   "cell_type": "code",
   "execution_count": 30,
   "metadata": {},
   "outputs": [
    {
     "name": "stdout",
     "output_type": "stream",
     "text": [
      "Total phonemes in the dataset: 167004\n",
      "Unique phonemes: ['a', 'ɡ', 'ə', 'sˠ', 'WORD_BOUNDARY', 'n̪ˠ', 'w', 'ɪ', 'l̪ˠ', 'oː', 'ɛ̝', 'ɑː', 'i̞', 'ʒ', 'bˠ', 'mˠ', 'ʃ', 'cʰ', 'x', 't̪ˠʰ', 'ʊ', 'iː', 'ɾ̪ˠ', 'eː', 'h', 'ɾ̪ʲ', 'fˠ', 'ɔ̝', 'd̪ˠ', 'kʰ', 'l̪ʲ', 'd̪ʲ', 'vˠ', 'n̪ʲ', 'pˠʰ', 'd̠ʒ', 'uː', 'ŋ', 'ɣ', 'j', 'ɐɪ', 't̪ʲʰ', 'iːə', 'ç', 'pʲʰ', 'uːe', 'mʲ', 'bʲ', 'ɐ', 'fʲ', 'tʲ', 'xʲ', 'ʲ', 'z', 'e', 'vʲ', 'χ', 'l̪ʲʲ']\n",
      "\n",
      "----------------------------------------------------------------------------------------------------\n",
      "ALL PHOIBLE:\n",
      "Comparing the phonemes seen in the data with all phoible phonemes:\n",
      "Unknown phonemes: {'l̪ʲʲ': 3, 'ʲ': 1}\n",
      "----------------------------------------------------------------------------------------------------\n",
      "LANGUAGE CODE:\n",
      "\n",
      "Comparing the phonemes seen in the data with just the phonemes in phoible with the gle language code:\n",
      "Unknown phonemes: {'z': 22, 'ʒ': 17, 'ɐ': 13, 'tʲ': 3, 'l̪ʲʲ': 3, 'xʲ': 1, 'ʲ': 1, 'χ': 1}\n",
      "Unseen phonemes: {'ʎ', 'i', 't̠s̠ʲʰ', 'ɔ', 'au', 'kʲʰ', 'ɯ̞̯', 'ɲ', 'ŋʲ', 'βʲ', 't̠ʲ', 'ɾˠ', 'ɔː', 'ã', 'ɾ̥ʲ', 'lˠ', 'e̯', 'nʲ', 's̻', 'e̞', 'əu', 's', 'ia', 'ẽ̞', 'ẽː', 'd̪', 'n̠ʲ', 'l̠', 'ɤ̯', 'ɔʊ', 'ɸʲ', 'iə', 'tʰ', 'pʲ', 'uːə', 'nˠ', 'd̠ʲ', 'əi', 'ɸʷˠ', 'ɕ', 'u', 'æː', 'ɛ', 'c', 'l̥ʲ', 'n̥ˠ', 'l̠ʲ', 't̪ˠ', 'o', 'ɟʝ', 'ɤ', 'ɑ̃ː', 'd', 'l', 'n̪', 'ɾʲ', 'ʝ', 'ɡ̟', 'õ̞', 'd̠z̠ʲ', 'ĩː', 'l̥ˠ', 'ɪ̃', 'mʷˠ', 'pˠ', 'uə', 'ɡʲ', 'pʷˠʰ', 'õː', 'ŋ̟', 'k̟ʰ', 'n̥ʲ', 'o̞', 'ɾ̥ˠ', 'ɟ', 'ʃʲ', 't̪ʰ', 'k', 'lʲ', 'n̠', 't̠ʃ', 'ə̯', 'n', 'ʌ', 'ɸ̃', 'æ', 'ʊ̃', 'ua', 'bʷˠ', 'ũː'}\n",
      "\n",
      "Phoible inventories names with the gle language code: ['Irish Gaelic', 'IRISH', 'Irish']\n",
      "Phoible dialects names with the gle language code: [nan, 'Irish (Gaoth Dobhair)', 'Irish (Corca Dhuibhne)']\n",
      "----------------------------------------------------------------------------------------------------\n",
      "INVENTORIES:\n",
      "\n",
      "Now comparing the phonemes seen in the data with the phonemes in phoible with the specific language names ['Irish', 'Irish Gaelic', 'IRISH']:\n",
      "Inventory IDs matching the inventory names: {2193, 342, 2262, 2521, 156}\n",
      "Unknown phonemes: {'z': 22, 'ʒ': 17, 'ɐ': 13, 'tʲ': 3, 'l̪ʲʲ': 3, 'xʲ': 1, 'ʲ': 1, 'χ': 1}\n",
      "Unseen phonemes: {'ʎ', 'i', 't̠s̠ʲʰ', 'ɔ', 'au', 'kʲʰ', 'ɯ̞̯', 'ɲ', 'ŋʲ', 'βʲ', 't̠ʲ', 'ɾˠ', 'ɔː', 'ã', 'ɾ̥ʲ', 'lˠ', 'e̯', 'nʲ', 's̻', 'e̞', 'əu', 'ia', 's', 'ẽ̞', 'ẽː', 'd̪', 'n̠ʲ', 'l̠', 'ɤ̯', 'ɔʊ', 'ɸʲ', 'iə', 'tʰ', 'pʲ', 'uːə', 'd̠ʲ', 'nˠ', 'əi', 'ɸʷˠ', 'ɕ', 'u', 'æː', 'ɛ', 'c', 'l̠ʲ', 'l̥ʲ', 'n̥ˠ', 't̪ˠ', 'o', 'ɟʝ', 'ɤ', 'ɑ̃ː', 'd', 'l', 'n̪', 'ɾʲ', 'ʝ', 'ɡ̟', 'õ̞', 'd̠z̠ʲ', 'ĩː', 'l̥ˠ', 'ɪ̃', 'mʷˠ', 'pˠ', 'uə', 'ɡʲ', 'pʷˠʰ', 'õː', 'ŋ̟', 'k̟ʰ', 'n̥ʲ', 'o̞', 'ɾ̥ˠ', 'ɟ', 'ʃʲ', 't̪ʰ', 'k', 'lʲ', 'n̠', 't̠ʃ', 'ə̯', 'n', 'ʌ', 'æ', 'ɸ̃', 'ʊ̃', 'ua', 'bʷˠ', 'ũː'}\n",
      "----------------------------------------------------------------------------------------------------\n",
      "INVENTORY ID:\n",
      "\n",
      "Now comparing the phonemes seen in the data with the phonemes in phoible with the specific inventory 2521:\n",
      "Unknown phonemes: {'w': 1149, 'j': 642, 'z': 22, 'ʒ': 17, 'ɐ': 13, 'tʲ': 3, 'l̪ʲʲ': 3, 'e': 2, 'xʲ': 1, 'ʲ': 1, 'χ': 1}\n",
      "Unseen phonemes: {'ŋ̟', 'uːə', 'ɔʊ', 'ia', 'ɟ', 'ʝ'}\n"
     ]
    }
   ],
   "source": [
    "compare_phoneme_sets('../processed/Irish/train.csv', 'gle', ['Irish', 'Irish Gaelic', 'IRISH'], 2521)"
   ]
  },
  {
   "cell_type": "markdown",
   "metadata": {},
   "source": [
    "# Turkish analysis\n",
    "\n",
    "We compare the Turkish inventories in phoible to our Turkish dataset. For Turkish, we use phonemizer.\n",
    "\n",
    "With our folding dictionary, we get close to inventory 2217. \n",
    "\n",
    "Unknown phonemes are all sufficiently rare.\n",
    "\n",
    "Unseen phonemes are just `ɣ` which is not always included in inventories."
   ]
  },
  {
   "cell_type": "code",
   "execution_count": 31,
   "metadata": {},
   "outputs": [
    {
     "name": "stdout",
     "output_type": "stream",
     "text": [
      "Total phonemes in the dataset: 90808\n",
      "Unique phonemes: ['s̪', 'e', 'n̪', 'WORD_BOUNDARY', 'o', 'j', 'u', 'a', 'ɾ', 'm', 'ɯ', 'k', 'i', 'lʲ', 'iː', 'v', 'd̪', 'd̠ʒ', 'y', 't̪', 'b', 'z̪', 'ʃ', 'ɟ', 'eː', 'p', 'ɡ', 'l̪ˠ', 'h', 't̠ʃ', 'f', 'œ', 'aː', 'c', 'uː', 'ʒ', 'w']\n",
      "\n",
      "----------------------------------------------------------------------------------------------------\n",
      "ALL PHOIBLE:\n",
      "Comparing the phonemes seen in the data with all phoible phonemes:\n",
      "Unknown phonemes: None\n",
      "----------------------------------------------------------------------------------------------------\n",
      "LANGUAGE CODE:\n",
      "\n",
      "Comparing the phonemes seen in the data with just the phonemes in phoible with the tur language code:\n",
      "Unknown phonemes: {'w': 2}\n",
      "Unseen phonemes: {'z', 't̠ʃʰ', 'pʰ', 'ʊ', 'ɫ̻', 'ʎ', 's', 'ʏ', 'ɣ', 'n̻', 'kʰ', 'œː', 'z̻', 'ɯ̞', 'o̞', 'r', 'd', 'o̞ː', 'd̻', 'ä', 'e̞ː', 'l', 'ʔ', 'tʰ', 'ɪ', 'ø̞', 'ʋ', 'l̻', 't̻ʰ', 'ɛː', 'ɯː', 'n', 'æ', 'ɾ̻', 'yː', 's̻', 'äː', 'l̪|l', 'cʰ', 'ɛ', 'e̞'}\n",
      "\n",
      "Phoible inventories names with the tur language code: ['Turkish', 'TURKISH']\n",
      "Phoible dialects names with the tur language code: [nan, 'Standard Turkish (Istanbul)', 'Turkish (Standard)']\n",
      "----------------------------------------------------------------------------------------------------\n",
      "INVENTORIES:\n",
      "\n",
      "Now comparing the phonemes seen in the data with the phonemes in phoible with the specific language names ['Turkish', 'TURKISH']:\n",
      "Inventory IDs matching the inventory names: {2416, 2217, 186, 597}\n",
      "Unknown phonemes: {'w': 2}\n",
      "Unseen phonemes: {'z', 't̠ʃʰ', 'pʰ', 'ɫ̻', 'ʊ', 'ʎ', 's', 'ʏ', 'ɣ', 'n̻', 'kʰ', 'z̻', 'œː', 'ɯ̞', 'o̞', 'r', 'd', 'o̞ː', 'd̻', 'ä', 'e̞ː', 'l', 'ʔ', 'tʰ', 'ɪ', 'ø̞', 'ʋ', 'l̻', 't̻ʰ', 'ɛː', 'ɯː', 'n', 'æ', 'ɾ̻', 'yː', 's̻', 'äː', 'l̪|l', 'cʰ', 'ɛ', 'e̞'}\n",
      "----------------------------------------------------------------------------------------------------\n",
      "INVENTORY ID:\n",
      "\n",
      "Now comparing the phonemes seen in the data with the phonemes in phoible with the specific inventory 2217:\n",
      "Unknown phonemes: {'w': 2}\n",
      "Unseen phonemes: {'ɣ'}\n"
     ]
    }
   ],
   "source": [
    "compare_phoneme_sets('../processed/Turkish/train.csv', 'tur', ['Turkish', 'TURKISH'], 2217)"
   ]
  },
  {
   "cell_type": "markdown",
   "metadata": {},
   "source": [
    "# Quechua analysis\n",
    "\n",
    "We compare the Quechua inventories in phoible to our Quechua dataset. For Quechua, we use phonemizer.\n",
    "\n",
    "There are many Quechuan languages and many phoible inventories. With our folding dictionary, we get close to inventory 104, but there is still a lot of disagreement. \n",
    "\n",
    "Unknown phonemes:\n",
    "* `d`, `g`, `f` - consonants that aren't listed in this inventory but are in others\n",
    "* `aː` - a vowel not in this inventory but listed in others\n",
    "* Remaining are sufficiently rare\n",
    "\n",
    "There are several phonemes in inventory 104 that are not seen in our data, which could be an issue."
   ]
  },
  {
   "cell_type": "code",
   "execution_count": 32,
   "metadata": {},
   "outputs": [
    {
     "name": "stdout",
     "output_type": "stream",
     "text": [
      "Total phonemes in the dataset: 68488\n",
      "Unique phonemes: ['t', 's', 'aː', 'h', 'ʊ', 'ʎ', 'WORD_BOUNDARY', 'j', 'a', 'm', 'k', 'ɪ', 'n', 'r', 'p', 'tʼ', 'ʔ', 'q', 't̠ʃ', 'f', 'ɛ', 'β', 'w', 'ɡ', 'kʼ', 'l', 'pʼ', 't̠ʃʼ', 'qʼ', 'd', 'ɪː', 'ʊː', 'ɔ']\n",
      "\n",
      "----------------------------------------------------------------------------------------------------\n",
      "ALL PHOIBLE:\n",
      "Comparing the phonemes seen in the data with all phoible phonemes:\n",
      "Unknown phonemes: None\n",
      "----------------------------------------------------------------------------------------------------\n",
      "LANGUAGE CODE:\n",
      "\n",
      "Comparing the phonemes seen in the data with just the phonemes in phoible with the quh language code:\n",
      "Unknown phonemes: {'d': 266, 'ɡ': 137, 'aː': 128, 'f': 42, 'ɪː': 31, 'ʊː': 1}\n",
      "Unseen phonemes: {'t̠ʃʰ', 'pʰ', 't̪ʰ|tʰ', 'ɣ', 'kʰ', 'ʃ', 'ɾ', 'ɾ̪|ɾ', 'ð', 't̪|t', 'ɲ', 'tʰ', 'r̪|r', 'ɸ', 's̪|s', 'l̪|l', 't̪ʼ|tʼ', 'n̪|n', 'qʰ'}\n",
      "\n",
      "Phoible inventories names with the quh language code: ['Quechua', 'QUECHUA']\n",
      "Phoible dialects names with the quh language code: [nan]\n",
      "----------------------------------------------------------------------------------------------------\n",
      "INVENTORIES:\n",
      "\n",
      "Now comparing the phonemes seen in the data with the phonemes in phoible with the specific language names ['Quechua', 'QUECHUA', 'Huallaga (Huanuco) Quechua', 'Ancash Quechua', 'Cajamarca Quechua', 'Cuzco-Collao Quechua', 'Ferreñafe Quechua', 'Imbabura Quichua', 'Jauja-Huanca Quechua', 'North Junín Quechua', 'Ayacucho Quechua', 'Bolivian Quechua', 'Huallaga Huánuco Quechua', 'Huaylas-Conchucos Quechua', 'San Martin Quechua', 'Yaru Quechua', 'Santiago del Estero Quechua', 'Salasca Quechua', 'Tena Quechua']:\n",
      "Inventory IDs matching the inventory names: {1155, 524, 2021, 2022, 104, 2024, 2025, 2026, 2029, 2030, 2031, 2032, 2033, 2034, 2035, 2036, 2037, 2038, 2040, 2041}\n",
      "Unknown phonemes: {'ɪː': 31, 'ʊː': 1}\n",
      "Unseen phonemes: {'z', 't̠ʃʰ', 'pʰ', 'uː', 'χ', 'i', 'o', 't̪ʰ|tʰ', 'ɣ', 'kʰ', 'ʃ', 'ɾ', 'b', 'ɾ̪|ɾ', 'ð', 't̪|t', 'ɲ', 'x', 'tʰ', 'ʈʂ', 'ʂ', 'r̪|r', 'dz', 'ɸ', 'e', 's̪|s', 'ʐ', 'eː', 'ʒ', 'oː', 'ŋ', 'iː', 'd̠ʒ', 'l̪|l', 't̪ʼ|tʼ', 'u', 'n̪|n', 'qʰ', 'ts', 'ɢ'}\n",
      "----------------------------------------------------------------------------------------------------\n",
      "INVENTORY ID:\n",
      "\n",
      "Now comparing the phonemes seen in the data with the phonemes in phoible with the specific inventory 104:\n",
      "Unknown phonemes: {'d': 266, 'ɡ': 137, 'aː': 128, 'f': 42, 'ɪː': 31, 'ʊː': 1}\n",
      "Unseen phonemes: {'t̠ʃʰ', 'pʰ', 'ɾ', 'ɸ', 'ð', 'ɣ', 'qʰ', 'ɲ', 'kʰ', 'tʰ', 'ʃ'}\n"
     ]
    }
   ],
   "source": [
    "compare_phoneme_sets('../processed/Quechua/train.csv', 'quh', ['Quechua', 'QUECHUA', 'Huallaga (Huanuco) Quechua', 'Ancash Quechua', 'Cajamarca Quechua', 'Cuzco-Collao Quechua', 'Ferreñafe Quechua', 'Imbabura Quichua', 'Jauja-Huanca Quechua', 'North Junín Quechua', 'Ayacucho Quechua', 'Bolivian Quechua', 'Huallaga Huánuco Quechua', 'Huaylas-Conchucos Quechua', 'San Martin Quechua', 'Yaru Quechua', 'Santiago del Estero Quechua', 'Salasca Quechua', 'Tena Quechua' ], 104)"
   ]
  },
  {
   "cell_type": "markdown",
   "metadata": {},
   "source": [
    "# Farsi analysis\n",
    "\n",
    "We compare the Farsi inventory in phoible to our Farsi dataset. For Farsi, we use phonemizer.\n",
    "\n",
    "There are many Quechuan languages and many phoible inventories. With our folding dictionary, we get a very good match with inventory 516. There are no unknown phonemes, just the unseen phonemes `χ`, `ʒ` and `ʔ`."
   ]
  },
  {
   "cell_type": "code",
   "execution_count": 33,
   "metadata": {},
   "outputs": [
    {
     "name": "stdout",
     "output_type": "stream",
     "text": [
      "Total phonemes in the dataset: 32177\n",
      "Unique phonemes: ['kʰ', 's', 'o', 'b', 'WORD_BOUNDARY', 'a̟', 'h', 'n̪', 't̠ʃ', 'i', 'j', 'd̪', 'e', 'ʃ', 'u', 'ɡ', 'r', 'f', 't̪ʰ', 'm', 'd̠ʒ', 'l', 'ɢ', 'v', 'z', 'pʰ', 'w', 'ɑ']\n",
      "\n",
      "----------------------------------------------------------------------------------------------------\n",
      "ALL PHOIBLE:\n",
      "Comparing the phonemes seen in the data with all phoible phonemes:\n",
      "Unknown phonemes: None\n",
      "----------------------------------------------------------------------------------------------------\n",
      "LANGUAGE CODE:\n",
      "\n",
      "Comparing the phonemes seen in the data with just the phonemes in phoible with the pes language code:\n",
      "Unknown phonemes: None\n",
      "Unseen phonemes: {'r̪', 't̠ʃʰ', 'uː', 'χ', 'ɣ', 'ɢʁ', 'o̞', 'l̪', 'd', 'ɒː', 'ʔ', 'x', 'tʰ', 'ʒ', 'n', 'ɒ', 'æ', 'iː', 'e̞'}\n",
      "\n",
      "Phoible inventories names with the pes language code: ['Persian', 'FARSI', 'Farsi']\n",
      "Phoible dialects names with the pes language code: [nan]\n",
      "----------------------------------------------------------------------------------------------------\n",
      "INVENTORIES:\n",
      "\n",
      "Now comparing the phonemes seen in the data with the phonemes in phoible with the specific language names ['FARSI']:\n",
      "Inventory IDs matching the inventory names: {516}\n",
      "Unknown phonemes: None\n",
      "Unseen phonemes: {'ʒ', 'ʔ', 'χ'}\n",
      "----------------------------------------------------------------------------------------------------\n",
      "INVENTORY ID:\n",
      "\n",
      "Now comparing the phonemes seen in the data with the phonemes in phoible with the specific inventory 516:\n",
      "Unknown phonemes: None\n",
      "Unseen phonemes: {'ʒ', 'χ', 'ʔ'}\n"
     ]
    }
   ],
   "source": [
    "compare_phoneme_sets('../processed/Farsi/train.csv', 'pes', ['FARSI' ], 516)"
   ]
  },
  {
   "cell_type": "code",
   "execution_count": null,
   "metadata": {},
   "outputs": [],
   "source": []
  }
 ],
 "metadata": {
  "kernelspec": {
   "display_name": "env",
   "language": "python",
   "name": "python3"
  },
  "language_info": {
   "codemirror_mode": {
    "name": "ipython",
    "version": 3
   },
   "file_extension": ".py",
   "mimetype": "text/x-python",
   "name": "python",
   "nbconvert_exporter": "python",
   "pygments_lexer": "ipython3",
   "version": "3.10.11"
  }
 },
 "nbformat": 4,
 "nbformat_minor": 2
}
