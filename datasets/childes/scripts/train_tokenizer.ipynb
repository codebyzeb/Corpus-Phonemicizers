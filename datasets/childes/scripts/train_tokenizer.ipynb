{
 "cells": [
  {
   "attachments": {},
   "cell_type": "markdown",
   "metadata": {},
   "source": [
    "# Training the CHILDES Tokenizer\n",
    "\n",
    "Using the phonemes in our CHILDES dataset, we train a tokenizer that just splits according to whitespace."
   ]
  },
  {
   "cell_type": "code",
   "execution_count": 6,
   "metadata": {},
   "outputs": [],
   "source": [
    "import pandas as pd\n",
    "\n",
    "from datasets import load_dataset, get_dataset_config_names\n",
    "from tokenizers import Tokenizer, models, normalizers, pre_tokenizers, trainers, processors, decoders\n",
    "from transformers import GPT2TokenizerFast"
   ]
  },
  {
   "cell_type": "code",
   "execution_count": 7,
   "metadata": {},
   "outputs": [
    {
     "name": "stderr",
     "output_type": "stream",
     "text": [
      "/var/folders/nz/6tzh0bsj2txd1cz18gpcms_c0000gn/T/ipykernel_87193/769076702.py:1: DtypeWarning: Columns (4,7,8,11) have mixed types. Specify dtype option on import or set low_memory=False.\n",
      "  phoible = pd.read_csv('../../../data/phoible.csv')\n"
     ]
    }
   ],
   "source": [
    "phoible = pd.read_csv('../../../data/phoible.csv')\n",
    "phoible_phonemes = phoible.Phoneme.unique()"
   ]
  },
  {
   "cell_type": "code",
   "execution_count": 8,
   "metadata": {},
   "outputs": [],
   "source": [
    "MIN_COUNT = 10\n",
    "\n",
    "def build_vocabulary(datasets, column='phonemized_utterance', allow_non_phoible=False):\n",
    "\n",
    "    vocab = {'UNK' : 0, 'PAD' : 1, 'WORD_BOUNDARY' : 2, 'UTT_BOUNDARY' : 3}\n",
    "    unk_tokens = []\n",
    "    token_counts = {}\n",
    "    for dataset in datasets:\n",
    "        for line in dataset[column]:\n",
    "            tokens = line.strip().split()\n",
    "            for token in tokens:\n",
    "                if token not in token_counts:\n",
    "                    token_counts[token] = 0\n",
    "                token_counts[token] += 1\n",
    "        \n",
    "    # Add tokens to vocab if they are not in phoible and have a count greater than MIN_COUNT\n",
    "    for token, count in token_counts.items():\n",
    "        if count > MIN_COUNT and token not in vocab:\n",
    "            if token not in phoible_phonemes and not allow_non_phoible:\n",
    "                unk_tokens.append(token)\n",
    "            else:\n",
    "                vocab[token] = len(vocab)\n",
    "\n",
    "    print('Tokens not found in phoible: ', {token: token_counts[token] for token in unk_tokens})\n",
    "    print('Vocab: ', vocab)\n",
    "    print('Vocab size: ', len(vocab))\n",
    "    return vocab\n",
    "\n",
    "def build_phoneme_tokenizer(vocab):\n",
    "\n",
    "    tokenizer = Tokenizer(models.WordLevel(vocab=vocab, unk_token='UNK'))\n",
    "    tokenizer.normalizer = normalizers.Sequence(\n",
    "        [normalizers.Replace(\"\\n\", \" UTT_BOUNDARY\"), normalizers.Strip()]\n",
    "    ) # Replace newlines with utterance boundaries\n",
    "    tokenizer.add_special_tokens([\"UNK\", \"PAD\"])\n",
    "    tokenizer.pre_tokenizer = pre_tokenizers.Whitespace()\n",
    "\n",
    "    wrapped_tokenizer = GPT2TokenizerFast(tokenizer_object=tokenizer, bos_token='UTT_BOUNDARY', eos_token='UTT_BOUNDARY', pad_token='PAD', unk_token='UNK')\n",
    "    return wrapped_tokenizer"
   ]
  },
  {
   "cell_type": "markdown",
   "metadata": {},
   "source": [
    "# Training a Tokenizer for each language in CHILDES\n",
    "\n",
    "We create a unique tokenizer for each language, to keep the vocabulary size appropriate for each language. For most languages we remove any tokens not found in Phoible. We do not do this for Mandarin or Cantonese as for these languages we merge the tone marker and preceding vowel into one phoneme, whereas Phoible treats tone markers as independent symbols."
   ]
  },
  {
   "cell_type": "code",
   "execution_count": 9,
   "metadata": {},
   "outputs": [
    {
     "name": "stdout",
     "output_type": "stream",
     "text": [
      "Languages: ['English', 'EnglishUK', 'French', 'German', 'Spanish', 'Dutch', 'Mandarin', 'Japanese', 'Cantonese', 'Estonian', 'Croatian', 'Danish', 'Basque', 'Hungarian', 'Turkish', 'Farsi', 'Icelandic', 'Indonesian', 'Irish', 'Welsh', 'Korean', 'Swedish', 'Norwegian', 'Quechua', 'Catalan', 'Italian', 'PortuguesePt', 'PortugueseBr', 'Romanian']\n"
     ]
    }
   ],
   "source": [
    "languages = get_dataset_config_names('transformersegmentation/CHILDES')\n",
    "print('Languages:', languages)\n",
    "datasets = [load_dataset('transformersegmentation/CHILDES', language, split='train') for language in languages]"
   ]
  },
  {
   "cell_type": "code",
   "execution_count": 10,
   "metadata": {},
   "outputs": [
    {
     "name": "stdout",
     "output_type": "stream",
     "text": [
      "\n",
      "Trainking tokenizer for English...\n",
      "Tokens not found in phoible:  {}\n",
      "Vocab:  {'UNK': 0, 'PAD': 1, 'BOS': 2, 'EOS': 3, 'WORD_BOUNDARY': 4, 'UTT_BOUNDARY': 5, 's': 6, 'iː': 7, 'ð': 8, 'ɛ': 9, 'ɹ': 10, 'z': 11, 'ʌ': 12, 'f': 13, 'eɪ': 14, 'w': 15, 'ɪ': 16, 'ɡ': 17, 'l': 18, 'æ': 19, 'ɑ': 20, 'h': 21, 'ə': 22, 'ʊ': 23, 'k': 24, 'p': 25, 'uː': 26, 'b': 27, 'i': 28, 't': 29, 'aɪ': 30, 'θ': 31, 'ŋ': 32, 'j': 33, 'ɔ': 34, 'm': 35, 'ɔɪ': 36, 'n': 37, 'd': 38, 'oʊ': 39, 'aʊ': 40, 'v': 41, 'ɜː': 42, 't̠ʃ': 43, 'd̠ʒ': 44, 'ʃ': 45, 'iə': 46, 'ʒ': 47, 'ɑ̃': 48, 'r': 49, 'x': 50}\n",
      "Vocab size:  51\n",
      "Tokenizer for English pushed to the hub.\n",
      "\n",
      "Trainking tokenizer for EnglishUK...\n",
      "Tokens not found in phoible:  {}\n",
      "Vocab:  {'UNK': 0, 'PAD': 1, 'BOS': 2, 'EOS': 3, 'WORD_BOUNDARY': 4, 'UTT_BOUNDARY': 5, 'eɪ': 6, 't̠ʃ': 7, 'w': 8, 'ɒ': 9, 't': 10, 'd': 11, 'ʌ': 12, 'z': 13, 'ð': 14, 'a': 15, 'm': 16, 'iː': 17, 'n': 18, 'ɛ': 19, 'k': 20, 's': 21, 'ɪ': 22, 'ɡ': 23, 'ʊ': 24, 'ɑː': 25, 'ɔː': 26, 'l': 27, 'ə': 28, 'ɹ': 29, 'i': 30, 'əʊ': 31, 'uː': 32, 'j': 33, 'h': 34, 'iə': 35, 'ɔɪ': 36, 'v': 37, 'aɪ': 38, 'f': 39, 'ɜː': 40, 'b': 41, 'p': 42, 'd̠ʒ': 43, 'ɐ': 44, 'eə': 45, 'ʃ': 46, 'θ': 47, 'ŋ': 48, 'aʊ': 49, 'ʊə': 50, 'n̩': 51, 'ʒ': 52, 'r': 53, 'ɑ̃': 54, 'aː': 55}\n",
      "Vocab size:  56\n",
      "Tokenizer for EnglishUK pushed to the hub.\n",
      "\n",
      "Trainking tokenizer for French...\n",
      "Tokens not found in phoible:  {}\n",
      "Vocab:  {'UNK': 0, 'PAD': 1, 'BOS': 2, 'EOS': 3, 'WORD_BOUNDARY': 4, 'UTT_BOUNDARY': 5, 't': 6, 'y': 7, 'v': 8, 'j': 9, 'ɛ̃': 10, 'w': 11, 'a': 12, 'ʁ': 13, 'd': 14, 'e': 15, 'ʒ': 16, 'm': 17, 'ɔ̃': 18, 'p': 19, 'ɛ': 20, 'f': 21, 'ɔ': 22, 'ɑ̃': 23, 's': 24, 'z': 25, 'l': 26, 'ə': 27, 'b': 28, 'k': 29, 'u': 30, 'o': 31, 'ʃ': 32, 'ɡ': 33, 'i': 34, 'n': 35, 'œ̃': 36, 'ø': 37, 'œ': 38, 'oː': 39, 'yː': 40, 'ɲ': 41, 'aː': 42, 't̠ʃ': 43}\n",
      "Vocab size:  44\n",
      "Tokenizer for French pushed to the hub.\n",
      "\n",
      "Trainking tokenizer for German...\n",
      "Tokens not found in phoible:  {}\n",
      "Vocab:  {'UNK': 0, 'PAD': 1, 'BOS': 2, 'EOS': 3, 'WORD_BOUNDARY': 4, 'UTT_BOUNDARY': 5, 'h': 6, 'a': 7, 'l': 8, 'oː': 9, 'j': 10, 'aː': 11, 'ə': 12, 'm': 13, 'd': 14, 's': 15, 't': 16, 'iː': 17, 'n': 18, 'z': 19, 'ɛ': 20, 'ts': 21, 'ɪ': 22, 'eː': 23, 'ʀ': 24, 'aʊ': 25, 'ɡ': 26, 'ŋ': 27, 'ʊ': 28, 'v': 29, 'aɪ': 30, 'uː': 31, 'k': 32, 'ç': 33, 'b': 34, 'ɐ': 35, 'ʃ': 36, 'ɔ': 37, 'x': 38, 'œ': 39, 'f': 40, 'p': 41, 'ɛɪ': 42, 'ʏ': 43, 'yː': 44, 'y': 45, 'ɛː': 46, 'pf': 47, 'øː': 48, 't̠ʃ': 49, 'd̠ʒ': 50, 'ʒ': 51, 'ɔ̃': 52, 'ã': 53, 'w': 54, 'i': 55}\n",
      "Vocab size:  56\n",
      "Tokenizer for German pushed to the hub.\n",
      "\n",
      "Trainking tokenizer for Spanish...\n",
      "Tokens not found in phoible:  {}\n",
      "Vocab:  {'UNK': 0, 'PAD': 1, 'BOS': 2, 'EOS': 3, 'WORD_BOUNDARY': 4, 'UTT_BOUNDARY': 5, 'k': 6, 'o': 7, 'm': 8, 'e': 9, 's': 10, 'i': 11, 'ɾ': 12, 'n': 13, 'a': 14, 'u': 15, 'j': 16, 'p': 17, 'ð': 18, 'l': 19, 't': 20, 'β': 21, 'θ': 22, 'ɡ': 23, 'w': 24, 'ʎ': 25, 'f': 26, 'd': 27, 'ɣ': 28, 'r': 29, 'x': 30, 'ʝ': 31, 'ɲ': 32, 'b': 33, 'oɪ': 34, 'aɪ': 35, 'ɛ': 36, 'ŋ': 37, 't̠ʃ': 38, 'eʊ': 39, 'eɪ': 40, 'aʊ': 41, 'd̠ʒ': 42, 'pː': 43, 'ʃ': 44, 'ts': 45}\n",
      "Vocab size:  46\n",
      "Tokenizer for Spanish pushed to the hub.\n",
      "\n",
      "Trainking tokenizer for Dutch...\n",
      "Tokens not found in phoible:  {'ʌʊ': 29128, 'yʊ': 655}\n",
      "Vocab:  {'UNK': 0, 'PAD': 1, 'BOS': 2, 'EOS': 3, 'WORD_BOUNDARY': 4, 'UTT_BOUNDARY': 5, 'j': 6, 'aː': 7, 'h': 8, 'oː': 9, 'r': 10, 'd': 11, 'i': 12, 'ɛ': 13, 'p': 14, 'ɪ': 15, 'k': 16, 'ɑ': 17, 'l': 18, 'eː': 19, 'n': 20, 's': 21, 'v': 22, 'ə': 23, 'ɛɪ': 24, 'ʋ': 25, 'z': 26, 't': 27, 'm': 28, 'ɣ': 29, 'ɪː': 30, 'ɵ': 31, 'ɔ': 32, 'x': 33, 'u': 34, 'f': 35, 'ŋ': 36, 'øː': 37, 'b': 38, 'ɔː': 39, 'y': 40, 'œy': 41, 'tʲ': 42, 'w': 43, 'ɾ': 44, 'ʃ': 45, 'ɛː': 46, 't̠ʃ': 47, 'ɲ': 48, 'ʒ': 49, 'eʊ': 50, 'ɡ': 51, 'd̠ʒ': 52, 'iː': 53, 'a': 54}\n",
      "Vocab size:  55\n",
      "Tokenizer for Dutch pushed to the hub.\n",
      "\n",
      "Trainking tokenizer for Mandarin...\n",
      "Tokens not found in phoible:  {}\n",
      "Vocab:  {'UNK': 0, 'PAD': 1, 'BOS': 2, 'EOS': 3, 'WORD_BOUNDARY': 4, 'UTT_BOUNDARY': 5, 'au̯': 6, 'n': 7, 'a˥˩': 8, 'ʂ': 9, 'ɻ̩˥˩': 10, 'ə˧˥': 11, 'm': 12, 'ɤ': 13, 'p': 14, 'j': 15, 'e˧˥': 16, 'kʰ': 17, 'k': 18, 'ɤ˥˩': 19, 'w': 20, 'o˥': 21, 'a˥': 22, 'ʈʂʰ': 23, 'ə˥': 24, 'ŋ': 25, 't': 26, 'ʊ˥': 27, 'ɕ': 28, 'i': 29, 'a': 30, 'l': 31, 'au̯˧˩˧': 32, 'x': 33, 'u˧˩˧': 34, 'i˥': 35, 'ei̯˧˩˧': 36, 'pʰ': 37, 'i˧˥': 38, 'ai̯˧˥': 39, 'ou̯˧˩˧': 40, 'u˧˥': 41, 'ɤ˧˥': 42, 'o˧˩˧': 43, 'tɕ': 44, 'au̯˥˩': 45, 'ts': 46, 'ə˧˩˧': 47, 'ɤ˥': 48, 'ei̯˧˥': 49, 'ʊ˧˥': 50, 'i˧˩˧': 51, 'ʈʂ': 52, 'ɻ̩˧˩˧': 53, 'ei̯˥˩': 54, 's': 55, 'u˥˩': 56, 'ɹ̩': 57, 'ai̯˥': 58, 'u˥': 59, 'tɕʰ': 60, 'a˧˩˧': 61, 'a˧˥': 62, 'ai̯˥˩': 63, 'ɛ˥˩': 64, 'f': 65, 'i˥˩': 66, 'y˥˩': 67, 'ou̯˥˩': 68, 'e˥': 69, 'tʰ': 70, 'ɹ̩˥˩': 71, 'ɛ˧˥': 72, 'au̯˥': 73, 'ou̯˧˥': 74, 'ɻ': 75, 'e˧˩˧': 76, 'ɛ˥': 77, 'ɻ̩˥': 78, 'ɥ': 79, 'ɹ̩˧˩˧': 80, 'au̯˧˥': 81, 'ai̯˧˩˧': 82, 'ou̯˥': 83, 'o˥˩': 84, 'ɛ˧˩˧': 85, 'ʊ˧˩˧': 86, 'ɔ˥': 87, 'tsʰ': 88, 'ei̯': 89, 'ə˥˩': 90, 'o': 91, 'ʊ˥˩': 92, 'ou̯': 93, 'ɤ˧˩˧': 94, 'o˧˥': 95, 'ei̯˥': 96, 'e˥˩': 97, 'ɚ˧˩˧': 98, 'y˥': 99, 'ɚ˥˩': 100, 'y˧˥': 101, 'ɻ̩': 102, 'y˧˩˧': 103, 'ɹ̩˥': 104, 'ɻ̩˧˥': 105, 'u': 106, 'ai̯': 107, 'ʊ': 108, 'e': 109, 'ɚ˧˥': 110, 'ə': 111, 'ɔ˥˩': 112, 'ɹ̩˧˥': 113, 'ɛ': 114, 'y': 115, 'm˧˥': 116}\n",
      "Vocab size:  117\n",
      "Tokenizer for Mandarin pushed to the hub.\n",
      "\n",
      "Trainking tokenizer for Japanese...\n",
      "Tokens not found in phoible:  {'g': 58660, 't͡s': 22642, 'gʲ': 1102}\n",
      "Vocab:  {'UNK': 0, 'PAD': 1, 'BOS': 2, 'EOS': 3, 'WORD_BOUNDARY': 4, 'UTT_BOUNDARY': 5, 'b': 6, 'aː': 7, 'ɯː': 8, 'n': 9, 'ɯ': 10, 'j': 11, 'o': 12, 'i': 13, 'ʃ': 14, 'd': 15, 'r': 16, 'e': 17, 'a': 18, 'k': 19, 'oː': 20, 'h': 21, 'd̠ʒ': 22, 't': 23, 'z': 24, 'eː': 25, 'm': 26, 't̠ʃ': 27, 'w': 28, 'pʲ': 29, 'p': 30, 'ɲ': 31, 'ɸ': 32, 'rʲ': 33, 'kʲ': 34, 'ç': 35, 'bʲ': 36, 'mʲ': 37}\n",
      "Vocab size:  38\n",
      "Tokenizer for Japanese pushed to the hub.\n",
      "\n",
      "Trainking tokenizer for Cantonese...\n",
      "Tokens not found in phoible:  {}\n",
      "Vocab:  {'UNK': 0, 'PAD': 1, 'BOS': 2, 'EOS': 3, 'WORD_BOUNDARY': 4, 'UTT_BOUNDARY': 5, 'aː˧': 6, 't': 7, 'ɐ˥': 8, 'k': 9, 'l': 10, 'j': 11, 'ʊ˥': 12, 'aː˧˩̰': 13, 'ɛː˥': 14, 'n': 15, 'ei˩˧': 16, 'w': 17, 'aː˨': 18, 'ɐi˧˥': 19, 'm̩˧˥': 20, 'm': 21, 'ou˥': 22, 'aː˧˥': 23, 'ei˥': 24, 'iː˧': 25, 'ts': 26, 'ɔː˧˥': 27, 'tʰ': 28, 'iː˥': 29, 'f': 30, 'aːĭ˧': 31, 'ɐ˨': 32, 'p': 33, 'h': 34, 'ɵy˧': 35, 'aː˥': 36, 'ou˨': 37, 'ɔː˧': 38, 'ɐi˧˩̰': 39, 'uː˧': 40, 'ŋ': 41, 's': 42, 'ɔːĭ˥': 43, 'ɐu˨': 44, 'iː˨': 45, 'ei˧˥': 46, 'ɐi˨': 47, 'ʊ˧˩̰': 48, 'ʊ˨': 49, 'aː˩˧': 50, 'aːĭ˧˥': 51, 'ɔː˨': 52, 'ɛː˩˧': 53, 'ɪ˨': 54, 'iːŭ˧': 55, 'ɛː˧˩̰': 56, 'ɪ˧˥': 57, '̩˧˩̰': 58, 'ɵ˧˥': 59, 'ei˧': 60, 'ɐu˧˩̰': 61, 'm̩˧': 62, 'ɐu˧˥': 63, 'ɐu˩˧': 64, 'ɐi˥': 65, 'ɔː˥': 66, 'ɔːĭ˧': 67, 'ou˧˥': 68, 'ou˩˧': 69, 'ɐ˧': 70, 'tsʰ': 71, 'ɛː˧˥': 72, 'iː˧˥': 73, 'ɔː˩˧': 74, 'kʰ': 75, 'ɐ˧˩̰': 76, 'aːŭ˧˥': 77, 'pʰ': 78, 'aːĭ˧˩̰': 79, 'ɵy˩˧': 80, 'ɵ˧': 81, 'ɛː˧': 82, 'ei˧˩̰': 83, 'uː˧˥': 84, 'ɔː˧˩̰': 85, 'ɛː˨': 86, 'uː˥': 87, 'ʊ˧': 88, 'iː˧˩̰': 89, 'yː˨': 90, 'aːŭ˧': 91, 'œː˩˧': 92, 'ɐ˧˥': 93, 'iː˩˧': 94, 'ɪ˧˩̰': 95, 'iːŭ˧˩̰': 96, 'œː˧˥': 97, 'yː˧': 98, 'uːĭ˩˧': 99, 'ɵy˧˥': 100, 'yː˧˩̰': 101, 'ɔːĭ˧˥': 102, 'ɛː': 103, 'u˨': 104, 'ou˧': 105, 'ei˨': 106, 'ɐu˥': 107, 'ɵ˥': 108, 'uː˧˩̰': 109, 'yː˥': 110, 'ɪ˥': 111, 'œː˥': 112, 'œː˧˩̰': 113, 'aːĭ˨': 114, 'ɐ˩˧': 115, 'œː˧': 116, 'uːĭ˧˥': 117, 'ɐu˧': 118, 'ɐi˧': 119, 'ou˧˩̰': 120, 'aːĭ˥': 121, 'aːŭ˥': 122, 'yː˧˥': 123, 'iːŭ˥': 124, 'ɔːĭ˨': 125, 'ʊ˧˥': 126, 'm̩˥': 127, 'iːŭ˧˥': 128, 'ɐi˩˧': 129, 'ɵy˥': 130, 'uːĭ˧': 131, 'ɵy˧˩̰': 132, 'uːĭ˥': 133, 'aːŭ˧˩̰': 134, 'yː˩˧': 135, 'ɔːĭ˧˩̰': 136, 'aːŭ˩˧': 137, 'aːĭ˩˧': 138, 'uːĭ˨': 139, 'œː˨': 140, 'uː˨': 141, 'ɵy˨': 142, 'aːŭ˨': 143, 'm̩˩˧': 144, 'ŋ˩˧': 145, 'ɪ˧': 146, 'm̩˨': 147, 'iːŭ˩˧': 148, 'iːŭ˨': 149, 'ɵ˨': 150, 'uːĭ˧˩̰': 151, 'uː˩˧': 152, 'ɵ˧˩̰': 153}\n",
      "Vocab size:  154\n",
      "Tokenizer for Cantonese pushed to the hub.\n",
      "\n",
      "Trainking tokenizer for Estonian...\n",
      "Tokens not found in phoible:  {'s^': 13520, 't^': 2185, 't^ː': 591, 'øi': 59, 'd^': 2004, 'æiː': 349}\n",
      "Vocab:  {'UNK': 0, 'PAD': 1, 'BOS': 2, 'EOS': 3, 'WORD_BOUNDARY': 4, 'UTT_BOUNDARY': 5, 'n': 6, 'o': 7, 'm': 8, 'i': 9, 's': 10, 'a': 11, 'æ': 12, 'r': 13, 'p': 14, 'l': 15, 'e': 16, 'd': 17, 'iː': 18, 't': 19, 'ʃ': 20, 'kː': 21, 'v': 22, 'æi': 23, 'pː': 24, 'u': 25, 'k': 26, 'h': 27, 'eː': 28, 'ɑ': 29, 'yi': 30, 'j': 31, 'uː': 32, 'ɛ': 33, 'ɡ': 34, 'b': 35, 'aː': 36, 'ɪ': 37, 'ɔ': 38, 'ɵ': 39, 'ɵː': 40, 'ʎ': 41, 'ʊ': 42, 'ø': 43, 'øː': 44, 'y': 45, 'yː': 46, 'tː': 47, 'ŋ': 48, 'oː': 49, 'ɲ': 50, 'w': 51, 'æː': 52, 'f': 53, 'ʒ': 54, 'z': 55}\n",
      "Vocab size:  56\n",
      "Tokenizer for Estonian pushed to the hub.\n",
      "\n",
      "Trainking tokenizer for Croatian...\n",
      "Tokens not found in phoible:  {}\n",
      "Vocab:  {'UNK': 0, 'PAD': 1, 'BOS': 2, 'EOS': 3, 'WORD_BOUNDARY': 4, 'UTT_BOUNDARY': 5, 'm': 6, 'i': 7, 'ʃ': 8, 'k': 9, 'o': 10, 'n': 11, 'ɛ': 12, 't': 13, 'd': 14, 'r': 15, 'æ': 16, 'ɪ': 17, 'p': 18, 'u': 19, 's': 20, 'v': 21, 'j': 22, 'e': 23, 't̠ʃ': 24, 'ɑ': 25, 'a': 26, 'ʊ': 27, 'ɾ': 28, 'l': 29, 'ɡ': 30, 'x': 31, 'ə': 32, 'tɕ': 33, 'ʒ': 34, 'b': 35, 'ts': 36, 'z': 37, 'dʑ': 38, 'f': 39, 'ɲ': 40, 'l̩': 41, 'h': 42, 'ʎ': 43, 'aː': 44, 'ŋ': 45, 'd̠ʒ': 46, 'oʊ': 47}\n",
      "Vocab size:  48\n",
      "Tokenizer for Croatian pushed to the hub.\n",
      "\n",
      "Trainking tokenizer for Danish...\n",
      "Tokens not found in phoible:  {'ɐ̯': 18929, 'ʔe': 19241, 'ʔu': 4971, '?ɑ': 6275, 'ε': 12789, 'ʔi': 6214, 'ʔʌ': 15181, 'ʔœ': 3426, 'ʔo': 3231, 'ʔy': 696, '?a': 447, 'ɒɒ': 325, 'ɑɑ': 150, 'aa': 13}\n",
      "Vocab:  {'UNK': 0, 'PAD': 1, 'BOS': 2, 'EOS': 3, 'WORD_BOUNDARY': 4, 'UTT_BOUNDARY': 5, 'd': 6, 'e': 7, 'ɛ': 8, 'n': 9, 'm': 10, 's': 11, 't': 12, 'k': 13, 'j': 14, 'f': 15, 'ɑ': 16, 'ɒ': 17, 'ə': 18, 'ʋ': 19, 'a': 20, 'l': 21, 'h': 22, 'b': 23, 'ʁ': 24, 'p': 25, 'œ': 26, 'i': 27, 'ɡ': 28, 'ʌ': 29, 'u': 30, 'ʃ': 31, 'ɔ': 32, 'w': 33, 'ð': 34, 'o': 35, 'y': 36, 'ŋ': 37, 'aɪ': 38, 'œː': 39, 'aː': 40, 'd̠ʒ': 41, 'uː': 42, 'ʌː': 43, 'ɜ': 44, 'oː': 45, 'yː': 46}\n",
      "Vocab size:  47\n",
      "Tokenizer for Danish pushed to the hub.\n",
      "\n",
      "Trainking tokenizer for Basque...\n",
      "Tokens not found in phoible:  {}\n",
      "Vocab:  {'UNK': 0, 'PAD': 1, 'BOS': 2, 'EOS': 3, 'WORD_BOUNDARY': 4, 'UTT_BOUNDARY': 5, 'oɪ': 6, 'a': 7, 'ɾ': 8, 'k': 9, 't̠ʃ': 10, 'i': 11, 's̺': 12, 'l': 13, 'p': 14, 'o': 15, 'r': 16, 'aɪ': 17, 'n': 18, 'm': 19, 'ð': 20, 'e': 21, 'ts̻': 22, 'β': 23, 's̻': 24, 'ʎ': 25, 'b': 26, 'aʊ': 27, 't': 28, 'ɣ': 29, 'ɡ': 30, 'c': 31, 'u': 32, 'eɪ': 33, 'd': 34, 'ts̺': 35, 'j': 36, 'ɲ': 37, 'f': 38, 'ʃ': 39, 'ɟ': 40, 'eʊ': 41, 'θ': 42, 'x': 43}\n",
      "Vocab size:  44\n",
      "Tokenizer for Basque pushed to the hub.\n",
      "\n",
      "Trainking tokenizer for Hungarian...\n",
      "Tokens not found in phoible:  {}\n",
      "Vocab:  {'UNK': 0, 'PAD': 1, 'BOS': 2, 'EOS': 3, 'WORD_BOUNDARY': 4, 'UTT_BOUNDARY': 5, 'm': 6, 'ɛ': 7, 'ɲ': 8, 'y': 9, 'n': 10, 'k': 11, 'ɑ': 12, 'r': 13, 'aː': 14, 'd': 15, 'i': 16, 'o': 17, 'h': 18, 'z': 19, 'v': 20, 'l': 21, 'eː': 22, 'j': 23, 'ʃ': 24, 'ɟ': 25, 's': 26, 'oː': 27, 'p': 28, 't': 29, 'tsː': 30, 'b': 31, 'u': 32, 'ɡ': 33, 'tː': 34, 'f': 35, 'ø': 36, 't̠ʃ': 37, 'uː': 38, 'iː': 39, 'ts': 40, 'ɟː': 41, 'yː': 42, 'øː': 43, 'ʎ': 44, 't̠ʃː': 45, 'c': 46, 'ɡː': 47, 'kː': 48, 'ɑː': 49, 'dː': 50, 'pː': 51, 'ʒ': 52, 'cː': 53, 'bː': 54}\n",
      "Vocab size:  55\n",
      "Tokenizer for Hungarian pushed to the hub.\n",
      "\n",
      "Trainking tokenizer for Turkish...\n",
      "Tokens not found in phoible:  {'ɯɯ': 30}\n",
      "Vocab:  {'UNK': 0, 'PAD': 1, 'BOS': 2, 'EOS': 3, 'WORD_BOUNDARY': 4, 'UTT_BOUNDARY': 5, 's': 6, 'æ': 7, 'n': 8, 'o': 9, 'j': 10, 'ʊ': 11, 'ɔ': 12, 'a': 13, 'r': 14, 'm': 15, 'ɯ': 16, 'k': 17, 'ɪ': 18, 'l': 19, 'i': 20, 'ɛ': 21, 'v': 22, 'd': 23, 'd̠ʒ': 24, 'y': 25, 't': 26, 'b': 27, 'u': 28, 'z': 29, 'ʃ': 30, 'ɟ': 31, 'e': 32, 'p': 33, 'ɡ': 34, 'ɫ': 35, 'h': 36, 't̠ʃ': 37, 'ɾ': 38, 'f': 39, 'ø': 40, 'œ': 41, 'aː': 42, 'c': 43, 'ʊː': 44, 'tː': 45, 'oː': 46, 'œː': 47, 'ʒ': 48}\n",
      "Vocab size:  49\n",
      "Tokenizer for Turkish pushed to the hub.\n",
      "\n",
      "Trainking tokenizer for Farsi...\n",
      "Tokens not found in phoible:  {'1': 242}\n",
      "Vocab:  {'UNK': 0, 'PAD': 1, 'BOS': 2, 'EOS': 3, 'WORD_BOUNDARY': 4, 'UTT_BOUNDARY': 5, 'k': 6, 's': 7, 'o': 8, 'b': 9, 'a': 10, 'h': 11, 'n': 12, 't̠ʃ': 13, 'i': 14, 'j': 15, 'd': 16, 'e': 17, 'ʃ': 18, 'u': 19, 'ɡ': 20, 'r': 21, 'f': 22, 't': 23, 'm': 24, 'd̠ʒ': 25, 'l': 26, 'q': 27, 'v': 28, 'z': 29, 'p': 30}\n",
      "Vocab size:  31\n",
      "Tokenizer for Farsi pushed to the hub.\n",
      "\n",
      "Trainking tokenizer for Icelandic...\n",
      "Tokens not found in phoible:  {'r#': 3506, 'eɪː': 7584, 'n#': 5999, 'ŋ#': 169, 'aʊː': 13917, 'oʊː': 2679, 'aɪː': 1503, 'øyː': 662, 'l#': 2290, 'tl#': 1052, 'm#': 146}\n",
      "Vocab:  {'UNK': 0, 'PAD': 1, 'BOS': 2, 'EOS': 3, 'WORD_BOUNDARY': 4, 'UTT_BOUNDARY': 5, 'aː': 6, 'ɾ': 7, 'r': 8, 'ɪ': 9, 'ɛ': 10, 'd': 11, 's': 12, 'j': 13, 'a': 14, 'b': 15, 'iː': 16, 'k': 17, 'ʋ': 18, 'ɛː': 19, 'θ': 20, 'i': 21, 'l': 22, 'n': 23, 'uː': 24, 'ð': 25, 'ɡ': 26, 'ɔ': 27, 'h': 28, 'aʊ': 29, 'y': 30, 'm': 31, 'f': 32, 'ɔː': 33, 'x': 34, 'ɟ': 35, 't': 36, 'eɪ': 37, 'oʊ': 38, 'p': 39, 'ŋ': 40, 'ɣ': 41, 'yː': 42, 'u': 43, 'ɪː': 44, 'œ': 45, 'aɪ': 46, 'ç': 47, 'ə': 48, 'øy': 49, 'c': 50, 'ɲ': 51, 'œː': 52, 'ɔɪ': 53}\n",
      "Vocab size:  54\n",
      "Tokenizer for Icelandic pushed to the hub.\n",
      "\n",
      "Trainking tokenizer for Indonesian...\n",
      "Tokens not found in phoible:  {}\n",
      "Vocab:  {'UNK': 0, 'PAD': 1, 'BOS': 2, 'EOS': 3, 'WORD_BOUNDARY': 4, 'UTT_BOUNDARY': 5, 'n': 6, 'i': 7, 'h': 8, 'l': 9, 'o': 10, 't': 11, 'm': 12, 'a': 13, 'w': 14, 's': 15, 'd̠ʒ': 16, 'ŋ': 17, 'd': 18, 'p': 19, 'ɛ': 20, 'ɡ': 21, 'b': 22, 'u': 23, 'r': 24, 'au̯': 25, 'z': 26, 'k': 27, 'ɲ': 28, 'j': 29, 't̠ʃ': 30, 'e': 31, 'ə': 32, 'ɔ': 33, 'ai̯': 34, 'f': 35, 'v': 36, 'ʔ': 37, 'ʃ': 38, 'χ': 39, 'x': 40}\n",
      "Vocab size:  41\n",
      "Tokenizer for Indonesian pushed to the hub.\n",
      "\n",
      "Trainking tokenizer for Irish...\n",
      "Tokens not found in phoible:  {'A': 4003}\n",
      "Vocab:  {'UNK': 0, 'PAD': 1, 'BOS': 2, 'EOS': 3, 'WORD_BOUNDARY': 4, 'UTT_BOUNDARY': 5, 'ɡ': 6, 'ə': 7, 's': 8, 'n': 9, 'w': 10, 'ɪ': 11, 'l': 12, 'oː': 13, 'ɛ': 14, 'ɑː': 15, 'i̯': 16, 'ʒ': 17, 'b': 18, 'a': 19, 'm': 20, 'ʃ': 21, 'c': 22, 'x': 23, 't̪': 24, 'ʊ': 25, 'iː': 26, 'ɹ': 27, 'eː': 28, 'h': 29, 'ɐ': 30, 'r': 31, 'f': 32, 'ɔ': 33, 'd̪': 34, 'k': 35, 'lʲ': 36, 'ɡʲ': 37, 'hʲ': 38, 'kʲ': 39, 'dʲ': 40, 'v': 41, 'nʲ': 42, 'p': 43, 'd̠ʒ': 44, 'uː': 45, 'ŋ': 46, 'ɣ': 47, 'd': 48, 'ʁ': 49, 'j': 50, 'eɪ': 51, 't̠ʃ': 52, 'aʊ': 53, 'iə': 54, 'çʲ': 55, 'pʲ': 56, 'χ': 57, 'uə': 58, 'aɪ': 59, 't': 60, 'u': 61, 'ŭ': 62, 'bʲ': 63, 'fʲ': 64, 'z': 65}\n",
      "Vocab size:  66\n",
      "Tokenizer for Irish pushed to the hub.\n",
      "\n",
      "Trainking tokenizer for Welsh...\n",
      "Tokens not found in phoible:  {'ɔɨ': 2852, 'ɑɨ': 5885, 'ɨu': 2984}\n",
      "Vocab:  {'UNK': 0, 'PAD': 1, 'BOS': 2, 'EOS': 3, 'WORD_BOUNDARY': 4, 'UTT_BOUNDARY': 5, 'd': 6, 'eː': 7, 'ç': 8, 'r': 9, 'aɨ': 10, 'ɛ': 11, 't': 12, 'ɔ': 13, 'w': 14, 'a': 15, 'n': 16, 'j': 17, 'aʊ': 18, 'ə': 19, 'ð': 20, 'oː': 21, 'iː': 22, 'ɨ': 23, 'b': 24, 's': 25, 'ø': 26, 'ɡ': 27, 'uɨ': 28, 'h': 29, 'ʊ': 30, 'm': 31, 'əɪ': 32, 'θ': 33, 'l': 34, 'v': 35, 'ɨː': 36, 'ʌ': 37, 'k': 38, 'ɬ': 39, 'p': 40, 'f': 41, 'x': 42, 'uː': 43, 'ʃ': 44, 'aɪ': 45, 'əɨ': 46, 'ɑː': 47, 'ɔɪ': 48, 'eʊ': 49, 'ŋ': 50, 'd̠ʒ': 51, 'ɪu': 52, 'z': 53}\n",
      "Vocab size:  54\n",
      "Tokenizer for Welsh pushed to the hub.\n",
      "\n",
      "Trainking tokenizer for Korean...\n",
      "Tokens not found in phoible:  {'ph': 5046, 'kh': 8644}\n",
      "Vocab:  {'UNK': 0, 'PAD': 1, 'BOS': 2, 'EOS': 3, 'WORD_BOUNDARY': 4, 'UTT_BOUNDARY': 5, 'w': 6, 'ɐ': 7, 'j': 8, 'o': 9, 'ɾ': 10, 'i': 11, 'h': 12, 'n': 13, 'ɯ': 14, 'd': 15, 'e': 16, 'ŋ': 17, 'p': 18, 'dʑ': 19, 'u': 20, 'm': 21, 'q': 22, 'ʌ': 23, 'ɫ': 24, 't̠ʃ': 25, 'tɕ': 26, 'ɛ': 27, 'b': 28, 's': 29, 'k': 30, 't': 31, 'l': 32, 'ɡ': 33, 'hʲ': 34}\n",
      "Vocab size:  35\n",
      "Tokenizer for Korean pushed to the hub.\n",
      "\n",
      "Trainking tokenizer for Swedish...\n",
      "Tokens not found in phoible:  {'sx': 2072}\n",
      "Vocab:  {'UNK': 0, 'PAD': 1, 'BOS': 2, 'EOS': 3, 'WORD_BOUNDARY': 4, 'UTT_BOUNDARY': 5, 'ɔ': 6, 'j': 7, 'k': 8, 'l': 9, 'ɛ': 10, 'm': 11, 'd': 12, 'ə': 13, 'ʉ': 14, 'f': 15, 'ɪ': 16, 'ŋ': 17, 'r': 18, 'a': 19, 'n': 20, 'iː': 21, 'ɑː': 22, 't': 23, 'ɛː': 24, 's': 25, 'v': 26, 'oː': 27, 'uː': 28, 'eː': 29, 'ʊ': 30, 'p': 31, 'b': 32, 'h': 33, 'øː': 34, 'yː': 35, 'ɡ': 36, 'ɵ': 37, 'ʃ': 38, 'ʂ': 39, 'œ': 40, 'tː': 41, 'kː': 42, 'y': 43, 'ɕ': 44, 'ɵː': 45}\n",
      "Vocab size:  46\n",
      "Tokenizer for Swedish pushed to the hub.\n",
      "\n",
      "Trainking tokenizer for Norwegian...\n",
      "Tokens not found in phoible:  {'ʉɪ': 11}\n",
      "Vocab:  {'UNK': 0, 'PAD': 1, 'BOS': 2, 'EOS': 3, 'WORD_BOUNDARY': 4, 'UTT_BOUNDARY': 5, 't': 6, 'ɑ': 7, 'kː': 8, 'v': 9, 'a': 10, 'r': 11, 'ʃ': 12, 'oː': 13, 'ɡ': 14, 'uː': 15, 'd': 16, 'h': 17, 'ʉː': 18, 's': 19, 'ɛ': 20, 'tː': 21, 'eː': 22, 'n': 23, 'pː': 24, 'ə': 25, 'l': 26, 'ɪ': 27, 'b': 28, 'iː': 29, 'ɛː': 30, 'j': 31, 'k': 32, 'ʉ': 33, 'ɔ': 34, 'm': 35, 'ʊː': 36, 'f': 37, 'yː': 38, 'aɪ': 39, 'p': 40, 'øy': 41, 'ŋ': 42, 'øː': 43, 'dː': 44, 'œ': 45, 'bː': 46, 'x': 47, 'aː': 48, 'ɑː': 49, 'y': 50, 'aʊ': 51, 'ʊ': 52, 'ɡː': 53, 'ɔɪ': 54, 'ɹ': 55, 'ʂ': 56, 'ɑɪ': 57, 'w': 58}\n",
      "Vocab size:  59\n",
      "Tokenizer for Norwegian pushed to the hub.\n",
      "\n",
      "Trainking tokenizer for Quechua...\n",
      "Tokens not found in phoible:  {'t`': 56, 'k`': 75, 'p`': 54, 't̠ʃ`': 42, 'q`': 76}\n",
      "Vocab:  {'UNK': 0, 'PAD': 1, 'BOS': 2, 'EOS': 3, 'WORD_BOUNDARY': 4, 'UTT_BOUNDARY': 5, 't': 6, 's': 7, 'aː': 8, 'h': 9, 'u': 10, 'ʎ': 11, 'j': 12, 'a': 13, 'm': 14, 'k': 15, 'i': 16, 'n': 17, 'r': 18, 'p': 19, 'ʔ': 20, 'q': 21, 't̠ʃ': 22, 'f': 23, 'e': 24, 'b': 25, 'w': 26, 'ɡ': 27, 'l': 28, 'v': 29, 'd': 30, 'iː': 31, 'o': 32, 'z': 33}\n",
      "Vocab size:  34\n",
      "Tokenizer for Quechua pushed to the hub.\n",
      "\n",
      "Trainking tokenizer for Catalan...\n",
      "Tokens not found in phoible:  {}\n",
      "Vocab:  {'UNK': 0, 'PAD': 1, 'BOS': 2, 'EOS': 3, 'WORD_BOUNDARY': 4, 'UTT_BOUNDARY': 5, 't': 6, 'ɛ': 7, 'ð': 8, 'o': 9, 'n': 10, 'ɐ': 11, 'ɡ': 12, 'ɾ': 13, 'a': 14, 's': 15, 'j': 16, 'ə': 17, 'ʋ': 18, 'i': 19, 'ŋ': 20, 'p': 21, 'u': 22, 'ʑ': 23, 'k': 24, 'z': 25, 'w': 26, 'm': 27, 'ɣ': 28, 'ʎ': 29, 'l': 30, 'β': 31, 'ɕ': 32, 'f': 33, 'r': 34, 'd': 35, 'dʑ': 36, 'ʊ': 37, 'e': 38, 'ɲ': 39, 'ts': 40, 'b': 41, 'tɕ': 42, 'ɔ': 43, 'pː': 44}\n",
      "Vocab size:  45\n",
      "Tokenizer for Catalan pushed to the hub.\n",
      "\n",
      "Trainking tokenizer for Italian...\n",
      "Tokens not found in phoible:  {'ss': 2547}\n",
      "Vocab:  {'UNK': 0, 'PAD': 1, 'BOS': 2, 'EOS': 3, 'WORD_BOUNDARY': 4, 'UTT_BOUNDARY': 5, 'i': 6, 'l': 7, 't': 8, 'a': 9, 'o': 10, 'k': 11, 'ɔ': 12, 'z': 13, 'f': 14, 'v': 15, 'n': 16, 'e': 17, 'd': 18, 'j': 19, 't̠ʃ': 20, 'ɪ': 21, 'b': 22, 'ɛ': 23, 'm': 24, 'w': 25, 's': 26, 'ɛː': 27, 'p': 28, 'r': 29, 'u': 30, 'kː': 31, 'ʊ': 32, 'ʎ': 33, 'd̠ʒ': 34, 'tː': 35, 'pː': 36, 'ts': 37, 'aː': 38, 'oː': 39, 'iː': 40, 't̠ʃː': 41, 'ɾ': 42, 'ɡ': 43, 'eː': 44, 'dz': 45, 'bː': 46, 'd̠ʒː': 47, 'ɲ': 48, 'tsː': 49, 'ʃ': 50, 'eɪ': 51, 'd̪': 52, 'dzː': 53, 'ŋ': 54, 'dː': 55, 'aɪ': 56, 'uː': 57, 'ɔː': 58, 'ɡː': 59}\n",
      "Vocab size:  60\n",
      "Tokenizer for Italian pushed to the hub.\n",
      "\n",
      "Trainking tokenizer for PortuguesePt...\n",
      "Tokens not found in phoible:  {'ɐ̃ʊ̃': 19619}\n",
      "Vocab:  {'UNK': 0, 'PAD': 1, 'BOS': 2, 'EOS': 3, 'WORD_BOUNDARY': 4, 'UTT_BOUNDARY': 5, 'f': 6, 'ɨ': 7, 'ʃ': 8, 'ɐ': 9, 'a': 10, 's': 11, 'i': 12, 'ŋ': 13, 'n': 14, 'd': 15, 'p': 16, 'oɪ': 17, 'z': 18, 'ɛ': 19, 't': 20, 'ɐ̃': 21, 'm': 22, 'b': 23, 'eɪ': 24, 'ʒ': 25, 'l': 26, 'ɡ': 27, 'w': 28, 'ɔ': 29, 'ɾ': 30, 'e': 31, 'aɪ': 32, 'eʊ': 33, 'ʊ': 34, 'ɛʊ': 35, 'ũ': 36, 'u': 37, 'ɹ': 38, 'o': 39, 'ʎ': 40, 'ə': 41, 'k': 42, 'ɲ': 43, 'aː': 44, 'v': 45, 'aʊ': 46, 'ʁ': 47, 'j': 48, 'iʊ': 49, 'ɑ': 50, 'õ': 51, 'uɪ': 52, 'mʲ': 53, 'ɛɪ': 54, 'r': 55, 'ɔɪ': 56, 't̠ʃ': 57, 'ts': 58, 'rʲ': 59, 'sʲ': 60}\n",
      "Vocab size:  61\n",
      "Tokenizer for PortuguesePt pushed to the hub.\n",
      "\n",
      "Trainking tokenizer for PortugueseBr...\n",
      "Tokens not found in phoible:  {'ɐ̃ʊ̃': 890}\n",
      "Vocab:  {'UNK': 0, 'PAD': 1, 'BOS': 2, 'EOS': 3, 'WORD_BOUNDARY': 4, 'UTT_BOUNDARY': 5, 'k': 6, 'y': 7, 'm': 8, 'aɪ': 9, 's': 10, 't': 11, 'eɪ': 12, 'ŋ': 13, 'a': 14, 'i': 15, 'n': 16, 'ɛ': 17, 'æ': 18, 'z': 19, 'ɡ': 20, 'r': 21, 'v': 22, 'u': 23, 'ɾ': 24, 'd': 25, 'ʊ': 26, 'oɪ': 27, 'ɲ': 28, 'e': 29, 'f': 30, 'o': 31, 'p': 32, 'ʒ': 33, 't̠ʃ': 34, 'd̠ʒ': 35, 'eʊ': 36, 'w': 37, 'aʊ': 38, 'j': 39, 'ə': 40, 'ũ': 41, 'ɐ̃': 42, 'l': 43, 'b': 44, 'x': 45, 'ɔ': 46, 'ʃ': 47, 'iʊ': 48, 'ɛʊ': 49, 'ɔɪ': 50, 'uɪ': 51}\n",
      "Vocab size:  52\n",
      "Tokenizer for PortugueseBr pushed to the hub.\n",
      "\n",
      "Trainking tokenizer for Romanian...\n",
      "Tokens not found in phoible:  {'tsʲʲ': 705, 'zʲʲ': 623, 'ʃʲʲ': 91, 'nʲʲ': 291, 'tʲʲ': 273, 'mʲʲ': 108, 'ɾʲʲ': 178, 'bʲʲ': 86, 'dʲʲ': 33, 'pʲʲ': 80, 'lʲʲ': 68, 'fʲʲ': 20}\n",
      "Vocab:  {'UNK': 0, 'PAD': 1, 'BOS': 2, 'EOS': 3, 'WORD_BOUNDARY': 4, 'UTT_BOUNDARY': 5, 'a': 6, 'ʃ': 7, 'm': 8, 'e': 9, 'h': 10, 'd': 11, 's': 12, 'f': 13, 't̠ʃ': 14, 'l': 15, 'ə': 16, 'p': 17, 'i': 18, 'k': 19, 'ɨ': 20, 'n': 21, 'uɪ': 22, 't': 23, 't̠ʃʲ': 24, 'w': 25, 'u': 26, 'ts': 27, 'aɪ': 28, 'r': 29, 'o': 30, 'j': 31, 'b': 32, 'v': 33, 'eɪ': 34, 'ɔa': 35, 'ɡ': 36, 'z': 37, 'ɾ': 38, 'ea': 39, 'iɪ': 40, 'aʊ': 41, 'ʒ': 42, 'əɪ': 43, 'd̠ʒ': 44, 'eʊ': 45, 'iʊ': 46, 'tʲ': 47, 'ŋ': 48, 'tsʲ': 49, 'kʲ': 50, 'eo': 51, 'd̠ʒʲ': 52, 'rʲ': 53, 'əʊ': 54, 'oʊ': 55, 'sʲ': 56, 'ɾʲ': 57, 'ɔ': 58, 'nʲ': 59, 'oɪ': 60}\n",
      "Vocab size:  61\n",
      "Tokenizer for Romanian pushed to the hub.\n",
      "\n",
      "Trainking tokenizer for all languages...\n",
      "Tokens not found in phoible:  {'ʌʊ': 29128, 'yʊ': 655, 'a˥˩': 134103, 'ɻ̩˥˩': 60603, 'ə˧˥': 47575, 'e˧˥': 8803, 'ɤ˥˩': 94372, 'o˥': 17623, 'a˥': 136085, 'ə˥': 30513, 'ʊ˥': 15404, 'au̯˧˩˧': 73681, 'u˧˩˧': 8131, 'i˥': 57614, 'ei̯˧˩˧': 13610, 'i˧˥': 23314, 'ai̯˧˥': 43322, 'ou̯˧˩˧': 42463, 'u˧˥': 18595, 'ɤ˧˥': 5204, 'o˧˩˧': 41410, 'au̯˥˩': 60495, 'ə˧˩˧': 18898, 'ɤ˥': 8992, 'ei̯˧˥': 19803, 'ʊ˧˥': 8683, 'i˧˩˧': 105629, 'ɻ̩˧˩˧': 3656, 'ei̯˥˩': 38649, 'u˥˩': 41026, 'ai̯˥': 13886, 'u˥': 12807, 'a˧˩˧': 46844, 'a˧˥': 44695, 'ai̯˥˩': 49896, 'ɛ˥˩': 19495, 'i˥˩': 19548, 'y˥˩': 17253, 'ou̯˥˩': 35280, 'e˥': 4690, 'ɹ̩˥˩': 6722, 'ɛ˧˥': 8767, 'au̯˥': 15809, 'ou̯˧˥': 9856, 'e˧˩˧': 9647, 'ɛ˥': 15832, 'ɻ̩˥': 22908, 'ɹ̩˧˩˧': 2357, 'au̯˧˥': 3898, 'ai̯˧˩˧': 4540, 'ou̯˥': 10351, 'o˥˩': 25467, 'ɛ˧˩˧': 8759, 'ʊ˧˩˧': 4164, 'ɔ˥': 10473, 'ə˥˩': 4826, 'ʊ˥˩': 9913, 'ɤ˧˩˧': 9014, 'o˧˥': 3316, 'ei̯˥': 7763, 'e˥˩': 4552, 'ɚ˧˩˧': 309, 'y˥': 3321, 'ɚ˥˩': 1477, 'y˧˥': 2761, 'y˧˩˧': 1124, 'ɹ̩˥': 1020, 'ɻ̩˧˥': 8558, 'ɚ˧˥': 1378, 'ɔ˥˩': 72, 'ɹ̩˧˥': 52, 'm˧˥': 12, 'g': 58660, 't͡s': 22642, 'gʲ': 1102, 'aː˧': 59038, 'ɐ˥': 21803, 'aː˧˩̰': 15197, 'ɛː˥': 27225, 'ei˩˧': 22657, 'aː˨': 5304, 'ɐi˧˥': 13853, 'm̩˧˥': 1244, 'ou˥': 3421, 'aː˧˥': 8982, 'ei˥': 5487, 'iː˧': 4689, 'ɔː˧˥': 12441, 'iː˥': 24769, 'aːĭ˧': 4468, 'ɐ˨': 7396, 'ɵy˧': 5065, 'aː˥': 32496, 'ou˨': 11435, 'ɔː˧': 24130, 'ɐi˧˩̰': 5346, 'uː˧': 2278, 'ɔːĭ˥': 2298, 'ɐu˨': 4149, 'iː˨': 5126, 'ei˧˥': 8635, 'ɐi˨': 13031, 'ʊ˧˩̰': 2859, 'ʊ˨': 4273, 'aː˩˧': 5389, 'aːĭ˧˥': 3325, 'ɔː˨': 3349, 'ɛː˩˧': 7315, 'ɪ˨': 6431, 'iːŭ˧': 4545, 'ɛː˧˩̰': 2884, 'ɪ˧˥': 1925, '̩˧˩̰': 22726, 'ɵ˧˥': 267, 'ei˧': 1143, 'ɐu˧˩̰': 2432, 'm̩˧': 1175, 'ɐu˧˥': 3227, 'ɐu˩˧': 8401, 'ɐi˥': 8675, 'ɔː˥': 11128, 'ɔːĭ˧': 1102, 'ou˧˥': 22062, 'ou˩˧': 6647, 'ɐ˧': 8489, 'ɛː˧˥': 4262, 'iː˧˥': 6385, 'ɔː˩˧': 11133, 'ɐ˧˩̰': 2664, 'aːŭ˧˥': 849, 'aːĭ˧˩̰': 2281, 'ɵy˩˧': 8042, 'ɵ˧': 2373, 'ɛː˧': 4946, 'ei˧˩̰': 4084, 'uː˧˥': 1137, 'ɔː˧˩̰': 3744, 'ɛː˨': 1157, 'uː˥': 971, 'ʊ˧': 1148, 'iː˧˩̰': 4114, 'yː˨': 3341, 'aːŭ˧': 683, 'œː˩˧': 1290, 'ɐ˧˥': 6105, 'iː˩˧': 1543, 'ɪ˧˩̰': 1450, 'iːŭ˧˩̰': 780, 'œː˧˥': 3282, 'yː˧': 1110, 'uːĭ˩˧': 894, 'ɵy˧˥': 1296, 'yː˧˩̰': 3605, 'ɔːĭ˧˥': 279, 'u˨': 151, 'ou˧': 1533, 'ei˨': 3433, 'ɐu˥': 887, 'ɵ˥': 2077, 'uː˧˩̰': 506, 'yː˥': 1527, 'ɪ˥': 4948, 'œː˥': 1257, 'œː˧˩̰': 1552, 'aːĭ˨': 1589, 'ɐ˩˧': 63, 'œː˧': 2729, 'uːĭ˧˥': 21, 'ɐu˧': 1022, 'ɐi˧': 1785, 'ou˧˩̰': 475, 'aːĭ˥': 1205, 'aːŭ˥': 1044, 'yː˧˥': 1060, 'iːŭ˥': 548, 'ɔːĭ˨': 417, 'm̩˥': 376, 'iːŭ˧˥': 1108, 'ɐi˩˧': 505, 'ɵy˥': 412, 'uːĭ˧': 33, 'ɵy˧˩̰': 739, 'uːĭ˥': 658, 'aːŭ˧˩̰': 30, 'yː˩˧': 261, 'ɔːĭ˧˩̰': 223, 'aːŭ˩˧': 272, 'aːĭ˩˧': 1112, 'uːĭ˨': 114, 'œː˨': 952, 'uː˨': 474, 'ɵy˨': 321, 'aːŭ˨': 81, 'm̩˩˧': 93, 'ŋ˩˧': 286, 'ɪ˧': 266, 'm̩˨': 261, 'iːŭ˩˧': 33, 'iːŭ˨': 139, 'ɵ˨': 16, 'uːĭ˧˩̰': 47, 'uː˩˧': 15, 'ɵ˧˩̰': 91, 's^': 13520, 't^': 2185, 't^ː': 591, 'øi': 59, 'd^': 2004, 'æiː': 349, 'ɐ̯': 18929, 'ʔe': 19241, 'ʔu': 4971, '?ɑ': 6275, 'ε': 12789, 'ʔi': 6214, 'ʔʌ': 15181, 'ʔœ': 3426, 'ʔo': 3231, 'ʔy': 696, '?a': 447, 'ɒɒ': 325, 'ɑɑ': 150, 'aa': 13, 'ɯɯ': 30, '1': 242, 'r#': 3506, 'eɪː': 7584, 'n#': 5999, 'ŋ#': 169, 'aʊː': 13917, 'oʊː': 2679, 'aɪː': 1503, 'øyː': 662, 'l#': 2290, 'tl#': 1052, 'm#': 146, 'A': 4003, 'lʲʲ': 71, 'ɔɨ': 2852, 'ɑɨ': 5885, 'ɨu': 2984, 'ph': 5046, 'kh': 8644, 'sx': 2072, 'ʉɪ': 11, 't`': 56, 'k`': 75, 'p`': 54, 't̠ʃ`': 42, 'q`': 76, 'ss': 2547, 'ɐ̃ʊ̃': 20509, 'tsʲʲ': 705, 'zʲʲ': 623, 'ʃʲʲ': 91, 'nʲʲ': 291, 'tʲʲ': 273, 'mʲʲ': 108, 'ɾʲʲ': 178, 'bʲʲ': 86, 'dʲʲ': 33, 'pʲʲ': 80, 'fʲʲ': 20}\n",
      "Vocab:  {'UNK': 0, 'PAD': 1, 'BOS': 2, 'EOS': 3, 'WORD_BOUNDARY': 4, 'UTT_BOUNDARY': 5, 's': 6, 'iː': 7, 'ð': 8, 'ɛ': 9, 'ɹ': 10, 'z': 11, 'ʌ': 12, 'f': 13, 'eɪ': 14, 'w': 15, 'ɪ': 16, 'ɡ': 17, 'l': 18, 'æ': 19, 'ɑ': 20, 'h': 21, 'ə': 22, 'ʊ': 23, 'k': 24, 'p': 25, 'uː': 26, 'b': 27, 'i': 28, 't': 29, 'aɪ': 30, 'θ': 31, 'ŋ': 32, 'j': 33, 'ɔ': 34, 'm': 35, 'ɔɪ': 36, 'n': 37, 'd': 38, 'oʊ': 39, 'aʊ': 40, 'v': 41, 'ɜː': 42, 't̠ʃ': 43, 'd̠ʒ': 44, 'ʃ': 45, 'iə': 46, 'ʒ': 47, 'ɑ̃': 48, 'r': 49, 'x': 50, 'nʲ': 51, 'ɒ': 52, 'a': 53, 'ɑː': 54, 'ɔː': 55, 'əʊ': 56, 'ɐ': 57, 'eə': 58, 'ʊə': 59, 'n̩': 60, 'aː': 61, 'y': 62, 'ɛ̃': 63, 'ʁ': 64, 'e': 65, 'ɔ̃': 66, 'u': 67, 'o': 68, 'œ̃': 69, 'ø': 70, 'œ': 71, 'oː': 72, 'yː': 73, 'ɲ': 74, 'ts': 75, 'eː': 76, 'ʀ': 77, 'ç': 78, 'ɛɪ': 79, 'ʏ': 80, 'ɛː': 81, 'pf': 82, 'øː': 83, 'ã': 84, 'ɾ': 85, 'β': 86, 'ʎ': 87, 'ɣ': 88, 'ʝ': 89, 'oɪ': 90, 'eʊ': 91, 'pː': 92, 'ɟ': 93, 'ʋ': 94, 'ɪː': 95, 'ɵ': 96, 'œy': 97, 'tʲ': 98, 'au̯': 99, 'ʂ': 100, 'ɤ': 101, 'kʰ': 102, 'ʈʂʰ': 103, 'ɕ': 104, 'pʰ': 105, 'tɕ': 106, 'ʈʂ': 107, 'ɹ̩': 108, 'tɕʰ': 109, 'tʰ': 110, 'ɻ': 111, 'ɥ': 112, 'tsʰ': 113, 'ei̯': 114, 'ou̯': 115, 'ɻ̩': 116, 'ai̯': 117, 'ɯː': 118, 'ɯ': 119, 'pʲ': 120, 'ɸ': 121, 'rʲ': 122, 'kʲ': 123, 'bʲ': 124, 'mʲ': 125, 'kː': 126, 'æi': 127, 'yi': 128, 'ɵː': 129, 'tː': 130, 'æː': 131, 'dʑ': 132, 'l̩': 133, 'œː': 134, 'ʌː': 135, 'ɜ': 136, 'ʔ': 137, 's̺': 138, 'ts̻': 139, 's̻': 140, 'c': 141, 'ts̺': 142, 'tsː': 143, 'ɟː': 144, 't̠ʃː': 145, 'ɡː': 146, 'dː': 147, 'cː': 148, 'bː': 149, 'dzː': 150, 'ɫ': 151, 'ʊː': 152, 'q': 153, 'øy': 154, 'χ': 155, 'i̯': 156, 't̪': 157, 'd̪': 158, 'lʲ': 159, 'ɡʲ': 160, 'hʲ': 161, 'dʲ': 162, 'çʲ': 163, 'uə': 164, 'ŭ': 165, 'fʲ': 166, 'aɨ': 167, 'ɨ': 168, 'uɨ': 169, 'əɪ': 170, 'ɨː': 171, 'ɬ': 172, 'əɨ': 173, 'ɪu': 174, 'ʉ': 175, 'ʉː': 176, 'ɑɪ': 177, 'ʑ': 178, 'dz': 179, 'd̠ʒː': 180, 'ɐ̃': 181, 'ɛʊ': 182, 'ũ': 183, 'iʊ': 184, 'õ': 185, 'uɪ': 186, 'sʲ': 187, 't̠ʃʲ': 188, 'ɔa': 189, 'ea': 190, 'iɪ': 191, 'tsʲ': 192, 'eo': 193, 'd̠ʒʲ': 194, 'ɾʲ': 195}\n",
      "Vocab size:  196\n",
      "Done.\n"
     ]
    }
   ],
   "source": [
    "for language, dataset in zip(languages, datasets):\n",
    "    print(f'\\nTrainking tokenizer for {language}...')\n",
    "    allow_non_phoible = language in ['Mandarin', 'Cantonese'] # For Mandarin and Cantonese, allow non-phoible tokens since we merge tone with vowels\n",
    "    vocab = build_vocabulary([dataset], allow_non_phoible=allow_non_phoible)\n",
    "    tokenizer = build_phoneme_tokenizer(vocab)\n",
    "    tokenizer.push_to_hub(f\"transformersegmentation/CHILDES-{language}-phoneme-tokenizer\")\n",
    "    print(f'Tokenizer for {language} pushed to the hub.')\n",
    "\n",
    "print(f'\\nTrainking tokenizer for all languages...')\n",
    "vocab = build_vocabulary(datasets)\n",
    "tokenizer = build_phoneme_tokenizer(vocab)\n",
    "tokenizer.push_to_hub(\"transformersegmentation/CHILDES-phoneme-tokenizer\")\n",
    "print('Done.')\n"
   ]
  },
  {
   "cell_type": "markdown",
   "metadata": {},
   "source": [
    "# BPE Tokenizers for CHILDES"
   ]
  },
  {
   "cell_type": "code",
   "execution_count": 11,
   "metadata": {},
   "outputs": [
    {
     "name": "stdout",
     "output_type": "stream",
     "text": [
      "\n",
      "\n",
      "\n"
     ]
    }
   ],
   "source": [
    "dataset = load_dataset('transformersegmentation/CHILDES', 'English', split='train')\n",
    "tokenizer = Tokenizer(models.BPE())\n",
    "tokenizer.normalizer = normalizers.Sequence([normalizers.NFD(), normalizers.Lowercase(), normalizers.Strip(), normalizers.StripAccents()])\n",
    "tokenizer.pre_tokenizer = pre_tokenizers.ByteLevel(add_prefix_space=True)\n",
    "\n",
    "trainer = trainers.BpeTrainer(vocab_size=8192, special_tokens=[\"<|endoftext|>\", \"<|pad|>\"])\n",
    "tokenizer.train_from_iterator(dataset['processed_gloss'], trainer=trainer)\n",
    "\n",
    "tokenizer.post_processor = processors.ByteLevel(trim_offsets=True)\n",
    "tokenizer.decoder = decoders.ByteLevel()"
   ]
  },
  {
   "cell_type": "code",
   "execution_count": 12,
   "metadata": {},
   "outputs": [
    {
     "name": "stdout",
     "output_type": "stream",
     "text": [
      "Example: we're gonna get some clothes for thomas .\n",
      "['Ġwe', \"'re\", 'Ġgonna', 'Ġget', 'Ġsome', 'Ġclothes', 'Ġfor', 'Ġthomas', 'Ġ.']\n"
     ]
    }
   ],
   "source": [
    "example = dataset['processed_gloss'][300]\n",
    "encoding = tokenizer.encode(example)\n",
    "print(f'Example: {example}')\n",
    "print(encoding.tokens)"
   ]
  },
  {
   "cell_type": "code",
   "execution_count": 13,
   "metadata": {},
   "outputs": [
    {
     "data": {
      "text/plain": [
       "CommitInfo(commit_url='https://huggingface.co/transformersegmentation/CHILDES-English-BPE-gloss-tokenizer/commit/263916bb63b7e1fb06deefd8fae687d63ac0d367', commit_message='Upload tokenizer', commit_description='', oid='263916bb63b7e1fb06deefd8fae687d63ac0d367', pr_url=None, pr_revision=None, pr_num=None)"
      ]
     },
     "execution_count": 13,
     "metadata": {},
     "output_type": "execute_result"
    }
   ],
   "source": [
    "wrapped_tokenizer = GPT2TokenizerFast(tokenizer_object=tokenizer, pad_token='<|pad|>', add_prefix_space=True)\n",
    "wrapped_tokenizer.push_to_hub(\"transformersegmentation/CHILDES-English-BPE-gloss-tokenizer\")"
   ]
  },
  {
   "cell_type": "code",
   "execution_count": 14,
   "metadata": {},
   "outputs": [
    {
     "data": {
      "text/plain": [
       "{'input_ids': [91, 153, 189, 168, 199, 1221, 192, 1868, 40, 1, 1, 1, 1, 1, 1, 1, 1, 1, 1, 1], 'attention_mask': [1, 1, 1, 1, 1, 1, 1, 1, 1, 0, 0, 0, 0, 0, 0, 0, 0, 0, 0, 0]}"
      ]
     },
     "execution_count": 14,
     "metadata": {},
     "output_type": "execute_result"
    }
   ],
   "source": [
    "tokenized = wrapped_tokenizer(example, padding='max_length', max_length=20, truncation=True)\n",
    "tokenized"
   ]
  },
  {
   "cell_type": "code",
   "execution_count": 15,
   "metadata": {},
   "outputs": [
    {
     "data": {
      "text/plain": [
       "['Ġwe',\n",
       " \"'re\",\n",
       " 'Ġgonna',\n",
       " 'Ġget',\n",
       " 'Ġsome',\n",
       " 'Ġclothes',\n",
       " 'Ġfor',\n",
       " 'Ġthomas',\n",
       " 'Ġ.',\n",
       " '<|pad|>',\n",
       " '<|pad|>',\n",
       " '<|pad|>',\n",
       " '<|pad|>',\n",
       " '<|pad|>',\n",
       " '<|pad|>',\n",
       " '<|pad|>',\n",
       " '<|pad|>',\n",
       " '<|pad|>',\n",
       " '<|pad|>',\n",
       " '<|pad|>']"
      ]
     },
     "execution_count": 15,
     "metadata": {},
     "output_type": "execute_result"
    }
   ],
   "source": [
    "wrapped_tokenizer.convert_ids_to_tokens(tokenized['input_ids'])"
   ]
  }
 ],
 "metadata": {
  "kernelspec": {
   "display_name": "env",
   "language": "python",
   "name": "python3"
  },
  "language_info": {
   "codemirror_mode": {
    "name": "ipython",
    "version": 3
   },
   "file_extension": ".py",
   "mimetype": "text/x-python",
   "name": "python",
   "nbconvert_exporter": "python",
   "pygments_lexer": "ipython3",
   "version": "3.9.13"
  },
  "orig_nbformat": 4
 },
 "nbformat": 4,
 "nbformat_minor": 2
}
