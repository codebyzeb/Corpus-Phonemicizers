{
 "cells": [
  {
   "cell_type": "code",
   "execution_count": 1,
   "metadata": {},
   "outputs": [
    {
     "name": "stderr",
     "output_type": "stream",
     "text": [
      "/Users/zebulongoriely/Documents/UniDocs/PHD/research/projects/CHILDES_processor/env/lib/python3.9/site-packages/tqdm/auto.py:21: TqdmWarning: IProgress not found. Please update jupyter and ipywidgets. See https://ipywidgets.readthedocs.io/en/stable/user_install.html\n",
      "  from .autonotebook import tqdm as notebook_tqdm\n",
      "/Users/zebulongoriely/Documents/UniDocs/PHD/research/projects/CHILDES_processor/env/lib/python3.9/site-packages/datasets/load.py:1461: FutureWarning: The repository for cambridge-climb/BabyLM contains custom code which must be executed to correctly load the dataset. You can inspect the repository content at https://hf.co/datasets/cambridge-climb/BabyLM\n",
      "You can avoid this message in future by passing the argument `trust_remote_code=True`.\n",
      "Passing `trust_remote_code=True` will be mandatory to load this dataset from the next major release of `datasets`.\n",
      "  warnings.warn(\n"
     ]
    }
   ],
   "source": [
    "import datasets\n",
    "\n",
    "# Load cambridge-climb/BabyLM dataset\n",
    "dataset = datasets.load_dataset(\"cambridge-climb/BabyLM\", \"original_strict\")"
   ]
  },
  {
   "cell_type": "code",
   "execution_count": 2,
   "metadata": {},
   "outputs": [],
   "source": [
    "df = dataset['train'].to_pandas()\n",
    "df = df.drop(columns=['tagged_text'])\n",
    "df['is_child'] = False\n",
    "df['target_child_age'] = 0.2 # Arbitrary value\n",
    "df = df.rename(columns={'text': 'processed_gloss'})\n",
    "df['language_code'] = 'en-us'"
   ]
  },
  {
   "cell_type": "code",
   "execution_count": 3,
   "metadata": {},
   "outputs": [
    {
     "name": "stdout",
     "output_type": "stream",
     "text": [
      "Phonemizing using language \"EnglishNA\"...\n",
      "Using espeak backend with language code \"en-us\"...\n"
     ]
    }
   ],
   "source": [
    "import sys\n",
    "import os\n",
    "os.environ['PHONEMIZER_ESPEAK_LIBRARY'] = '/opt/local/lib/libespeak-ng.dylib'\n",
    "sys.path.append('../../')\n",
    "from src.phonemize import phonemize_utterances, character_split_utterance\n",
    "\n",
    "lines = df['processed_gloss'].tolist()\n",
    "\n",
    "# We remove word boundaries to keep more data, since the phonemization would remove around \n",
    "# 25% of the data due to word mismatches but we do not need the word boundaries for training\n",
    "phonemized_lines = phonemize_utterances(lines, keep_word_boundaries=False)\n",
    "df['phonemized_utterance'] = phonemized_lines\n",
    "df['character_split_utterance'] = character_split_utterance(lines)"
   ]
  },
  {
   "cell_type": "code",
   "execution_count": 4,
   "metadata": {},
   "outputs": [
    {
     "name": "stdout",
     "output_type": "stream",
     "text": [
      "WARNING: 31458 lines were not phonemized successfully. Dropping these.\n"
     ]
    }
   ],
   "source": [
    "num_empty = len(df[df['phonemized_utterance'] == ''])\n",
    "print(f'WARNING: {num_empty} lines were not phonemized successfully. Dropping these.')\n",
    "df = df[df['phonemized_utterance'] != '']\n",
    "df['character_split_utterance'] = character_split_utterance(df['processed_gloss'].tolist())"
   ]
  },
  {
   "cell_type": "code",
   "execution_count": 5,
   "metadata": {},
   "outputs": [],
   "source": [
    "df.to_csv('BabyLM-phonemized/train.csv', index=False)"
   ]
  },
  {
   "cell_type": "code",
   "execution_count": 7,
   "metadata": {},
   "outputs": [
    {
     "name": "stdout",
     "output_type": "stream",
     "text": [
      "Phonemizing using language \"EnglishNA\"...\n",
      "Using espeak backend with language code \"en-us\"...\n",
      "WARNING: 248655 lines were not phonemized successfully. Dropping these.\n"
     ]
    }
   ],
   "source": [
    "df = dataset['validation'].to_pandas()\n",
    "df = df.drop(columns=['tagged_text'])\n",
    "df['is_child'] = False\n",
    "df['target_child_age'] = 0.2\n",
    "df = df.rename(columns={'text': 'processed_gloss'})\n",
    "df['language_code'] = 'en-us'\n",
    "\n",
    "lines = df['processed_gloss'].tolist()\n",
    "phonemized_lines = phonemize_utterances(lines)\n",
    "df['phonemized_utterance'] = phonemized_lines\n",
    "df['character_split_utterance'] = character_split_utterance(lines)\n",
    "\n",
    "num_empty = len(df[df['phonemized_utterance'] == ''])\n",
    "print(f'WARNING: {num_empty} lines were not phonemized successfully. Dropping these.')\n",
    "df = df[df['phonemized_utterance'] != '']\n",
    "df['character_split_utterance'] = character_split_utterance(df['processed_gloss'].tolist())\n",
    "\n",
    "# Subsamples the validation set to 1000 examples\n",
    "df = df.sample(n=10000, random_state=42)\n",
    "\n",
    "df.to_csv('BabyLM-phonemized/valid.csv', index=False)"
   ]
  },
  {
   "cell_type": "code",
   "execution_count": 11,
   "metadata": {},
   "outputs": [
    {
     "name": "stderr",
     "output_type": "stream",
     "text": [
      "Generating train split: 10144265 examples [00:56, 178957.75 examples/s]\n",
      "Generating valid split: 10000 examples [00:00, 177261.31 examples/s]\n"
     ]
    }
   ],
   "source": [
    "import datasets\n",
    "from datasets import load_dataset\n",
    "\n",
    "dataset_new = load_dataset('BabyLM-phonemized')"
   ]
  },
  {
   "cell_type": "code",
   "execution_count": 12,
   "metadata": {},
   "outputs": [
    {
     "data": {
      "text/plain": [
       "DatasetDict({\n",
       "    train: Dataset({\n",
       "        features: ['processed_gloss', 'filename', 'is_child', 'target_child_age', 'language_code', 'phonemized_utterance', 'character_split_utterance'],\n",
       "        num_rows: 10144265\n",
       "    })\n",
       "    valid: Dataset({\n",
       "        features: ['processed_gloss', 'filename', 'is_child', 'target_child_age', 'language_code', 'phonemized_utterance', 'character_split_utterance'],\n",
       "        num_rows: 10000\n",
       "    })\n",
       "})"
      ]
     },
     "execution_count": 12,
     "metadata": {},
     "output_type": "execute_result"
    }
   ],
   "source": [
    "dataset_new"
   ]
  },
  {
   "cell_type": "code",
   "execution_count": null,
   "metadata": {},
   "outputs": [],
   "source": []
  }
 ],
 "metadata": {
  "kernelspec": {
   "display_name": "env",
   "language": "python",
   "name": "python3"
  },
  "language_info": {
   "codemirror_mode": {
    "name": "ipython",
    "version": 3
   },
   "file_extension": ".py",
   "mimetype": "text/x-python",
   "name": "python",
   "nbconvert_exporter": "python",
   "pygments_lexer": "ipython3",
   "version": "3.9.13"
  }
 },
 "nbformat": 4,
 "nbformat_minor": 2
}
