{
 "cells": [
  {
   "cell_type": "markdown",
   "metadata": {},
   "source": [
    "# Prepare BabyLM Evaluation Pipeline Data\n",
    "\n",
    "Script to convert BabyLM evaluation data to phonemes. First, download the [evaluation data](https://github.com/codebyzeb/evaluation-pipeline-2024?tab=readme-ov-file) used in the [BabyLM evaluation pipeline](https://github.com/codebyzeb/evaluation-pipeline-2024?tab=readme-ov-file) then run this notebook. After converting to phonemes, the data was copied into the [forked version](https://github.com/codebyzeb/evaluation-pipeline-2024?tab=readme-ov-file) of the pipeline used in the TransformerSegmentation project. "
   ]
  },
  {
   "cell_type": "code",
   "execution_count": 6,
   "metadata": {},
   "outputs": [],
   "source": [
    "import json\n",
    "import os\n",
    "import sys\n",
    "\n",
    "os.environ['PHONEMIZER_ESPEAK_LIBRARY'] = '/opt/local/lib/libespeak-ng.dylib'\n",
    "sys.path.append('../../')\n",
    "from corpus_phonemizer import phonemize_utterances\n",
    "\n",
    "INPUT_DIR = \"evaluation_data\"\n",
    "OUTPUT_DIR = \"evaluation_data_phonemized\""
   ]
  },
  {
   "cell_type": "code",
   "execution_count": 7,
   "metadata": {},
   "outputs": [
    {
     "name": "stderr",
     "output_type": "stream",
     "text": [
      "WARNING:phonemizer:removing the mismatched lines\n"
     ]
    },
    {
     "data": {
      "text/plain": [
       "['w ʌ t WORD_BOUNDARY ʌ WORD_BOUNDARY k ə n ʌ n d ɹ ə m WORD_BOUNDARY']"
      ]
     },
     "execution_count": 7,
     "metadata": {},
     "output_type": "execute_result"
    }
   ],
   "source": [
    "phonemize_utterances(['what a conundrum'], backend='phonemizer', language='en-us', keep_word_boundaries=True)"
   ]
  },
  {
   "cell_type": "code",
   "execution_count": 8,
   "metadata": {},
   "outputs": [],
   "source": [
    "keys = ['sentence_good', 'sentence_bad', 'sentence', 'question', 'passage', 'premise', 'hypothesis', 'sentence1', 'sentence2', 'paragraph', 'answer', 'question1', 'question2', 'text', 'span1_text', 'span2_text', 'Context1', 'Context2', 'Target1', 'Target2']\n",
    "folders = ['blimp_filtered', 'glue_filtered', 'supplement_filtered', 'ewok_filtered']"
   ]
  },
  {
   "cell_type": "code",
   "execution_count": 9,
   "metadata": {},
   "outputs": [
    {
     "name": "stdout",
     "output_type": "stream",
     "text": [
      "\n",
      "----------\n",
      "----------\n",
      "Phonemizing blimp_filtered\n",
      "----------\n",
      "----------\n",
      "\n",
      "----------------\n",
      "Phonemizing evaluation_data/blimp_filtered/ellipsis_n_bar_2.jsonl\n"
     ]
    },
    {
     "name": "stderr",
     "output_type": "stream",
     "text": [
      "WARNING:phonemizer:words count mismatch on 4.0% of the lines (33/828)\n",
      "WARNING:phonemizer:words count mismatch on 6.0% of the lines (49/828)\n"
     ]
    },
    {
     "name": "stdout",
     "output_type": "stream",
     "text": [
      "----------------\n",
      "Phonemizing evaluation_data/blimp_filtered/principle_A_case_2.jsonl\n",
      "----------------\n",
      "Phonemizing evaluation_data/blimp_filtered/existential_there_quantifiers_1.jsonl\n"
     ]
    },
    {
     "name": "stderr",
     "output_type": "stream",
     "text": [
      "WARNING:phonemizer:words count mismatch on 49.0% of the lines (456/930)\n",
      "WARNING:phonemizer:words count mismatch on 49.0% of the lines (456/930)\n"
     ]
    },
    {
     "name": "stdout",
     "output_type": "stream",
     "text": [
      "----------------\n",
      "Phonemizing evaluation_data/blimp_filtered/causative.jsonl\n"
     ]
    },
    {
     "name": "stderr",
     "output_type": "stream",
     "text": [
      "WARNING:phonemizer:words count mismatch on 0.0% of the lines (1/818)\n",
      "WARNING:phonemizer:words count mismatch on 0.0% of the lines (1/818)\n"
     ]
    },
    {
     "name": "stdout",
     "output_type": "stream",
     "text": [
      "----------------\n",
      "Phonemizing evaluation_data/blimp_filtered/distractor_agreement_relative_clause.jsonl\n"
     ]
    },
    {
     "name": "stderr",
     "output_type": "stream",
     "text": [
      "WARNING:phonemizer:words count mismatch on 0.0% of the lines (3/871)\n",
      "WARNING:phonemizer:words count mismatch on 0.0% of the lines (3/871)\n"
     ]
    },
    {
     "name": "stdout",
     "output_type": "stream",
     "text": [
      "----------------\n",
      "Phonemizing evaluation_data/blimp_filtered/anaphor_number_agreement.jsonl\n",
      "----------------\n",
      "Phonemizing evaluation_data/blimp_filtered/wh_vs_that_no_gap.jsonl\n"
     ]
    },
    {
     "name": "stderr",
     "output_type": "stream",
     "text": [
      "WARNING:phonemizer:words count mismatch on 27.0% of the lines (234/861)\n",
      "WARNING:phonemizer:words count mismatch on 0.0% of the lines (4/861)\n"
     ]
    },
    {
     "name": "stdout",
     "output_type": "stream",
     "text": [
      "----------------\n",
      "Phonemizing evaluation_data/blimp_filtered/animate_subject_trans.jsonl\n"
     ]
    },
    {
     "name": "stderr",
     "output_type": "stream",
     "text": [
      "WARNING:phonemizer:words count mismatch on 0.0% of the lines (2/923)\n",
      "WARNING:phonemizer:words count mismatch on 0.0% of the lines (2/923)\n"
     ]
    },
    {
     "name": "stdout",
     "output_type": "stream",
     "text": [
      "----------------\n",
      "Phonemizing evaluation_data/blimp_filtered/superlative_quantifiers_1.jsonl\n",
      "----------------\n",
      "Phonemizing evaluation_data/blimp_filtered/determiner_noun_agreement_irregular_2.jsonl\n",
      "----------------\n",
      "Phonemizing evaluation_data/blimp_filtered/only_npi_scope.jsonl\n"
     ]
    },
    {
     "name": "stderr",
     "output_type": "stream",
     "text": [
      "WARNING:phonemizer:words count mismatch on 6.0% of the lines (48/837)\n",
      "WARNING:phonemizer:words count mismatch on 0.0% of the lines (3/837)\n"
     ]
    },
    {
     "name": "stdout",
     "output_type": "stream",
     "text": [
      "----------------\n",
      "Phonemizing evaluation_data/blimp_filtered/irregular_plural_subject_verb_agreement_1.jsonl\n"
     ]
    },
    {
     "name": "stderr",
     "output_type": "stream",
     "text": [
      "WARNING:phonemizer:words count mismatch on 0.0% of the lines (2/804)\n",
      "WARNING:phonemizer:words count mismatch on 0.0% of the lines (2/804)\n"
     ]
    },
    {
     "name": "stdout",
     "output_type": "stream",
     "text": [
      "----------------\n",
      "Phonemizing evaluation_data/blimp_filtered/sentential_negation_npi_scope.jsonl\n"
     ]
    },
    {
     "name": "stderr",
     "output_type": "stream",
     "text": [
      "WARNING:phonemizer:words count mismatch on 41.0% of the lines (354/871)\n",
      "WARNING:phonemizer:words count mismatch on 26.0% of the lines (227/871)\n"
     ]
    },
    {
     "name": "stdout",
     "output_type": "stream",
     "text": [
      "----------------\n",
      "Phonemizing evaluation_data/blimp_filtered/principle_A_reconstruction.jsonl\n"
     ]
    },
    {
     "name": "stderr",
     "output_type": "stream",
     "text": [
      "WARNING:phonemizer:words count mismatch on 6.0% of the lines (56/967)\n",
      "WARNING:phonemizer:words count mismatch on 1.0% of the lines (11/967)\n"
     ]
    },
    {
     "name": "stdout",
     "output_type": "stream",
     "text": [
      "----------------\n",
      "Phonemizing evaluation_data/blimp_filtered/left_branch_island_simple_question.jsonl\n"
     ]
    },
    {
     "name": "stderr",
     "output_type": "stream",
     "text": [
      "WARNING:phonemizer:words count mismatch on 1.0% of the lines (9/951)\n",
      "WARNING:phonemizer:words count mismatch on 1.0% of the lines (9/951)\n"
     ]
    },
    {
     "name": "stdout",
     "output_type": "stream",
     "text": [
      "----------------\n",
      "Phonemizing evaluation_data/blimp_filtered/passive_1.jsonl\n"
     ]
    },
    {
     "name": "stderr",
     "output_type": "stream",
     "text": [
      "WARNING:phonemizer:words count mismatch on 0.0% of the lines (4/840)\n",
      "WARNING:phonemizer:words count mismatch on 0.0% of the lines (4/840)\n"
     ]
    },
    {
     "name": "stdout",
     "output_type": "stream",
     "text": [
      "----------------\n",
      "Phonemizing evaluation_data/blimp_filtered/drop_argument.jsonl\n"
     ]
    },
    {
     "name": "stderr",
     "output_type": "stream",
     "text": [
      "WARNING:phonemizer:words count mismatch on 1.0% of the lines (5/920)\n",
      "WARNING:phonemizer:words count mismatch on 1.0% of the lines (5/920)\n"
     ]
    },
    {
     "name": "stdout",
     "output_type": "stream",
     "text": [
      "----------------\n",
      "Phonemizing evaluation_data/blimp_filtered/existential_there_quantifiers_2.jsonl\n"
     ]
    },
    {
     "name": "stderr",
     "output_type": "stream",
     "text": [
      "WARNING:phonemizer:words count mismatch on 1.0% of the lines (8/911)\n",
      "WARNING:phonemizer:words count mismatch on 41.0% of the lines (371/911)\n"
     ]
    },
    {
     "name": "stdout",
     "output_type": "stream",
     "text": [
      "----------------\n",
      "Phonemizing evaluation_data/blimp_filtered/determiner_noun_agreement_with_adj_2.jsonl\n"
     ]
    },
    {
     "name": "stderr",
     "output_type": "stream",
     "text": [
      "WARNING:phonemizer:words count mismatch on 4.0% of the lines (35/941)\n",
      "WARNING:phonemizer:words count mismatch on 4.0% of the lines (35/941)\n"
     ]
    },
    {
     "name": "stdout",
     "output_type": "stream",
     "text": [
      "----------------\n",
      "Phonemizing evaluation_data/blimp_filtered/wh_island.jsonl\n"
     ]
    },
    {
     "name": "stderr",
     "output_type": "stream",
     "text": [
      "WARNING:phonemizer:words count mismatch on 0.0% of the lines (3/960)\n",
      "WARNING:phonemizer:words count mismatch on 0.0% of the lines (3/960)\n"
     ]
    },
    {
     "name": "stdout",
     "output_type": "stream",
     "text": [
      "----------------\n",
      "Phonemizing evaluation_data/blimp_filtered/ellipsis_n_bar_1.jsonl\n"
     ]
    },
    {
     "name": "stderr",
     "output_type": "stream",
     "text": [
      "WARNING:phonemizer:words count mismatch on 4.0% of the lines (30/802)\n",
      "WARNING:phonemizer:words count mismatch on 4.0% of the lines (30/802)\n"
     ]
    },
    {
     "name": "stdout",
     "output_type": "stream",
     "text": [
      "----------------\n",
      "Phonemizing evaluation_data/blimp_filtered/principle_A_case_1.jsonl\n"
     ]
    },
    {
     "name": "stderr",
     "output_type": "stream",
     "text": [
      "WARNING:phonemizer:words count mismatch on 0.0% of the lines (3/912)\n",
      "WARNING:phonemizer:words count mismatch on 0.0% of the lines (3/912)\n"
     ]
    },
    {
     "name": "stdout",
     "output_type": "stream",
     "text": [
      "----------------\n",
      "Phonemizing evaluation_data/blimp_filtered/superlative_quantifiers_2.jsonl\n",
      "----------------\n",
      "Phonemizing evaluation_data/blimp_filtered/inchoative.jsonl\n"
     ]
    },
    {
     "name": "stderr",
     "output_type": "stream",
     "text": [
      "WARNING:phonemizer:words count mismatch on 0.0% of the lines (3/855)\n"
     ]
    },
    {
     "name": "stdout",
     "output_type": "stream",
     "text": [
      "----------------\n",
      "Phonemizing evaluation_data/blimp_filtered/wh_questions_subject_gap.jsonl\n"
     ]
    },
    {
     "name": "stderr",
     "output_type": "stream",
     "text": [
      "WARNING:phonemizer:words count mismatch on 0.0% of the lines (2/898)\n",
      "WARNING:phonemizer:words count mismatch on 0.0% of the lines (2/898)\n"
     ]
    },
    {
     "name": "stdout",
     "output_type": "stream",
     "text": [
      "----------------\n",
      "Phonemizing evaluation_data/blimp_filtered/adjunct_island.jsonl\n"
     ]
    },
    {
     "name": "stderr",
     "output_type": "stream",
     "text": [
      "WARNING:phonemizer:words count mismatch on 1.0% of the lines (8/928)\n",
      "WARNING:phonemizer:words count mismatch on 1.0% of the lines (8/928)\n"
     ]
    },
    {
     "name": "stdout",
     "output_type": "stream",
     "text": [
      "----------------\n",
      "Phonemizing evaluation_data/blimp_filtered/complex_NP_island.jsonl\n"
     ]
    },
    {
     "name": "stderr",
     "output_type": "stream",
     "text": [
      "WARNING:phonemizer:words count mismatch on 3.0% of the lines (23/846)\n",
      "WARNING:phonemizer:words count mismatch on 2.0% of the lines (18/846)\n"
     ]
    },
    {
     "name": "stdout",
     "output_type": "stream",
     "text": [
      "----------------\n",
      "Phonemizing evaluation_data/blimp_filtered/wh_vs_that_with_gap.jsonl\n"
     ]
    },
    {
     "name": "stderr",
     "output_type": "stream",
     "text": [
      "WARNING:phonemizer:words count mismatch on 26.0% of the lines (241/919)\n"
     ]
    },
    {
     "name": "stdout",
     "output_type": "stream",
     "text": [
      "----------------\n",
      "Phonemizing evaluation_data/blimp_filtered/irregular_plural_subject_verb_agreement_2.jsonl\n"
     ]
    },
    {
     "name": "stderr",
     "output_type": "stream",
     "text": [
      "WARNING:phonemizer:words count mismatch on 0.0% of the lines (2/892)\n",
      "WARNING:phonemizer:words count mismatch on 0.0% of the lines (2/892)\n"
     ]
    },
    {
     "name": "stdout",
     "output_type": "stream",
     "text": [
      "----------------\n",
      "Phonemizing evaluation_data/blimp_filtered/determiner_noun_agreement_irregular_1.jsonl\n"
     ]
    },
    {
     "name": "stderr",
     "output_type": "stream",
     "text": [
      "WARNING:phonemizer:words count mismatch on 0.0% of the lines (2/681)\n",
      "WARNING:phonemizer:words count mismatch on 0.0% of the lines (2/681)\n"
     ]
    },
    {
     "name": "stdout",
     "output_type": "stream",
     "text": [
      "----------------\n",
      "Phonemizing evaluation_data/blimp_filtered/expletive_it_object_raising.jsonl\n"
     ]
    },
    {
     "name": "stderr",
     "output_type": "stream",
     "text": [
      "WARNING:phonemizer:words count mismatch on 100.0% of the lines (759/759)\n",
      "WARNING:phonemizer:words count mismatch on 100.0% of the lines (759/759)\n"
     ]
    },
    {
     "name": "stdout",
     "output_type": "stream",
     "text": [
      "----------------\n",
      "Phonemizing evaluation_data/blimp_filtered/wh_questions_subject_gap_long_distance.jsonl\n"
     ]
    },
    {
     "name": "stderr",
     "output_type": "stream",
     "text": [
      "WARNING:phonemizer:words count mismatch on 10.0% of the lines (85/857)\n",
      "WARNING:phonemizer:words count mismatch on 10.0% of the lines (85/857)\n"
     ]
    },
    {
     "name": "stdout",
     "output_type": "stream",
     "text": [
      "----------------\n",
      "Phonemizing evaluation_data/blimp_filtered/coordinate_structure_constraint_complex_left_branch.jsonl\n"
     ]
    },
    {
     "name": "stderr",
     "output_type": "stream",
     "text": [
      "WARNING:phonemizer:words count mismatch on 1.0% of the lines (10/906)\n",
      "WARNING:phonemizer:words count mismatch on 1.0% of the lines (10/906)\n"
     ]
    },
    {
     "name": "stdout",
     "output_type": "stream",
     "text": [
      "----------------\n",
      "Phonemizing evaluation_data/blimp_filtered/only_npi_licensor_present.jsonl\n"
     ]
    },
    {
     "name": "stderr",
     "output_type": "stream",
     "text": [
      "WARNING:phonemizer:words count mismatch on 0.0% of the lines (1/882)\n",
      "WARNING:phonemizer:words count mismatch on 0.0% of the lines (1/882)\n"
     ]
    },
    {
     "name": "stdout",
     "output_type": "stream",
     "text": [
      "----------------\n",
      "Phonemizing evaluation_data/blimp_filtered/determiner_noun_agreement_with_adjective_1.jsonl\n"
     ]
    },
    {
     "name": "stderr",
     "output_type": "stream",
     "text": [
      "WARNING:phonemizer:words count mismatch on 2.0% of the lines (22/933)\n",
      "WARNING:phonemizer:words count mismatch on 2.0% of the lines (22/933)\n"
     ]
    },
    {
     "name": "stdout",
     "output_type": "stream",
     "text": [
      "----------------\n",
      "Phonemizing evaluation_data/blimp_filtered/passive_2.jsonl\n"
     ]
    },
    {
     "name": "stderr",
     "output_type": "stream",
     "text": [
      "WARNING:phonemizer:words count mismatch on 0.0% of the lines (4/903)\n",
      "WARNING:phonemizer:words count mismatch on 0.0% of the lines (4/903)\n"
     ]
    },
    {
     "name": "stdout",
     "output_type": "stream",
     "text": [
      "----------------\n",
      "Phonemizing evaluation_data/blimp_filtered/regular_plural_subject_verb_agreement_1.jsonl\n"
     ]
    },
    {
     "name": "stderr",
     "output_type": "stream",
     "text": [
      "WARNING:phonemizer:words count mismatch on 0.0% of the lines (1/890)\n",
      "WARNING:phonemizer:words count mismatch on 0.0% of the lines (1/890)\n"
     ]
    },
    {
     "name": "stdout",
     "output_type": "stream",
     "text": [
      "----------------\n",
      "Phonemizing evaluation_data/blimp_filtered/determiner_noun_agreement_with_adj_irregular_2.jsonl\n"
     ]
    },
    {
     "name": "stderr",
     "output_type": "stream",
     "text": [
      "WARNING:phonemizer:words count mismatch on 2.0% of the lines (13/840)\n",
      "WARNING:phonemizer:words count mismatch on 2.0% of the lines (13/840)\n"
     ]
    },
    {
     "name": "stdout",
     "output_type": "stream",
     "text": [
      "----------------\n",
      "Phonemizing evaluation_data/blimp_filtered/animate_subject_passive.jsonl\n",
      "----------------\n",
      "Phonemizing evaluation_data/blimp_filtered/npi_present_1.jsonl\n"
     ]
    },
    {
     "name": "stderr",
     "output_type": "stream",
     "text": [
      "WARNING:phonemizer:words count mismatch on 0.0% of the lines (3/909)\n",
      "WARNING:phonemizer:words count mismatch on 0.0% of the lines (3/909)\n"
     ]
    },
    {
     "name": "stdout",
     "output_type": "stream",
     "text": [
      "----------------\n",
      "Phonemizing evaluation_data/blimp_filtered/irregular_past_participle_adjectives.jsonl\n"
     ]
    },
    {
     "name": "stderr",
     "output_type": "stream",
     "text": [
      "WARNING:phonemizer:words count mismatch on 3.0% of the lines (25/961)\n",
      "WARNING:phonemizer:words count mismatch on 3.0% of the lines (25/961)\n"
     ]
    },
    {
     "name": "stdout",
     "output_type": "stream",
     "text": [
      "----------------\n",
      "Phonemizing evaluation_data/blimp_filtered/tough_vs_raising_1.jsonl\n"
     ]
    },
    {
     "name": "stderr",
     "output_type": "stream",
     "text": [
      "WARNING:phonemizer:words count mismatch on 0.0% of the lines (4/948)\n",
      "WARNING:phonemizer:words count mismatch on 0.0% of the lines (4/948)\n"
     ]
    },
    {
     "name": "stdout",
     "output_type": "stream",
     "text": [
      "----------------\n",
      "Phonemizing evaluation_data/blimp_filtered/sentential_negation_npi_licensor_present.jsonl\n"
     ]
    },
    {
     "name": "stderr",
     "output_type": "stream",
     "text": [
      "WARNING:phonemizer:words count mismatch on 37.0% of the lines (336/919)\n",
      "WARNING:phonemizer:words count mismatch on 0.0% of the lines (2/919)\n"
     ]
    },
    {
     "name": "stdout",
     "output_type": "stream",
     "text": [
      "----------------\n",
      "Phonemizing evaluation_data/blimp_filtered/existential_there_object_raising.jsonl\n"
     ]
    },
    {
     "name": "stderr",
     "output_type": "stream",
     "text": [
      "WARNING:phonemizer:words count mismatch on 100.0% of the lines (812/812)\n",
      "WARNING:phonemizer:words count mismatch on 100.0% of the lines (812/812)\n"
     ]
    },
    {
     "name": "stdout",
     "output_type": "stream",
     "text": [
      "----------------\n",
      "Phonemizing evaluation_data/blimp_filtered/wh_vs_that_with_gap_long_distance.jsonl\n"
     ]
    },
    {
     "name": "stderr",
     "output_type": "stream",
     "text": [
      "WARNING:phonemizer:words count mismatch on 0.0% of the lines (1/910)\n",
      "WARNING:phonemizer:words count mismatch on 26.0% of the lines (241/910)\n"
     ]
    },
    {
     "name": "stdout",
     "output_type": "stream",
     "text": [
      "----------------\n",
      "Phonemizing evaluation_data/blimp_filtered/sentential_subject_island.jsonl\n"
     ]
    },
    {
     "name": "stderr",
     "output_type": "stream",
     "text": [
      "WARNING:phonemizer:words count mismatch on 2.0% of the lines (21/961)\n",
      "WARNING:phonemizer:words count mismatch on 2.0% of the lines (15/961)\n"
     ]
    },
    {
     "name": "stdout",
     "output_type": "stream",
     "text": [
      "----------------\n",
      "Phonemizing evaluation_data/blimp_filtered/intransitive.jsonl\n"
     ]
    },
    {
     "name": "stderr",
     "output_type": "stream",
     "text": [
      "WARNING:phonemizer:words count mismatch on 0.0% of the lines (1/868)\n",
      "WARNING:phonemizer:words count mismatch on 0.0% of the lines (1/868)\n"
     ]
    },
    {
     "name": "stdout",
     "output_type": "stream",
     "text": [
      "----------------\n",
      "Phonemizing evaluation_data/blimp_filtered/principle_A_domain_3.jsonl\n",
      "----------------\n",
      "Phonemizing evaluation_data/blimp_filtered/principle_A_domain_1.jsonl\n"
     ]
    },
    {
     "name": "stderr",
     "output_type": "stream",
     "text": [
      "WARNING:phonemizer:words count mismatch on 7.000000000000001% of the lines (66/914)\n",
      "WARNING:phonemizer:words count mismatch on 7.000000000000001% of the lines (66/914)\n"
     ]
    },
    {
     "name": "stdout",
     "output_type": "stream",
     "text": [
      "----------------\n",
      "Phonemizing evaluation_data/blimp_filtered/determiner_noun_agreement_1.jsonl\n",
      "----------------\n",
      "Phonemizing evaluation_data/blimp_filtered/left_branch_island_echo_question.jsonl\n"
     ]
    },
    {
     "name": "stderr",
     "output_type": "stream",
     "text": [
      "WARNING:phonemizer:words count mismatch on 0.0% of the lines (1/947)\n",
      "WARNING:phonemizer:words count mismatch on 1.0% of the lines (10/947)\n"
     ]
    },
    {
     "name": "stdout",
     "output_type": "stream",
     "text": [
      "----------------\n",
      "Phonemizing evaluation_data/blimp_filtered/anaphor_gender_agreement.jsonl\n",
      "----------------\n",
      "Phonemizing evaluation_data/blimp_filtered/irregular_past_participle_verbs.jsonl\n",
      "----------------\n",
      "Phonemizing evaluation_data/blimp_filtered/tough_vs_raising_2.jsonl\n"
     ]
    },
    {
     "name": "stderr",
     "output_type": "stream",
     "text": [
      "WARNING:phonemizer:words count mismatch on 0.0% of the lines (4/920)\n",
      "WARNING:phonemizer:words count mismatch on 0.0% of the lines (4/920)\n"
     ]
    },
    {
     "name": "stdout",
     "output_type": "stream",
     "text": [
      "----------------\n",
      "Phonemizing evaluation_data/blimp_filtered/matrix_question_npi_licensor_present.jsonl\n"
     ]
    },
    {
     "name": "stderr",
     "output_type": "stream",
     "text": [
      "WARNING:phonemizer:words count mismatch on 0.0% of the lines (1/929)\n",
      "WARNING:phonemizer:words count mismatch on 0.0% of the lines (1/929)\n"
     ]
    },
    {
     "name": "stdout",
     "output_type": "stream",
     "text": [
      "----------------\n",
      "Phonemizing evaluation_data/blimp_filtered/npi_present_2.jsonl\n"
     ]
    },
    {
     "name": "stderr",
     "output_type": "stream",
     "text": [
      "WARNING:phonemizer:words count mismatch on 0.0% of the lines (1/914)\n",
      "WARNING:phonemizer:words count mismatch on 0.0% of the lines (1/914)\n"
     ]
    },
    {
     "name": "stdout",
     "output_type": "stream",
     "text": [
      "----------------\n",
      "Phonemizing evaluation_data/blimp_filtered/determiner_noun_agreement_with_adj_irregular_1.jsonl\n"
     ]
    },
    {
     "name": "stderr",
     "output_type": "stream",
     "text": [
      "WARNING:phonemizer:words count mismatch on 3.0% of the lines (19/718)\n",
      "WARNING:phonemizer:words count mismatch on 3.0% of the lines (19/718)\n"
     ]
    },
    {
     "name": "stdout",
     "output_type": "stream",
     "text": [
      "----------------\n",
      "Phonemizing evaluation_data/blimp_filtered/regular_plural_subject_verb_agreement_2.jsonl\n",
      "----------------\n",
      "Phonemizing evaluation_data/blimp_filtered/wh_vs_that_no_gap_long_distance.jsonl\n"
     ]
    },
    {
     "name": "stderr",
     "output_type": "stream",
     "text": [
      "WARNING:phonemizer:words count mismatch on 26.0% of the lines (227/875)\n",
      "WARNING:phonemizer:words count mismatch on 0.0% of the lines (4/875)\n"
     ]
    },
    {
     "name": "stdout",
     "output_type": "stream",
     "text": [
      "----------------\n",
      "Phonemizing evaluation_data/blimp_filtered/existential_there_subject_raising.jsonl\n"
     ]
    },
    {
     "name": "stderr",
     "output_type": "stream",
     "text": [
      "WARNING:phonemizer:words count mismatch on 100.0% of the lines (924/924)\n",
      "WARNING:phonemizer:words count mismatch on 100.0% of the lines (924/924)\n"
     ]
    },
    {
     "name": "stdout",
     "output_type": "stream",
     "text": [
      "----------------\n",
      "Phonemizing evaluation_data/blimp_filtered/transitive.jsonl\n"
     ]
    },
    {
     "name": "stderr",
     "output_type": "stream",
     "text": [
      "WARNING:phonemizer:words count mismatch on 1.0% of the lines (6/868)\n",
      "WARNING:phonemizer:words count mismatch on 0.0% of the lines (3/868)\n"
     ]
    },
    {
     "name": "stdout",
     "output_type": "stream",
     "text": [
      "----------------\n",
      "Phonemizing evaluation_data/blimp_filtered/distractor_agreement_relational_noun.jsonl\n"
     ]
    },
    {
     "name": "stderr",
     "output_type": "stream",
     "text": [
      "WARNING:phonemizer:words count mismatch on 9.0% of the lines (69/788)\n",
      "WARNING:phonemizer:words count mismatch on 9.0% of the lines (69/788)\n"
     ]
    },
    {
     "name": "stdout",
     "output_type": "stream",
     "text": [
      "----------------\n",
      "Phonemizing evaluation_data/blimp_filtered/principle_A_c_command.jsonl\n"
     ]
    },
    {
     "name": "stderr",
     "output_type": "stream",
     "text": [
      "WARNING:phonemizer:words count mismatch on 0.0% of the lines (1/946)\n",
      "WARNING:phonemizer:words count mismatch on 0.0% of the lines (1/946)\n"
     ]
    },
    {
     "name": "stdout",
     "output_type": "stream",
     "text": [
      "----------------\n",
      "Phonemizing evaluation_data/blimp_filtered/wh_questions_object_gap.jsonl\n"
     ]
    },
    {
     "name": "stderr",
     "output_type": "stream",
     "text": [
      "WARNING:phonemizer:words count mismatch on 8.0% of the lines (70/859)\n",
      "WARNING:phonemizer:words count mismatch on 0.0% of the lines (4/859)\n"
     ]
    },
    {
     "name": "stdout",
     "output_type": "stream",
     "text": [
      "----------------\n",
      "Phonemizing evaluation_data/blimp_filtered/coordinate_structure_constraint_object_extraction.jsonl\n"
     ]
    },
    {
     "name": "stderr",
     "output_type": "stream",
     "text": [
      "WARNING:phonemizer:words count mismatch on 1.0% of the lines (5/949)\n"
     ]
    },
    {
     "name": "stdout",
     "output_type": "stream",
     "text": [
      "----------------\n",
      "Phonemizing evaluation_data/blimp_filtered/principle_A_domain_2.jsonl\n",
      "----------------\n",
      "Phonemizing evaluation_data/blimp_filtered/determiner_noun_agreement_2.jsonl\n"
     ]
    },
    {
     "name": "stderr",
     "output_type": "stream",
     "text": [
      "WARNING:phonemizer:words count mismatch on 0.0% of the lines (1/931)\n",
      "WARNING:phonemizer:words count mismatch on 0.0% of the lines (1/931)\n"
     ]
    },
    {
     "name": "stdout",
     "output_type": "stream",
     "text": [
      "Done phonemizing\n",
      "\n",
      "----------\n",
      "----------\n",
      "Phonemizing glue_filtered\n",
      "----------\n",
      "----------\n",
      "\n",
      "----------------\n",
      "Phonemizing evaluation_data/glue_filtered/multirc.train.jsonl\n"
     ]
    },
    {
     "name": "stderr",
     "output_type": "stream",
     "text": [
      "WARNING:phonemizer:words count mismatch on 31.0% of the lines (8451/27243)\n",
      "WARNING:phonemizer:words count mismatch on 96.0% of the lines (26096/27243)\n",
      "WARNING:phonemizer:words count mismatch on 15.0% of the lines (4003/27240)\n"
     ]
    },
    {
     "name": "stdout",
     "output_type": "stream",
     "text": [
      "Failed to phonemize 3 sentences (0.01%) out of 27243 total sentences\n",
      "----------------\n",
      "Phonemizing evaluation_data/glue_filtered/sst2.valid.jsonl\n"
     ]
    },
    {
     "name": "stderr",
     "output_type": "stream",
     "text": [
      "WARNING:phonemizer:words count mismatch on 43.0% of the lines (187/436)\n"
     ]
    },
    {
     "name": "stdout",
     "output_type": "stream",
     "text": [
      "----------------\n",
      "Phonemizing evaluation_data/glue_filtered/rte.valid.jsonl\n"
     ]
    },
    {
     "name": "stderr",
     "output_type": "stream",
     "text": [
      "WARNING:phonemizer:words count mismatch on 74.0% of the lines (103/139)\n",
      "WARNING:phonemizer:words count mismatch on 28.000000000000004% of the lines (39/139)\n"
     ]
    },
    {
     "name": "stdout",
     "output_type": "stream",
     "text": [
      "----------------\n",
      "Phonemizing evaluation_data/glue_filtered/cola.valid.jsonl\n"
     ]
    },
    {
     "name": "stderr",
     "output_type": "stream",
     "text": [
      "WARNING:phonemizer:words count mismatch on 17.0% of the lines (90/522)\n"
     ]
    },
    {
     "name": "stdout",
     "output_type": "stream",
     "text": [
      "----------------\n",
      "Phonemizing evaluation_data/glue_filtered/boolq.train.jsonl\n"
     ]
    },
    {
     "name": "stderr",
     "output_type": "stream",
     "text": [
      "WARNING:phonemizer:words count mismatch on 30.0% of the lines (2812/9427)\n",
      "WARNING:phonemizer:removed 9 utterances containing language switches (applying \"remove-utterance\" policy)\n",
      "WARNING:phonemizer:words count mismatch on 93.0% of the lines (8790/9427)\n"
     ]
    },
    {
     "name": "stdout",
     "output_type": "stream",
     "text": [
      "----------------\n",
      "Phonemizing evaluation_data/glue_filtered/mnli.valid.jsonl\n"
     ]
    },
    {
     "name": "stderr",
     "output_type": "stream",
     "text": [
      "WARNING:phonemizer:words count mismatch on 43.0% of the lines (2111/4908)\n",
      "WARNING:phonemizer:words count mismatch on 30.0% of the lines (1473/4908)\n"
     ]
    },
    {
     "name": "stdout",
     "output_type": "stream",
     "text": [
      "----------------\n",
      "Phonemizing evaluation_data/glue_filtered/mrpc.train.jsonl\n"
     ]
    },
    {
     "name": "stderr",
     "output_type": "stream",
     "text": [
      "WARNING:phonemizer:words count mismatch on 59.0% of the lines (2169/3668)\n",
      "WARNING:phonemizer:words count mismatch on 59.0% of the lines (2157/3668)\n"
     ]
    },
    {
     "name": "stdout",
     "output_type": "stream",
     "text": [
      "----------------\n",
      "Phonemizing evaluation_data/glue_filtered/qqp.train.jsonl\n"
     ]
    },
    {
     "name": "stderr",
     "output_type": "stream",
     "text": [
      "WARNING:phonemizer:removed 63 utterances containing language switches (applying \"remove-utterance\" policy)\n",
      "WARNING:phonemizer:words count mismatch on 24.0% of the lines (89127/363846)\n",
      "WARNING:phonemizer:removed 49 utterances containing language switches (applying \"remove-utterance\" policy)\n",
      "WARNING:phonemizer:words count mismatch on 25.0% of the lines (91204/363846)\n"
     ]
    },
    {
     "name": "stdout",
     "output_type": "stream",
     "text": [
      "----------------\n",
      "Phonemizing evaluation_data/glue_filtered/qnli.train.jsonl\n"
     ]
    },
    {
     "name": "stderr",
     "output_type": "stream",
     "text": [
      "WARNING:phonemizer:removed 22 utterances containing language switches (applying \"remove-utterance\" policy)\n",
      "WARNING:phonemizer:words count mismatch on 69.0% of the lines (72459/104743)\n",
      "WARNING:phonemizer:removed 2 utterances containing language switches (applying \"remove-utterance\" policy)\n",
      "WARNING:phonemizer:words count mismatch on 36.0% of the lines (37572/104743)\n"
     ]
    },
    {
     "name": "stdout",
     "output_type": "stream",
     "text": [
      "----------------\n",
      "Phonemizing evaluation_data/glue_filtered/wsc.train.jsonl\n"
     ]
    },
    {
     "name": "stderr",
     "output_type": "stream",
     "text": [
      "WARNING:phonemizer:words count mismatch on 49.0% of the lines (269/554)\n",
      "WARNING:phonemizer:words count mismatch on 0.0% of the lines (2/554)\n"
     ]
    },
    {
     "name": "stdout",
     "output_type": "stream",
     "text": [
      "----------------\n",
      "Phonemizing evaluation_data/glue_filtered/boolq.valid.jsonl\n"
     ]
    },
    {
     "name": "stderr",
     "output_type": "stream",
     "text": [
      "WARNING:phonemizer:words count mismatch on 28.000000000000004% of the lines (458/1635)\n",
      "WARNING:phonemizer:removed 1 utterances containing language switches (applying \"remove-utterance\" policy)\n",
      "WARNING:phonemizer:words count mismatch on 94.0% of the lines (1534/1635)\n"
     ]
    },
    {
     "name": "stdout",
     "output_type": "stream",
     "text": [
      "----------------\n",
      "Phonemizing evaluation_data/glue_filtered/mnli.train.jsonl\n"
     ]
    },
    {
     "name": "stderr",
     "output_type": "stream",
     "text": [
      "WARNING:phonemizer:words count mismatch on 44.0% of the lines (174369/392702)\n",
      "WARNING:phonemizer:words count mismatch on 31.0% of the lines (120806/392702)\n"
     ]
    },
    {
     "name": "stdout",
     "output_type": "stream",
     "text": [
      "----------------\n",
      "Phonemizing evaluation_data/glue_filtered/mnli-mm.valid.jsonl\n"
     ]
    },
    {
     "name": "stderr",
     "output_type": "stream",
     "text": [
      "WARNING:phonemizer:words count mismatch on 45.0% of the lines (2233/4916)\n",
      "WARNING:phonemizer:words count mismatch on 32.0% of the lines (1549/4916)\n"
     ]
    },
    {
     "name": "stdout",
     "output_type": "stream",
     "text": [
      "----------------\n",
      "Phonemizing evaluation_data/glue_filtered/mrpc.valid.jsonl\n"
     ]
    },
    {
     "name": "stderr",
     "output_type": "stream",
     "text": [
      "WARNING:phonemizer:words count mismatch on 54.0% of the lines (110/204)\n",
      "WARNING:phonemizer:words count mismatch on 55.00000000000001% of the lines (113/204)\n"
     ]
    },
    {
     "name": "stdout",
     "output_type": "stream",
     "text": [
      "----------------\n",
      "Phonemizing evaluation_data/glue_filtered/qqp.valid.jsonl\n"
     ]
    },
    {
     "name": "stderr",
     "output_type": "stream",
     "text": [
      "WARNING:phonemizer:removed 3 utterances containing language switches (applying \"remove-utterance\" policy)\n",
      "WARNING:phonemizer:words count mismatch on 24.0% of the lines (4926/20215)\n",
      "WARNING:phonemizer:removed 3 utterances containing language switches (applying \"remove-utterance\" policy)\n",
      "WARNING:phonemizer:words count mismatch on 25.0% of the lines (4983/20215)\n"
     ]
    },
    {
     "name": "stdout",
     "output_type": "stream",
     "text": [
      "----------------\n",
      "Phonemizing evaluation_data/glue_filtered/qnli.valid.jsonl\n"
     ]
    },
    {
     "name": "stderr",
     "output_type": "stream",
     "text": [
      "WARNING:phonemizer:words count mismatch on 71.0% of the lines (1941/2732)\n",
      "WARNING:phonemizer:words count mismatch on 38.0% of the lines (1047/2732)\n"
     ]
    },
    {
     "name": "stdout",
     "output_type": "stream",
     "text": [
      "----------------\n",
      "Phonemizing evaluation_data/glue_filtered/wsc.valid.jsonl\n"
     ]
    },
    {
     "name": "stderr",
     "output_type": "stream",
     "text": [
      "WARNING:phonemizer:words count mismatch on 57.99999999999999% of the lines (30/52)\n"
     ]
    },
    {
     "name": "stdout",
     "output_type": "stream",
     "text": [
      "----------------\n",
      "Phonemizing evaluation_data/glue_filtered/multirc.valid.jsonl\n"
     ]
    },
    {
     "name": "stderr",
     "output_type": "stream",
     "text": [
      "WARNING:phonemizer:words count mismatch on 28.999999999999996% of the lines (693/2424)\n",
      "WARNING:phonemizer:words count mismatch on 94.0% of the lines (2287/2424)\n",
      "WARNING:phonemizer:words count mismatch on 16.0% of the lines (395/2424)\n"
     ]
    },
    {
     "name": "stdout",
     "output_type": "stream",
     "text": [
      "----------------\n",
      "Phonemizing evaluation_data/glue_filtered/sst2.train.jsonl\n"
     ]
    },
    {
     "name": "stderr",
     "output_type": "stream",
     "text": [
      "WARNING:phonemizer:words count mismatch on 23.0% of the lines (15711/67349)\n"
     ]
    },
    {
     "name": "stdout",
     "output_type": "stream",
     "text": [
      "----------------\n",
      "Phonemizing evaluation_data/glue_filtered/mnli.subs.jsonl\n"
     ]
    },
    {
     "name": "stderr",
     "output_type": "stream",
     "text": [
      "WARNING:phonemizer:words count mismatch on 41.0% of the lines (82/200)\n",
      "WARNING:phonemizer:words count mismatch on 30.0% of the lines (61/200)\n"
     ]
    },
    {
     "name": "stdout",
     "output_type": "stream",
     "text": [
      "----------------\n",
      "Phonemizing evaluation_data/glue_filtered/rte.train.jsonl\n"
     ]
    },
    {
     "name": "stderr",
     "output_type": "stream",
     "text": [
      "WARNING:phonemizer:words count mismatch on 71.0% of the lines (1761/2490)\n",
      "WARNING:phonemizer:words count mismatch on 31.0% of the lines (762/2490)\n"
     ]
    },
    {
     "name": "stdout",
     "output_type": "stream",
     "text": [
      "----------------\n",
      "Phonemizing evaluation_data/glue_filtered/cola.train.jsonl\n"
     ]
    },
    {
     "name": "stderr",
     "output_type": "stream",
     "text": [
      "WARNING:phonemizer:words count mismatch on 20.0% of the lines (1680/8551)\n"
     ]
    },
    {
     "name": "stdout",
     "output_type": "stream",
     "text": [
      "Done phonemizing\n",
      "\n",
      "----------\n",
      "----------\n",
      "Phonemizing supplement_filtered\n",
      "----------\n",
      "----------\n",
      "\n",
      "----------------\n",
      "Phonemizing evaluation_data/supplement_filtered/qa_congruence_easy.jsonl\n"
     ]
    },
    {
     "name": "stderr",
     "output_type": "stream",
     "text": [
      "WARNING:phonemizer:words count mismatch on 3.0% of the lines (2/64)\n"
     ]
    },
    {
     "name": "stdout",
     "output_type": "stream",
     "text": [
      "----------------\n",
      "Phonemizing evaluation_data/supplement_filtered/turn_taking.jsonl\n",
      "----------------\n",
      "Phonemizing evaluation_data/supplement_filtered/subject_aux_inversion.jsonl\n"
     ]
    },
    {
     "name": "stderr",
     "output_type": "stream",
     "text": [
      "WARNING:phonemizer:words count mismatch on 45.0% of the lines (1742/3867)\n",
      "WARNING:phonemizer:words count mismatch on 31.0% of the lines (1213/3867)\n"
     ]
    },
    {
     "name": "stdout",
     "output_type": "stream",
     "text": [
      "----------------\n",
      "Phonemizing evaluation_data/supplement_filtered/qa_congruence_tricky.jsonl\n"
     ]
    },
    {
     "name": "stderr",
     "output_type": "stream",
     "text": [
      "WARNING:phonemizer:words count mismatch on 13.0% of the lines (21/165)\n"
     ]
    },
    {
     "name": "stdout",
     "output_type": "stream",
     "text": [
      "----------------\n",
      "Phonemizing evaluation_data/supplement_filtered/hypernym.jsonl\n"
     ]
    },
    {
     "name": "stderr",
     "output_type": "stream",
     "text": [
      "WARNING:phonemizer:words count mismatch on 9.0% of the lines (73/842)\n",
      "WARNING:phonemizer:words count mismatch on 9.0% of the lines (72/842)\n"
     ]
    },
    {
     "name": "stdout",
     "output_type": "stream",
     "text": [
      "Done phonemizing\n",
      "\n",
      "----------\n",
      "----------\n",
      "Phonemizing ewok_filtered\n",
      "----------\n",
      "----------\n",
      "\n",
      "----------------\n",
      "Phonemizing evaluation_data/ewok_filtered/social-relations.jsonl\n"
     ]
    },
    {
     "name": "stderr",
     "output_type": "stream",
     "text": [
      "WARNING:phonemizer:words count mismatch on 4.0% of the lines (60/1548)\n",
      "WARNING:phonemizer:words count mismatch on 4.0% of the lines (60/1548)\n"
     ]
    },
    {
     "name": "stdout",
     "output_type": "stream",
     "text": [
      "----------------\n",
      "Phonemizing evaluation_data/ewok_filtered/physical-relations.jsonl\n"
     ]
    },
    {
     "name": "stderr",
     "output_type": "stream",
     "text": [
      "WARNING:phonemizer:words count mismatch on 7.000000000000001% of the lines (60/818)\n",
      "WARNING:phonemizer:words count mismatch on 7.000000000000001% of the lines (60/818)\n",
      "WARNING:phonemizer:words count mismatch on 11.0% of the lines (90/818)\n",
      "WARNING:phonemizer:words count mismatch on 11.0% of the lines (90/818)\n"
     ]
    },
    {
     "name": "stdout",
     "output_type": "stream",
     "text": [
      "----------------\n",
      "Phonemizing evaluation_data/ewok_filtered/agent-properties.jsonl\n"
     ]
    },
    {
     "name": "stderr",
     "output_type": "stream",
     "text": [
      "WARNING:phonemizer:words count mismatch on 12.0% of the lines (265/2210)\n",
      "WARNING:phonemizer:words count mismatch on 12.0% of the lines (265/2210)\n",
      "WARNING:phonemizer:words count mismatch on 14.000000000000002% of the lines (305/2210)\n",
      "WARNING:phonemizer:words count mismatch on 14.000000000000002% of the lines (305/2210)\n"
     ]
    },
    {
     "name": "stdout",
     "output_type": "stream",
     "text": [
      "----------------\n",
      "Phonemizing evaluation_data/ewok_filtered/physical-interactions.jsonl\n"
     ]
    },
    {
     "name": "stderr",
     "output_type": "stream",
     "text": [
      "WARNING:phonemizer:words count mismatch on 33.0% of the lines (182/556)\n",
      "WARNING:phonemizer:words count mismatch on 33.0% of the lines (182/556)\n",
      "WARNING:phonemizer:words count mismatch on 18.0% of the lines (100/556)\n",
      "WARNING:phonemizer:words count mismatch on 18.0% of the lines (100/556)\n"
     ]
    },
    {
     "name": "stdout",
     "output_type": "stream",
     "text": [
      "----------------\n",
      "Phonemizing evaluation_data/ewok_filtered/material-dynamics.jsonl\n",
      "----------------\n",
      "Phonemizing evaluation_data/ewok_filtered/material-properties.jsonl\n"
     ]
    },
    {
     "name": "stderr",
     "output_type": "stream",
     "text": [
      "WARNING:phonemizer:words count mismatch on 12.0% of the lines (20/170)\n",
      "WARNING:phonemizer:words count mismatch on 12.0% of the lines (20/170)\n",
      "WARNING:phonemizer:words count mismatch on 28.000000000000004% of the lines (48/170)\n",
      "WARNING:phonemizer:words count mismatch on 28.000000000000004% of the lines (48/170)\n"
     ]
    },
    {
     "name": "stdout",
     "output_type": "stream",
     "text": [
      "----------------\n",
      "Phonemizing evaluation_data/ewok_filtered/social-properties.jsonl\n"
     ]
    },
    {
     "name": "stderr",
     "output_type": "stream",
     "text": [
      "WARNING:phonemizer:words count mismatch on 12.0% of the lines (40/328)\n",
      "WARNING:phonemizer:words count mismatch on 12.0% of the lines (40/328)\n"
     ]
    },
    {
     "name": "stdout",
     "output_type": "stream",
     "text": [
      "----------------\n",
      "Phonemizing evaluation_data/ewok_filtered/social-interactions.jsonl\n"
     ]
    },
    {
     "name": "stderr",
     "output_type": "stream",
     "text": [
      "WARNING:phonemizer:words count mismatch on 3.0% of the lines (10/294)\n",
      "WARNING:phonemizer:words count mismatch on 3.0% of the lines (10/294)\n"
     ]
    },
    {
     "name": "stdout",
     "output_type": "stream",
     "text": [
      "----------------\n",
      "Phonemizing evaluation_data/ewok_filtered/quantitative-properties.jsonl\n"
     ]
    },
    {
     "name": "stderr",
     "output_type": "stream",
     "text": [
      "WARNING:phonemizer:words count mismatch on 39.0% of the lines (123/314)\n",
      "WARNING:phonemizer:words count mismatch on 39.0% of the lines (123/314)\n",
      "WARNING:phonemizer:words count mismatch on 43.0% of the lines (134/314)\n",
      "WARNING:phonemizer:words count mismatch on 43.0% of the lines (134/314)\n"
     ]
    },
    {
     "name": "stdout",
     "output_type": "stream",
     "text": [
      "----------------\n",
      "Phonemizing evaluation_data/ewok_filtered/spatial-relations.jsonl\n"
     ]
    },
    {
     "name": "stderr",
     "output_type": "stream",
     "text": [
      "WARNING:phonemizer:words count mismatch on 56.00000000000001% of the lines (275/490)\n",
      "WARNING:phonemizer:words count mismatch on 56.00000000000001% of the lines (275/490)\n",
      "WARNING:phonemizer:words count mismatch on 14.000000000000002% of the lines (70/490)\n",
      "WARNING:phonemizer:words count mismatch on 14.000000000000002% of the lines (70/490)\n"
     ]
    },
    {
     "name": "stdout",
     "output_type": "stream",
     "text": [
      "----------------\n",
      "Phonemizing evaluation_data/ewok_filtered/physical-dynamics.jsonl\n"
     ]
    },
    {
     "name": "stderr",
     "output_type": "stream",
     "text": [
      "WARNING:phonemizer:words count mismatch on 28.999999999999996% of the lines (35/120)\n",
      "WARNING:phonemizer:words count mismatch on 28.999999999999996% of the lines (35/120)\n"
     ]
    },
    {
     "name": "stdout",
     "output_type": "stream",
     "text": [
      "Done phonemizing\n"
     ]
    }
   ],
   "source": [
    "for folder in folders:\n",
    "\n",
    "    print(f\"\\n----------\\n----------\\nPhonemizing {folder}\\n----------\\n----------\\n\")\n",
    "\n",
    "    files = []\n",
    "    for root, _, filenames in os.walk(f'{INPUT_DIR}/{folder}'):\n",
    "        for filename in filenames:\n",
    "            if filename.endswith('.jsonl'):\n",
    "                files.append(os.path.join(root, filename))\n",
    "\n",
    "    for file in files:\n",
    "        print(f\"----------------\\nPhonemizing {file}\")\n",
    "\n",
    "        with open(file, 'r') as f:\n",
    "            data = f.readlines()\n",
    "            data = [json.loads(line) for line in data]\n",
    "\n",
    "        data_keys = []\n",
    "        for line in data:\n",
    "            data_keys += line.keys()\n",
    "        data_keys = list(set(data_keys))\n",
    "\n",
    "        for key in keys:\n",
    "            if key in data_keys:\n",
    "                sentences = [line[key] for line in data]\n",
    "                phonemized = phonemize_utterances(sentences, backend='phonemizer', language='en-us', keep_word_boundaries=True, allow_possibly_faulty_word_boundaries=True)\n",
    "                if len(phonemized) != len(sentences):\n",
    "                    print(f\"Failed to phonemize {len(sentences) - len(phonemized)} sentences ({(len(sentences) - len(phonemized)) / len(sentences) * 100:.2f}%) out of {len(sentences)} total sentences\")\n",
    "                    continue\n",
    "                i = 0\n",
    "                for line in data:\n",
    "                    if key in line:\n",
    "                        line[key] = phonemized[i]\n",
    "                        i += 1\n",
    "\n",
    "        # Save the phonemized data\n",
    "        filename = file.split('/')[-1]\n",
    "        os.makedirs(f'{OUTPUT_DIR}/{folder}', exist_ok=True)\n",
    "        with open(f'{OUTPUT_DIR}/{folder}/{filename}', 'w', encoding='utf-8') as f:\n",
    "            for line in data:\n",
    "                f.write(json.dumps(line, ensure_ascii=False) + '\\n')\n",
    "        \n",
    "    print(\"Done phonemizing\")"
   ]
  },
  {
   "cell_type": "code",
   "execution_count": 10,
   "metadata": {},
   "outputs": [
    {
     "name": "stderr",
     "output_type": "stream",
     "text": [
      "/Users/zebulongoriely/Documents/UniDocs/PHD/research/projects/CorpusPhonemizers/env/lib/python3.9/site-packages/tqdm/auto.py:21: TqdmWarning: IProgress not found. Please update jupyter and ipywidgets. See https://ipywidgets.readthedocs.io/en/stable/user_install.html\n",
      "  from .autonotebook import tqdm as notebook_tqdm\n",
      "None of PyTorch, TensorFlow >= 2.0, or Flax have been found. Models won't be available and only tokenizers, configuration and file/data utilities can be used.\n"
     ]
    },
    {
     "name": "stdout",
     "output_type": "stream",
     "text": [
      "\n",
      "----------Counting blimp_filtered----------\n",
      "\n",
      "Counting evaluation_data/blimp_filtered/adjunct_island.jsonl\n",
      "Counting evaluation_data/blimp_filtered/anaphor_gender_agreement.jsonl\n",
      "Counting evaluation_data/blimp_filtered/anaphor_number_agreement.jsonl\n",
      "Counting evaluation_data/blimp_filtered/animate_subject_passive.jsonl\n",
      "Counting evaluation_data/blimp_filtered/animate_subject_trans.jsonl\n",
      "Counting evaluation_data/blimp_filtered/causative.jsonl\n",
      "Counting evaluation_data/blimp_filtered/complex_NP_island.jsonl\n",
      "Counting evaluation_data/blimp_filtered/coordinate_structure_constraint_complex_left_branch.jsonl\n",
      "Counting evaluation_data/blimp_filtered/coordinate_structure_constraint_object_extraction.jsonl\n",
      "Counting evaluation_data/blimp_filtered/determiner_noun_agreement_1.jsonl\n",
      "Counting evaluation_data/blimp_filtered/determiner_noun_agreement_2.jsonl\n",
      "Counting evaluation_data/blimp_filtered/determiner_noun_agreement_irregular_1.jsonl\n",
      "Counting evaluation_data/blimp_filtered/determiner_noun_agreement_irregular_2.jsonl\n",
      "Counting evaluation_data/blimp_filtered/determiner_noun_agreement_with_adj_2.jsonl\n",
      "Counting evaluation_data/blimp_filtered/determiner_noun_agreement_with_adj_irregular_1.jsonl\n",
      "Counting evaluation_data/blimp_filtered/determiner_noun_agreement_with_adj_irregular_2.jsonl\n",
      "Counting evaluation_data/blimp_filtered/determiner_noun_agreement_with_adjective_1.jsonl\n",
      "Counting evaluation_data/blimp_filtered/distractor_agreement_relational_noun.jsonl\n",
      "Counting evaluation_data/blimp_filtered/distractor_agreement_relative_clause.jsonl\n",
      "Counting evaluation_data/blimp_filtered/drop_argument.jsonl\n",
      "Counting evaluation_data/blimp_filtered/ellipsis_n_bar_1.jsonl\n",
      "Counting evaluation_data/blimp_filtered/ellipsis_n_bar_2.jsonl\n",
      "Counting evaluation_data/blimp_filtered/existential_there_object_raising.jsonl\n",
      "Counting evaluation_data/blimp_filtered/existential_there_quantifiers_1.jsonl\n",
      "Counting evaluation_data/blimp_filtered/existential_there_quantifiers_2.jsonl\n",
      "Counting evaluation_data/blimp_filtered/existential_there_subject_raising.jsonl\n",
      "Counting evaluation_data/blimp_filtered/expletive_it_object_raising.jsonl\n",
      "Counting evaluation_data/blimp_filtered/inchoative.jsonl\n",
      "Counting evaluation_data/blimp_filtered/intransitive.jsonl\n",
      "Counting evaluation_data/blimp_filtered/irregular_past_participle_adjectives.jsonl\n",
      "Counting evaluation_data/blimp_filtered/irregular_past_participle_verbs.jsonl\n",
      "Counting evaluation_data/blimp_filtered/irregular_plural_subject_verb_agreement_1.jsonl\n",
      "Counting evaluation_data/blimp_filtered/irregular_plural_subject_verb_agreement_2.jsonl\n",
      "Counting evaluation_data/blimp_filtered/left_branch_island_echo_question.jsonl\n",
      "Counting evaluation_data/blimp_filtered/left_branch_island_simple_question.jsonl\n",
      "Counting evaluation_data/blimp_filtered/matrix_question_npi_licensor_present.jsonl\n",
      "Counting evaluation_data/blimp_filtered/npi_present_1.jsonl\n",
      "Counting evaluation_data/blimp_filtered/npi_present_2.jsonl\n",
      "Counting evaluation_data/blimp_filtered/only_npi_licensor_present.jsonl\n",
      "Counting evaluation_data/blimp_filtered/only_npi_scope.jsonl\n",
      "Counting evaluation_data/blimp_filtered/passive_1.jsonl\n",
      "Counting evaluation_data/blimp_filtered/passive_2.jsonl\n",
      "Counting evaluation_data/blimp_filtered/principle_A_c_command.jsonl\n",
      "Counting evaluation_data/blimp_filtered/principle_A_case_1.jsonl\n",
      "Counting evaluation_data/blimp_filtered/principle_A_case_2.jsonl\n",
      "Counting evaluation_data/blimp_filtered/principle_A_domain_1.jsonl\n",
      "Counting evaluation_data/blimp_filtered/principle_A_domain_2.jsonl\n",
      "Counting evaluation_data/blimp_filtered/principle_A_domain_3.jsonl\n",
      "Counting evaluation_data/blimp_filtered/principle_A_reconstruction.jsonl\n",
      "Counting evaluation_data/blimp_filtered/regular_plural_subject_verb_agreement_1.jsonl\n",
      "Counting evaluation_data/blimp_filtered/regular_plural_subject_verb_agreement_2.jsonl\n",
      "Counting evaluation_data/blimp_filtered/sentential_negation_npi_licensor_present.jsonl\n",
      "Counting evaluation_data/blimp_filtered/sentential_negation_npi_scope.jsonl\n",
      "Counting evaluation_data/blimp_filtered/sentential_subject_island.jsonl\n",
      "Counting evaluation_data/blimp_filtered/superlative_quantifiers_1.jsonl\n",
      "Counting evaluation_data/blimp_filtered/superlative_quantifiers_2.jsonl\n",
      "Counting evaluation_data/blimp_filtered/tough_vs_raising_1.jsonl\n",
      "Counting evaluation_data/blimp_filtered/tough_vs_raising_2.jsonl\n",
      "Counting evaluation_data/blimp_filtered/transitive.jsonl\n",
      "Counting evaluation_data/blimp_filtered/wh_island.jsonl\n",
      "Counting evaluation_data/blimp_filtered/wh_questions_object_gap.jsonl\n",
      "Counting evaluation_data/blimp_filtered/wh_questions_subject_gap.jsonl\n",
      "Counting evaluation_data/blimp_filtered/wh_questions_subject_gap_long_distance.jsonl\n",
      "Counting evaluation_data/blimp_filtered/wh_vs_that_no_gap.jsonl\n",
      "Counting evaluation_data/blimp_filtered/wh_vs_that_no_gap_long_distance.jsonl\n",
      "Counting evaluation_data/blimp_filtered/wh_vs_that_with_gap.jsonl\n",
      "Counting evaluation_data/blimp_filtered/wh_vs_that_with_gap_long_distance.jsonl\n",
      "Done counting\n",
      "\n",
      "----------Counting glue_filtered----------\n",
      "\n",
      "Counting evaluation_data/glue_filtered/boolq.train.jsonl\n",
      "Counting evaluation_data/glue_filtered/boolq.valid.jsonl\n",
      "Counting evaluation_data/glue_filtered/cola.train.jsonl\n",
      "Counting evaluation_data/glue_filtered/cola.valid.jsonl\n",
      "Counting evaluation_data/glue_filtered/mnli-mm.valid.jsonl\n",
      "Counting evaluation_data/glue_filtered/mnli.subs.jsonl\n",
      "Counting evaluation_data/glue_filtered/mnli.train.jsonl\n",
      "Counting evaluation_data/glue_filtered/mnli.valid.jsonl\n",
      "Counting evaluation_data/glue_filtered/mrpc.train.jsonl\n",
      "Counting evaluation_data/glue_filtered/mrpc.valid.jsonl\n",
      "Counting evaluation_data/glue_filtered/multirc.train.jsonl\n",
      "Counting evaluation_data/glue_filtered/multirc.valid.jsonl\n",
      "Counting evaluation_data/glue_filtered/qnli.train.jsonl\n",
      "Counting evaluation_data/glue_filtered/qnli.valid.jsonl\n",
      "Counting evaluation_data/glue_filtered/qqp.train.jsonl\n",
      "Counting evaluation_data/glue_filtered/qqp.valid.jsonl\n",
      "Counting evaluation_data/glue_filtered/rte.train.jsonl\n",
      "Counting evaluation_data/glue_filtered/rte.valid.jsonl\n",
      "Counting evaluation_data/glue_filtered/sst2.train.jsonl\n",
      "Counting evaluation_data/glue_filtered/sst2.valid.jsonl\n",
      "Counting evaluation_data/glue_filtered/wsc.train.jsonl\n",
      "Counting evaluation_data/glue_filtered/wsc.valid.jsonl\n",
      "Done counting\n",
      "\n",
      "----------Counting supplement_filtered----------\n",
      "\n",
      "Counting evaluation_data/supplement_filtered/hypernym.jsonl\n",
      "Counting evaluation_data/supplement_filtered/qa_congruence_easy.jsonl\n",
      "Counting evaluation_data/supplement_filtered/qa_congruence_tricky.jsonl\n",
      "Counting evaluation_data/supplement_filtered/subject_aux_inversion.jsonl\n",
      "Counting evaluation_data/supplement_filtered/turn_taking.jsonl\n",
      "Done counting\n",
      "\n",
      "----------Counting ewok_filtered----------\n",
      "\n",
      "Counting evaluation_data/ewok_filtered/agent-properties.jsonl\n",
      "Counting evaluation_data/ewok_filtered/material-dynamics.jsonl\n",
      "Counting evaluation_data/ewok_filtered/material-properties.jsonl\n",
      "Counting evaluation_data/ewok_filtered/physical-dynamics.jsonl\n",
      "Counting evaluation_data/ewok_filtered/physical-interactions.jsonl\n",
      "Counting evaluation_data/ewok_filtered/physical-relations.jsonl\n",
      "Counting evaluation_data/ewok_filtered/quantitative-properties.jsonl\n",
      "Counting evaluation_data/ewok_filtered/social-interactions.jsonl\n",
      "Counting evaluation_data/ewok_filtered/social-properties.jsonl\n",
      "Counting evaluation_data/ewok_filtered/social-relations.jsonl\n",
      "Counting evaluation_data/ewok_filtered/spatial-relations.jsonl\n",
      "Done counting\n"
     ]
    }
   ],
   "source": [
    "from transformers import AutoTokenizer\n",
    "import pandas as pd\n",
    "\n",
    "tokenizer_name = 'phonemetransformers/BABYLM-TOKENIZER-BPE-PHON'\n",
    "tokenizer = AutoTokenizer.from_pretrained(tokenizer_name)\n",
    "\n",
    "df = pd.DataFrame(columns=['folder', 'file', 'key', 'count', 'total_lines', 'percentage', 'average_length'])\n",
    "\n",
    "for folder in folders:\n",
    "\n",
    "    print(f\"\\n----------Counting {folder}----------\\n\")\n",
    "\n",
    "    files = []\n",
    "    for root, _, filenames in os.walk(f'{INPUT_DIR}/{folder}'):\n",
    "        for filename in filenames:\n",
    "            if filename.endswith('.jsonl'):\n",
    "                files.append(os.path.join(root, filename))\n",
    "\n",
    "    files = sorted(files)\n",
    "\n",
    "    for file in files:\n",
    "        print(f\"Counting {file}\")\n",
    "\n",
    "        with open(file, 'r') as f:\n",
    "            data = f.readlines()\n",
    "            data = [json.loads(line) for line in data]\n",
    "\n",
    "        data_keys = []\n",
    "        for line in data:\n",
    "            data_keys += line.keys()\n",
    "        data_keys = list(set(data_keys))\n",
    "\n",
    "        for key in keys:\n",
    "            if key in data_keys:\n",
    "                sentences = [line[key] for line in data]\n",
    "                tokenized = tokenizer(sentences, padding=False, truncation=False)\n",
    "                # Count number of lines with more than 128 tokens\n",
    "                count = 0\n",
    "                total_length = 0\n",
    "                for i in range(len(tokenized['input_ids'])):\n",
    "                    length = len(tokenized['input_ids'][i])\n",
    "                    if length > 128:\n",
    "                        count += 1\n",
    "                    total_length += length\n",
    "                total_lines = len(tokenized['input_ids'])\n",
    "                average_length = total_length / total_lines\n",
    "                percentage = count / total_lines * 100\n",
    "                df = pd.concat([df, pd.DataFrame({'folder': folder, 'file': file.split('/')[-1], 'key': key, 'count': count, 'total_lines': total_lines, 'percentage': percentage, 'average_length': average_length}, index=[0])], ignore_index=True)\n",
    "\n",
    "    print(\"Done counting\")\n",
    "\n",
    "df.to_csv('phonemized_stats.csv', index=False)"
   ]
  },
  {
   "cell_type": "code",
   "execution_count": null,
   "metadata": {},
   "outputs": [],
   "source": []
  }
 ],
 "metadata": {
  "kernelspec": {
   "display_name": "env",
   "language": "python",
   "name": "python3"
  },
  "language_info": {
   "codemirror_mode": {
    "name": "ipython",
    "version": 3
   },
   "file_extension": ".py",
   "mimetype": "text/x-python",
   "name": "python",
   "nbconvert_exporter": "python",
   "pygments_lexer": "ipython3",
   "version": "3.10.11"
  }
 },
 "nbformat": 4,
 "nbformat_minor": 2
}
