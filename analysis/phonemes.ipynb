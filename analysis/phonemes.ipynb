{
 "cells": [
  {
   "cell_type": "markdown",
   "metadata": {},
   "source": [
    "# Phoneme Analysis\n",
    "\n",
    "Comparing phonemes outputted by phonemization to phonemes stored in [phoible](https://phoible.org/). This is used to improve the phonemization by adding replacement dictionaries to increase the coherence of the resulting phoneme set for each language."
   ]
  },
  {
   "cell_type": "code",
   "execution_count": 2,
   "metadata": {},
   "outputs": [
    {
     "name": "stderr",
     "output_type": "stream",
     "text": [
      "/Users/zebulongoriely/Documents/UniDocs/PHD/research/projects/CHILDES_processor/env/lib/python3.9/site-packages/tqdm/auto.py:21: TqdmWarning: IProgress not found. Please update jupyter and ipywidgets. See https://ipywidgets.readthedocs.io/en/stable/user_install.html\n",
      "  from .autonotebook import tqdm as notebook_tqdm\n",
      "/var/folders/nz/6tzh0bsj2txd1cz18gpcms_c0000gn/T/ipykernel_72255/521183469.py:6: DtypeWarning: Columns (4,7,8,11) have mixed types. Specify dtype option on import or set low_memory=False.\n",
      "  phoible = pd.read_csv('../data/phoible.csv')\n"
     ]
    }
   ],
   "source": [
    "import pandas as pd\n",
    "\n",
    "from datasets import load_dataset\n",
    "from tqdm import tqdm\n",
    "\n",
    "phoible = pd.read_csv('../data/phoible.csv')\n",
    "phonemes = phoible.Phoneme.unique()"
   ]
  },
  {
   "cell_type": "code",
   "execution_count": 28,
   "metadata": {},
   "outputs": [],
   "source": [
    "def find_unseen_phonemes(counts, phonemes):\n",
    "    \"\"\" Finds phonemes in counts unknown in the phonemes list, and phonemes in the phonemes list not seen in counts \"\"\"\n",
    "    unseen = set() \n",
    "    unknown = {} \n",
    "    for phoneme in phonemes:\n",
    "        if phoneme not in counts:\n",
    "            unseen.add(phoneme)\n",
    "    for phoneme, count in counts.items():\n",
    "        if phoneme not in phonemes and phoneme != 'WORD_BOUNDARY':\n",
    "            unknown[phoneme] = count\n",
    "    return unseen, unknown\n",
    "\n",
    "def find_phoneme(dataset_section, phoneme, count=1):\n",
    "    \"\"\" Find lines where phoneme appears and also print gloss \"\"\"\n",
    "    dataset = load_dataset('../datasets/childes/CHILDES-dataset', dataset_section, split='train')\n",
    "    phonemized = list(dataset['phonemized_utterance'])\n",
    "    for i, line in enumerate(phonemized):\n",
    "        if phoneme in line:\n",
    "            print(f'Line {i}: {dataset[\"gloss\"][i]} - {line}')\n",
    "            count -= 1\n",
    "        if count == 0:\n",
    "            break\n",
    "\n",
    "def find_words_with_phoneme(dataset_section, phoneme):\n",
    "    words_counts = {}\n",
    "    dataset = load_dataset('../childes/CHILDES-dataset', dataset_section, split='train')\n",
    "    phonemized = list(dataset['phonemized_utterance'])\n",
    "    glosses = list(dataset['gloss'])\n",
    "    for i, line in tqdm(enumerate(phonemized)):\n",
    "        if phoneme in line:\n",
    "            words = glosses[i].split()\n",
    "            phonemic_words = line.split(' WORD_BOUNDARY ')\n",
    "            for j, word in enumerate(phonemic_words):\n",
    "                if phoneme in word.split():\n",
    "                    if j >= len(words):\n",
    "                        continue\n",
    "                    entry = words[j] + '/' + word.replace(' WORD_BOUNDARY', '')\n",
    "                    if entry not in words_counts:\n",
    "                        words_counts[entry] = 0\n",
    "                    words_counts[entry] += 1\n",
    "    # Sort by counts\n",
    "    words_counts = {k: v for k, v in sorted(words_counts.items(), key=lambda item: item[1], reverse=True)}\n",
    "    return words_counts\n",
    "\n",
    "def compare_phoneme_sets(dataset_section, iso_code, inventories):\n",
    "    \"\"\" Compares phonemes in a specific section of the dataset (a specific language) with the phonemes in phoible.\n",
    "    \n",
    "    Three levels of comparison are made:\n",
    "    1. Phonemes in the dataset not seen in any parts of phoible\n",
    "    2. Phonemes in the dataset not seen in any phoible language with a specific language code (e.g. 'eng' for English)\n",
    "    3. Phonemes in the dataset not seen in the specific inventories of phoible (e.g. ['American English', 'English (American)'] for English)\n",
    "    \"\"\"\n",
    "    dataset = load_dataset('../childes/CHILDES-dataset', dataset_section, split='train')\n",
    "\n",
    "    token_counts = {}\n",
    "    for line in dataset['phonemized_utterance']:\n",
    "        tokens = line.strip().split()\n",
    "        for token in tokens:\n",
    "            if token not in token_counts:\n",
    "                token_counts[token] = 0\n",
    "            token_counts[token] += 1\n",
    "\n",
    "    print(f'Total phonemes in the dataset: {sum(token_counts.values())}')\n",
    "    print(f'Unique phonemes: {list(token_counts.keys())}\\n')\n",
    "\n",
    "    _, unknown = find_unseen_phonemes(token_counts, phonemes)\n",
    "    print('Comparing the phonemes seen in the data with all phoible phonemes:')\n",
    "    print(f'Unknown phonemes:')\n",
    "    print(unknown)\n",
    "\n",
    "\n",
    "    language_phonemes = phoible[phoible.ISO6393 == iso_code].Phoneme.unique()\n",
    "    language_unseen, language_unknown = find_unseen_phonemes(token_counts, language_phonemes)\n",
    "    print(f'\\nComparing the phonemes seen in the data with just the phonemes in phoible with the {iso_code} language code:')\n",
    "    print(f'Unknown phonemes:')\n",
    "    print(language_unknown)\n",
    "    print(f'Unseen phonemes:')\n",
    "    print(language_unseen)\n",
    "    \n",
    "    possible_language_names = phoible[phoible.ISO6393 == iso_code].LanguageName.unique()\n",
    "    print(f'\\nPhoible inventories names with the {iso_code} language code:')\n",
    "    print(possible_language_names)\n",
    "\n",
    "    possible_dialects = phoible[phoible.ISO6393 == iso_code].SpecificDialect.unique()\n",
    "    print(f'\\nPhoible dialects names with the {iso_code} language code:')\n",
    "    print(possible_dialects)\n",
    "\n",
    "    all_inventory_phonemes = set()\n",
    "    for inventory in inventories:\n",
    "        dialect_phonemes = phoible[phoible.LanguageName == inventory].Phoneme.unique()\n",
    "        all_inventory_phonemes.update(dialect_phonemes)\n",
    "\n",
    "    if all_inventory_phonemes == set(language_phonemes):\n",
    "        print(f'\\nAll phonemes in the {iso_code} language code match with the specific inventories, no need for further comparison\\n')\n",
    "        return\n",
    "\n",
    "    dialect_unseen, dialect_unknown = find_unseen_phonemes(token_counts, all_inventory_phonemes)\n",
    "    print(f'\\nNow comparing the phonemes seen in the data with the phonemes in phoible with the specific inventories {inventories}:')\n",
    "    print(f'Unknown phonemes:')\n",
    "    print(dialect_unknown)\n",
    "    print(f'Unseen phonemes:')\n",
    "    print(dialect_unseen)"
   ]
  },
  {
   "cell_type": "markdown",
   "metadata": {},
   "source": [
    "# English Analysis\n",
    "\n",
    "The English section of our corpus is taken from Eng-NA in CHILDES, so we compare to all English languages and more specifically the two American English sections of phoible. \n",
    "\n",
    "When comparing to all English languages, we see only frequent two unknown phonemes, `ɾ` and `n̩`. The first is an [alternative](https://english.stackexchange.com/questions/549727/whats-the-difference-between-t%CC%AC-and-%C9%BE-in-american-english) to `t̬` and is marked as an allophone of several consonants in the English inventories of phoible. The second is a syllabic `n`, seen in words like `button`. This occurs in American English although is not listed in the two American English phoible inventories. \n",
    "\n",
    "When comparing to the two American English phoible inventories there are many more unknown phonemes. Most are due to elongated vowels or are allophones of phonemes that do appear in these inventories (e.g. `k` instead of `kʰ`). Almost all appear in the main English inventory of phoible. "
   ]
  },
  {
   "cell_type": "code",
   "execution_count": 4,
   "metadata": {},
   "outputs": [
    {
     "name": "stderr",
     "output_type": "stream",
     "text": [
      "Generating train split: 1636954 examples [00:07, 210913.41 examples/s]\n",
      "Generating valid split: 10000 examples [00:00, 194196.92 examples/s]\n"
     ]
    },
    {
     "name": "stdout",
     "output_type": "stream",
     "text": [
      "Total phonemes in the dataset: 29051643\n",
      "Unique phonemes: ['s', 'iː', 'WORD_BOUNDARY', 'ð', 'ɛ', 'ɹ', 'z', 'ʌ', 'f', 'eɪ', 'w', 'ɪ', 'ɡ', 'l', 'æ', 'ɑ', 'h', 'ə', 'ʊ', 'k', 'p', 'uː', 'b', 'i', 't', 'aɪ', 'θ', 'ŋ', 'j', 'ɔ', 'm', 'ɔɪ', 'n', 'd', 'oʊ', 'aʊ', 'v', 'ɜː', 't̠ʃ', 'd̠ʒ', 'ʃ', 'iə', 'ʒ', 'ɑ̃', 'r', 'x', 'nʲ']\n",
      "\n",
      "Comparing the phonemes seen in the data with all phoible phonemes:\n",
      "Unknown phonemes:\n",
      "{}\n",
      "\n",
      "Comparing the phonemes seen in the data with just the phonemes in phoible with the eng language code:\n",
      "Unknown phonemes:\n",
      "{'ɑ̃': 13, 'nʲ': 8}\n",
      "Unseen phonemes:\n",
      "{'əʉ', 'ɪə', 'ʉː', 'əː', 'ɐː', 'ɑe', 'ɵː', 'eɪ̯', 'ɐ', 'iɪ', 'ɛʉ', 'ɔː', 'tʰ', 'ʍ', 'ɛː', 'e', 'ɚ', 'oe', 'æo', 'ɑː', 'ɚː', 'ts', 'aː', 'ɘ', 'ɒ', 'ɐʉ', 'æɔ', 'ʔ', 'pʰ', 'oɪ', 'a', 'iɛ', 'æe', 'kʰ', 'u', 'ɒɯ', 'e̞', 'ʊə', 'ʉə', 'eː', 'øː', 'o̞ː', 'eə', 'æɪ', 'ɒː', 'kx', 'oː', 'əʊ', 'ɻ', 'ei'}\n",
      "\n",
      "Phoible inventories names with the eng language code:\n",
      "['English' 'English (American)' 'American English' 'English (Australian)'\n",
      " 'English (British)' 'English (New Zealand)']\n",
      "\n",
      "Phoible dialects names with the eng language code:\n",
      "[nan 'Western and Mid-Western US; Southern California'\n",
      " 'Southeastern Michigan' 'Liverpool' 'Pākehā'\n",
      " 'Tyneside English (spoken in Newcastle)' 'English (RP)'\n",
      " 'English (Liverpool)']\n",
      "\n",
      "Now comparing the phonemes seen in the data with the phonemes in phoible with the specific inventories ['English (American)', 'American English']:\n",
      "Unknown phonemes:\n",
      "{'iː': 504437, 'eɪ': 445319, 'k': 802573, 'p': 370332, 't': 1746225, 'ɜː': 95615, 'iə': 18910, 'ɑ̃': 13, 'r': 28, 'x': 24, 'nʲ': 8}\n",
      "Unseen phonemes:\n",
      "{'tʰ', 'pʰ', 'ɚ', 'eɪ̯', 'iɪ', 'ɚː', 'kʰ', 'u', 'ei'}\n"
     ]
    }
   ],
   "source": [
    "compare_phoneme_sets('English', 'eng', ['English (American)', 'American English'])"
   ]
  },
  {
   "cell_type": "markdown",
   "metadata": {},
   "source": [
    "# French Analysis\n",
    "\n",
    "We compare all French inventories in phoible to our French dataset.\n",
    "\n",
    "We find a few unknown phonemes, all very infrequent and most are valid allophones according to the French inventory:\n",
    "* `yː` is an allophone of `y`\n",
    "* `aː` is an allophone of `a̟`\n",
    "* `iː` is an allophone of `i`\n",
    "\n",
    "The remaining two phonemes `t̠ʃ` and `d̠ʒ` seem to come from loan words such as `sandwhich` and `jazz` so seem acceptable to keep. "
   ]
  },
  {
   "cell_type": "code",
   "execution_count": 5,
   "metadata": {},
   "outputs": [
    {
     "name": "stderr",
     "output_type": "stream",
     "text": [
      "Generating train split: 422133 examples [00:02, 186531.63 examples/s]\n",
      "Generating valid split: 10000 examples [00:00, 170583.37 examples/s]\n"
     ]
    },
    {
     "name": "stdout",
     "output_type": "stream",
     "text": [
      "Total phonemes in the dataset: 7332327\n",
      "Unique phonemes: ['t', 'y', 'WORD_BOUNDARY', 'v', 'j', 'ɛ̃', 'w', 'a', 'ʁ', 'd', 'e', 'ʒ', 'm', 'ɔ̃', 'p', 'ɛ', 'f', 'ɔ', 'ɑ̃', 's', 'z', 'l', 'ə', 'b', 'k', 'u', 'o', 'ʃ', 'ɡ', 'i', 'n', 'œ̃', 'ø', 'œ', 'oː', 'yː', 'ɲ', 'aː', 't̠ʃ', 'd̠ʒ', 'iː', 'ŋ']\n",
      "\n",
      "Comparing the phonemes seen in the data with all phoible phonemes:\n",
      "Unknown phonemes:\n",
      "{}\n",
      "\n",
      "Comparing the phonemes seen in the data with just the phonemes in phoible with the fra language code:\n",
      "Unknown phonemes:\n",
      "{'yː': 1393, 'aː': 1335, 't̠ʃ': 29, 'd̠ʒ': 9, 'iː': 3}\n",
      "Unseen phonemes:\n",
      "{'ɥ', 'ɡ̟', 'ɦ', 'õ', 'l̪', 'ɛː', 'n̪', 'ɒ̃', 'd̪', 'z̪', 't̪', 'ɒ', 'r', 'ø̞', 'ʀ', 'ɑ', 'æ̃', 'a̟', 's̪', 'k̟'}\n",
      "\n",
      "Phoible inventories names with the fra language code:\n",
      "['French' 'FRENCH']\n",
      "\n",
      "Phoible dialects names with the fra language code:\n",
      "[nan 'French (Parisian speaker)']\n",
      "\n",
      "All phonemes in the fra language code match with the specific inventories, no need for further comparison\n",
      "\n"
     ]
    }
   ],
   "source": [
    "compare_phoneme_sets('French', 'fra', ['French', 'FRENCH'])"
   ]
  },
  {
   "cell_type": "markdown",
   "metadata": {},
   "source": [
    "# German Analysis\n",
    "\n",
    "We compare all German inventories in phoible to our German dataset.\n",
    "\n",
    "We find a few unknown phonemes:\n",
    "* `r` is an allophone of `ʀ`. Seems to exist in Austrian/Swiss standard german rather than german standard german. \n",
    "* `ɛɪ` is not listed in German phoible but is a non-native vowel according to [wikipedia](https://en.wikipedia.org/wiki/Help:IPA/Standard_German). Seems to mostly be produced in loan words such as \"okay\". \n",
    "\n",
    "The remaining phonemes are sufficiently rare and mostly produced by loan words:\n",
    "* `ɔ̃` is produced in the loan word \"pardon\"\n",
    "* `ɑ̃` is produced by loan words \"chance\" and \"restaurant\"\n",
    "* `w` is produced by loan words \"Twix\" and \"twinners\". It is also produced by rare words \"twart\" and \"tweikt\" and should possibly be `v`.\n",
    "* `ɔː` is produced by the name \"George\"\n",
    "* `i` is produced by the loan words \"Region\"\n",
    "* `œ̃` is produced by the loan words \"Terrain\" and \"Mannequin\"\n",
    "\n",
    "Decisions we made in the phonemization code:\n",
    "* `ɑː` and `ɑ` were being produced very frequently and do not occur in german phoneme inventories. We replaced these instances with `a` and `aː`.\n",
    "* `ɜ` was being produced very frequently and does not occur in german phoneme inventories. It was always being produced for syllables ending in \"er\", such as \"aber\". It seems more standard to use `ɐ` so we made this replacement.\n",
    "* `ɾ` was being produced very frequently and did not occur in German phoible. Seems to be produced in words such as \"wer\" and \"wir\", resulting in `/veːɾ/` and `/viːɾ`. `/veːɐ/` and `/viːɐ/` seem more standard, so we replace `ɾ` with `ɐ`. "
   ]
  },
  {
   "cell_type": "code",
   "execution_count": 6,
   "metadata": {},
   "outputs": [
    {
     "name": "stderr",
     "output_type": "stream",
     "text": [
      "Generating train split: 840888 examples [00:04, 203706.55 examples/s]\n",
      "Generating valid split: 10000 examples [00:00, 181809.29 examples/s]\n"
     ]
    },
    {
     "name": "stdout",
     "output_type": "stream",
     "text": [
      "Total phonemes in the dataset: 17749318\n",
      "Unique phonemes: ['h', 'a', 'l', 'oː', 'WORD_BOUNDARY', 'j', 'aː', 'ə', 'm', 'd', 's', 't', 'iː', 'n', 'z', 'ɛ', 'ts', 'ɪ', 'eː', 'ʀ', 'aʊ', 'ɡ', 'ŋ', 'ʊ', 'v', 'aɪ', 'uː', 'k', 'ç', 'b', 'ɐ', 'ʃ', 'ɔ', 'x', 'œ', 'f', 'p', 'ɛɪ', 'ʏ', 'yː', 'y', 'ɛː', 'pf', 'øː', 't̠ʃ', 'd̠ʒ', 'ʒ', 'ɔ̃', 'ã', 'w', 'ɔː', 'i', 'œ̃']\n",
      "\n",
      "Comparing the phonemes seen in the data with all phoible phonemes:\n",
      "Unknown phonemes:\n",
      "{}\n",
      "\n",
      "Comparing the phonemes seen in the data with just the phonemes in phoible with the deu language code:\n",
      "Unknown phonemes:\n",
      "{'ɛɪ': 3940, 'ɔ̃': 19, 'ã': 126, 'w': 13, 'ɔː': 4, 'i': 22, 'œ̃': 5}\n",
      "Unseen phonemes:\n",
      "{'tʰ', 'ʔ', 'e', 'pʰ', 'ʁ', 'ʏː', 'ai', 't̺ʰ', 'ɔɪ', 'd̺', 'kʰ', 'ɔi', 'au'}\n",
      "\n",
      "Phoible inventories names with the deu language code:\n",
      "['German' 'GERMAN']\n",
      "\n",
      "Phoible dialects names with the deu language code:\n",
      "[nan 'German (Standard)']\n",
      "\n",
      "All phonemes in the deu language code match with the specific inventories, no need for further comparison\n",
      "\n"
     ]
    }
   ],
   "source": [
    "compare_phoneme_sets('German', 'deu', ['German','GERMAN'])"
   ]
  },
  {
   "cell_type": "markdown",
   "metadata": {},
   "source": [
    "# Indonesian Analysis\n",
    "\n",
    "We compare all Indonesian inventories in phoible to our Indonesian dataset.\n",
    "\n",
    "We find a few unknown phonemes:\n",
    "* `ɔ` is listed as an allophone of `o` and apparently is valid in some analyses.\n",
    "* `χ` is produced by the names words \"Chiki\" and \"Michael\". It should possibly be `t̠ʃ` in the first case and `k` in the second.\n",
    "\n",
    "The remaining phonemes are sufficiently rare:\n",
    "* `ɹ` is produced only by the word \"per\".\n",
    "\n",
    "Decisions we made in the phonemization code:\n",
    "* `aɪ` is produced frequently but is not listed in the indonesian phoneme inventories. Instead, it seems more standard to use `ai̯` so we make this replacement.\n",
    "* `aʊ` is produced frequently but is not listed in the indonesian phoneme inventories. Instead, it seems more standard to use `au̯` so we make this replacement.\n",
    "* `ç` was being produced occassionally (801 instances) in words such as \"mesjid\" or \"syut\". We replace these with `ʃ`.\n"
   ]
  },
  {
   "cell_type": "code",
   "execution_count": 7,
   "metadata": {},
   "outputs": [
    {
     "name": "stderr",
     "output_type": "stream",
     "text": [
      "Generating train split: 524469 examples [00:02, 260267.25 examples/s]\n",
      "Generating valid split: 10000 examples [00:00, 233426.68 examples/s]\n"
     ]
    },
    {
     "name": "stdout",
     "output_type": "stream",
     "text": [
      "Total phonemes in the dataset: 7806445\n",
      "Unique phonemes: ['n', 'i', 'h', 'WORD_BOUNDARY', 'l', 'o', 't', 'm', 'a', 'w', 's', 'd̠ʒ', 'ŋ', 'd', 'p', 'ɛ', 'ɡ', 'b', 'u', 'r', 'au̯', 'z', 'k', 'ɲ', 'j', 't̠ʃ', 'e', 'ə', 'ɔ', 'ai̯', 'f', 'v', 'ʔ', 'ʃ', 'χ', 'x', 'ɹ']\n",
      "\n",
      "Comparing the phonemes seen in the data with all phoible phonemes:\n",
      "Unknown phonemes:\n",
      "{}\n",
      "\n",
      "Comparing the phonemes seen in the data with just the phonemes in phoible with the ind language code:\n",
      "Unknown phonemes:\n",
      "{'ɔ': 8887, 'χ': 3273, 'ɹ': 4}\n",
      "Unseen phonemes:\n",
      "{'oi̯', 'y', 't̪'}\n",
      "\n",
      "Phoible inventories names with the ind language code:\n",
      "['Indonesian']\n",
      "\n",
      "Phoible dialects names with the ind language code:\n",
      "['Central Java' 'Standard']\n",
      "\n",
      "All phonemes in the ind language code match with the specific inventories, no need for further comparison\n",
      "\n"
     ]
    }
   ],
   "source": [
    "compare_phoneme_sets('Indonesian', 'ind', ['Indonesian'])"
   ]
  },
  {
   "cell_type": "markdown",
   "metadata": {},
   "source": [
    "# Mandarin Analysis\n",
    "\n",
    "We compare all Mandarin inventories in phoible to our Mandarin dataset.\n",
    "\n",
    "There are four Mandarin inventories in Phoible, \"Mandarin Chinese\", \"Standard Chinese; Mandarin\", \"MANDARIN\" and \"Standard Chinese\". \n",
    "\n",
    "There are many unknown and unseen phonemes when comparing to Mandarin Chinese, but all the symbols are in other phoible inventories. It may be left to future work to align these better with Phoible as Phoible itself seems to disagree considerably between the different inventories."
   ]
  },
  {
   "cell_type": "code",
   "execution_count": 19,
   "metadata": {},
   "outputs": [
    {
     "name": "stdout",
     "output_type": "stream",
     "text": [
      "Total phonemes in the dataset: 7377447\n",
      "Unique phonemes: ['au̯', 'WORD_BOUNDARY', 'n', 'a', '˥˩', 'ʂ', 'ɻ̩', 'ə', '˧˥', 'm', 'ɤ', 'p', 'j', 'e', 'kʰ', 'k', 'w', 'o', '˥', 'ʈʂʰ', 'ŋ', 't', 'ʊ', 'ɕ', 'i', 'l', '˧˨˧', 'x', 'u', 'ei̯', 'pʰ', 'ai̯', 'ou̯', 'tɕ', 'ts', 'ʈʂ', 's', 'ɹ̩', 'tɕʰ', 'ɛ', 'f', 'y', 'tʰ', 'ɻ', 'ɥ', 'ɔ', 'tsʰ', 'ɚ', 'h']\n",
      "\n",
      "Comparing the phonemes seen in the data with all phoible phonemes:\n",
      "Unknown phonemes:\n",
      "{}\n",
      "\n",
      "Comparing the phonemes seen in the data with just the phonemes in phoible with the cmn language code:\n",
      "Unknown phonemes:\n",
      "{'au̯': 154006, '˥˩': 623749, 'ɻ̩': 95797, 'e': 29436, 'o': 89893, 'ʊ': 34560, 'ei̯': 80026, 'ai̯': 111764, 'ou̯': 99028, 'ɹ̩': 26122, 'ɛ': 52880, 'ɻ': 18882, 'ɔ': 10547, 'ɚ': 3167, 'h': 1}\n",
      "Unseen phonemes:\n",
      "{'uai', '˦', 'ie', 'iu', 'ɰ', 'ai', 'ia', 'ye', 'au', 'iou', 'ɹ', 'ə˞', 'ə̃˞', 'u˞', 't̪|t', 'uei', 's̪|s', 't̠ʃ', 'a̟˞', '˧˦', 'a˞', '˥˦', '˦˨', 't̪ʰ|tʰ', 't̠ʃ̺', 'χ', 't̠ʃ̺ʰ', 'w˞', 'cç', 'ou', 'ɹ̪̩', 'l̪|l', 't̪s̪ʰ|tsʰ', 't̪s̪|ts', 'ɤ̟', 'uə', 'cçʰ', '˧˨˥', 'ɤ˞', 'ɑ̃˞', 'ʐ', 'ʃ̺', 'iau', 'ɹ̺', 'ç', 'ua', 'ei', 'uo'}\n",
      "\n",
      "Phoible inventories names with the cmn language code:\n",
      "['Mandarin Chinese' 'MANDARIN' 'Standard Chinese; Mandarin'\n",
      " 'Standard Chinese']\n",
      "\n",
      "Phoible dialects names with the cmn language code:\n",
      "[nan 'Beijing' 'Standard Chinese (Beijing)']\n",
      "\n",
      "Now comparing the phonemes seen in the data with the phonemes in phoible with the specific inventories ['Standard Chinese; Mandarin', 'Mandarin Chinese']:\n",
      "Unknown phonemes:\n",
      "{'au̯': 154006, '˥˩': 623749, 'ɻ̩': 95797, 'e': 29436, 'o': 89893, 'ʊ': 34560, 'ei̯': 80026, 'ai̯': 111764, 'ou̯': 99028, 'ɹ̩': 26122, 'ɛ': 52880, 'ɻ': 18882, 'ɔ': 10547, 'ɚ': 3167, 'h': 1}\n",
      "Unseen phonemes:\n",
      "{'uai', 'ie', '˦', 'iu', 'ɰ', 'ai', 'ia', 'au', 'iou', 'ɹ', 'ə˞', 'ə̃˞', 'u˞', 'uei', 't̠ʃ', 'uo', 'a̟˞', '˧˦', 'a˞', '˥˦', '˦˨', 'χ', 't̠ʃ̺ʰ', 'w˞', 'cç', 'ou', 'uə', 'cçʰ', '˧˨˥', 'ɤ˞', 'ɑ̃˞', 'ʐ', 'ʃ̺', 'iau', 'ç', 'ua', 'ei', 'ye'}\n"
     ]
    }
   ],
   "source": [
    "compare_phoneme_sets('Mandarin', 'cmn', ['Standard Chinese; Mandarin', 'Mandarin Chinese'])"
   ]
  },
  {
   "cell_type": "markdown",
   "metadata": {},
   "source": [
    "# Cantonese Analysis\n",
    "\n",
    "We compare all Cantonese inventories in phoible to our Cantonese dataset.\n",
    "\n",
    "There are four Cantonese inventories in Phoible, \"Chinese\", \"Cantonese\", \"TAISHAN\" and \"Yue Chinese\". \n",
    "\n",
    "There are many unknown and unseen phonemes when comparing to Cantonese Chinese, but all the symbols are in other phoible inventories. It may be left to future work to align these better with Phoible as Phoible itself seems to disagree considerably between the different inventories."
   ]
  },
  {
   "cell_type": "code",
   "execution_count": 30,
   "metadata": {},
   "outputs": [
    {
     "name": "stdout",
     "output_type": "stream",
     "text": [
      "Total phonemes in the dataset: 2516893\n",
      "Unique phonemes: ['aː', '˧', 'WORD_BOUNDARY', 't', 'ɐ', '˥', 'k', 'l', 'j', 'ʊ', '˨˩', 'ɛː', 'n', 'ei', '˩˧', 'w', '˨', 'ɐi', '˧˥', 'm̩', 'm', 'ou', 'iː', 'ts', 'ɔː', 'tʰ', 'f', 'aːĭ', 'p', 'h', 'ɵy', 'uː', 'ŋ', 's', 'ɔːĭ', 'ɐu', 'ɪ', 'iːŭ', '̩', 'ɵ', 'tsʰ', 'kʰ', 'aːŭ', 'pʰ', 'yː', 'œː', 'uːĭ', 'u']\n",
      "\n",
      "Comparing the phonemes seen in the data with all phoible phonemes:\n",
      "Unknown phonemes:\n",
      "{'̩': 22726}\n",
      "\n",
      "Comparing the phonemes seen in the data with just the phonemes in phoible with the yue language code:\n",
      "Unknown phonemes:\n",
      "{'aː': 126406, '˨˩': 77836, 'ɛː': 47941, 'iː': 46626, 'ɔː': 65925, 'uː': 5381, '̩': 22726, 'yː': 10904, 'œː': 11062}\n",
      "Unseen phonemes:\n",
      "{'˩', '˦', 'iu', 'ui', 'ʃ', 'l̥', 'ai', 'n̪|n', 'au', 'ŋ̩', 'β', 'i', 'kʷ', 't̪|t', '˧˩', 'œ', 't̠ʃ', '˧˩̰', '˥˦', 't̪ʰ|tʰ', 'a', 'r', 't̠ʃʰ', 'œ̞', 'kʷʰ', 'ɔi', 'ʊ̟', 'l̪|l', 'æ', 'ɛu', 'y', 'ɛ', 'ɔ̽', 'ɪ̞', 'a̞', 'ɔ', 'l̪̥|l̥'}\n",
      "\n",
      "Phoible inventories names with the yue language code:\n",
      "['Cantonese' 'TAISHAN' 'Chinese' 'Yue Chinese']\n",
      "\n",
      "Phoible dialects names with the yue language code:\n",
      "[nan 'Hong Kong Cantonese' 'Yue Chinese (Hong Kong Cantonese)']\n",
      "\n",
      "Now comparing the phonemes seen in the data with the phonemes in phoible with the specific inventories ['Cantonese']:\n",
      "Unknown phonemes:\n",
      "{'aː': 126406, 'ɐ': 46520, 'ʊ': 13699, '˨˩': 77836, 'ɛː': 47941, 'ei': 45439, '˩˧': 75959, '˨': 72941, 'ɐi': 43195, '˧˥': 102154, 'ou': 45573, 'iː': 46626, 'ts': 44576, 'ɔː': 65925, 'aːĭ': 13980, 'ɵy': 15875, 'uː': 5381, 's': 36370, 'ɔːĭ': 4320, 'ɐu': 20118, 'ɪ': 15020, 'iːŭ': 7153, '̩': 22726, 'ɵ': 4825, 'tsʰ': 15823, 'aːŭ': 2959, 'yː': 10904, 'œː': 11062, 'uːĭ': 1767}\n",
      "Unseen phonemes:\n",
      "{'i', '˩', '˥˦', 'kʷ', 'a', 't̠ʃʰ', 'ʃ', 'l̥', 'kʷʰ', 't̠ʃ', 'ɔ', 'ŋ̩', 'æ', '˧˩̰'}\n"
     ]
    }
   ],
   "source": [
    "compare_phoneme_sets('Cantonese', 'yue', ['Cantonese'])"
   ]
  },
  {
   "cell_type": "code",
   "execution_count": null,
   "metadata": {},
   "outputs": [],
   "source": []
  }
 ],
 "metadata": {
  "kernelspec": {
   "display_name": "env",
   "language": "python",
   "name": "python3"
  },
  "language_info": {
   "codemirror_mode": {
    "name": "ipython",
    "version": 3
   },
   "file_extension": ".py",
   "mimetype": "text/x-python",
   "name": "python",
   "nbconvert_exporter": "python",
   "pygments_lexer": "ipython3",
   "version": "3.9.13"
  }
 },
 "nbformat": 4,
 "nbformat_minor": 2
}
